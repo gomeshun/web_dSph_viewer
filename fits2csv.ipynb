{
 "cells": [
  {
   "cell_type": "code",
   "execution_count": 2,
   "metadata": {},
   "outputs": [],
   "source": [
    "from astropy.table import Table\n",
    "from astropy.io import fits\n",
    "from astropy.coordinates import SkyCoord\n",
    "from astropy import units as u"
   ]
  },
  {
   "cell_type": "code",
   "execution_count": 3,
   "metadata": {},
   "outputs": [
    {
     "data": {
      "text/plain": [
       "None"
      ]
     },
     "metadata": {},
     "output_type": "display_data"
    }
   ],
   "source": [
    "with fits.open(\"NearbyGalaxies_Jan2021_PUBLIC.fits\") as hdul:\n",
    "    display(Table(hdul[1].data).to_pandas().to_json(\"NearbyGalaxies.json\",orient=\"records\"))"
   ]
  },
  {
   "cell_type": "code",
   "execution_count": 21,
   "metadata": {},
   "outputs": [
    {
     "name": "stdout",
     "output_type": "stream",
     "text": [
      "[266.40498829 318.00438151  86.40498829 138.00438151 266.40498829]\n",
      "[-28.93617776  48.32963721  28.93617776 -48.32963721 -28.93617776]\n",
      "[ 96.33728337 206.98913108 276.33728337  26.98913108  96.33728337]\n",
      "[-60.18855195 -11.42449097  60.18855195  11.42449097 -60.18855195]\n"
     ]
    }
   ],
   "source": [
    "sc_galplain = SkyCoord([0,90,180,270,360]*u.deg,0*u.deg,frame=\"galactic\").transform_to(\"icrs\")\n",
    "print(sc_galplain.ra.deg)\n",
    "print(sc_galplain.dec.deg)\n",
    "\n",
    "sc_ecl = SkyCoord([0,90,180,270,360]*u.deg,0*u.deg,frame=\"icrs\").transform_to(\"galactic\")\n",
    "print(sc_ecl.l.deg)\n",
    "print(sc_ecl.b.deg)\n"
   ]
  },
  {
   "cell_type": "code",
   "execution_count": 3,
   "metadata": {},
   "outputs": [
    {
     "name": "stderr",
     "output_type": "stream",
     "text": [
      "WARNING: VerifyWarning: It is strongly recommended that column names contain only upper and lower-case ASCII letters, digits, or underscores for maximum compatibility with other software (got '[Fe/H]'). [astropy.io.fits.column]\n"
     ]
    },
    {
     "name": "stdout",
     "output_type": "stream",
     "text": [
      "13:57:12.0\n",
      "26:48:0.0  \n"
     ]
    },
    {
     "data": {
      "text/html": [
       "<div><i>Table length=144</i>\n",
       "<table id=\"table140548413639072\" class=\"table-striped table-bordered table-condensed\">\n",
       "<thead><tr><th>GalaxyName</th><th>RA</th><th>Dec</th><th>EB-V</th><th>dmod</th><th>dmod+</th><th>dmod-</th><th>vh</th><th>vh+</th><th>vh-</th><th>Vmag</th><th>Vmag+</th><th>Vmag-</th><th>PA</th><th>PA+</th><th>PA-</th><th>e=1-b/a</th><th>e+</th><th>e-</th><th>muVo</th><th>muVo+</th><th>muVo-</th><th>rh</th><th>rh+</th><th>rh-</th><th>sigma_s</th><th>sigma_s+</th><th>sigma_s-</th><th>vrot_s</th><th>vrot_s+</th><th>vrot_s-</th><th>MHI</th><th>sigma_g</th><th>sigma_g+</th><th>sigma_g-</th><th>vrot_g</th><th>vrot_g+</th><th>vrot_g-</th><th>[Fe/H]</th><th>feh+</th><th>feh-</th><th>F</th><th>pmra</th><th>epmra+</th><th>epmra-</th><th>pmdec</th><th>epmdec+</th><th>epmdec-</th><th>References</th><th>RA_deg</th><th>Dec_deg</th><th>l_deg</th><th>b_deg</th></tr></thead>\n",
       "<thead><tr><th>str16</th><th>str10</th><th>str11</th><th>float32</th><th>float32</th><th>float32</th><th>float32</th><th>float32</th><th>float32</th><th>float32</th><th>float32</th><th>float32</th><th>float32</th><th>float32</th><th>float32</th><th>float32</th><th>float32</th><th>float32</th><th>float32</th><th>float32</th><th>float32</th><th>float32</th><th>float32</th><th>float32</th><th>float32</th><th>float32</th><th>float32</th><th>float32</th><th>float32</th><th>float32</th><th>float32</th><th>float32</th><th>float32</th><th>float32</th><th>float32</th><th>float32</th><th>float32</th><th>float32</th><th>float32</th><th>float32</th><th>float32</th><th>int16</th><th>float32</th><th>float32</th><th>float32</th><th>float32</th><th>float32</th><th>float32</th><th>str53</th><th>float64</th><th>float64</th><th>float64</th><th>float64</th></tr></thead>\n",
       "<tr><td>*Bootes3</td><td>13:57:12.0</td><td>26:48:0.0</td><td>0.021</td><td>18.35</td><td>0.1</td><td>0.1</td><td>197.5</td><td>3.8</td><td>3.8</td><td>12.6</td><td>0.5</td><td>0.5</td><td>90.0</td><td>999.0</td><td>999.0</td><td>0.5</td><td>999.0</td><td>999.0</td><td>31.3</td><td>0.3</td><td>0.3</td><td>999.0</td><td>999.0</td><td>999.0</td><td>14.0</td><td>3.2</td><td>3.2</td><td>999.0</td><td>999.0</td><td>999.0</td><td>999.0</td><td>999.0</td><td>999.0</td><td>999.0</td><td>999.0</td><td>999.0</td><td>999.0</td><td>-2.1</td><td>0.2</td><td>0.2</td><td>2</td><td>nan</td><td>nan</td><td>nan</td><td>nan</td><td>nan</td><td>nan</td><td>(14)(15)(99)</td><td>209.29999999999998</td><td>26.8</td><td>35.40523804627563</td><td>75.35347544349712</td></tr>\n",
       "<tr><td>*CanisMajor</td><td>7:12:35.0</td><td>-27:40:0.0</td><td>0.264</td><td>14.29</td><td>0.3</td><td>0.3</td><td>87.0</td><td>4.0</td><td>4.0</td><td>-0.1</td><td>0.8</td><td>0.8</td><td>123.0</td><td>999.0</td><td>999.0</td><td>999.0</td><td>999.0</td><td>999.0</td><td>24.0</td><td>0.6</td><td>0.6</td><td>999.0</td><td>999.0</td><td>999.0</td><td>20.0</td><td>3.0</td><td>3.0</td><td>999.0</td><td>999.0</td><td>999.0</td><td>999.0</td><td>999.0</td><td>999.0</td><td>999.0</td><td>999.0</td><td>999.0</td><td>999.0</td><td>-0.5</td><td>0.2</td><td>0.2</td><td>4</td><td>nan</td><td>nan</td><td>nan</td><td>nan</td><td>nan</td><td>nan</td><td>(1)(2)(95)(176)</td><td>108.14583333333331</td><td>-27.666666666666668</td><td>239.98886013952463</td><td>-7.995952669689363</td></tr>\n",
       "<tr><td>*Cetus2</td><td>1:17:52.8</td><td>-17:25:12.0</td><td>0.02</td><td>17.1</td><td>0.1</td><td>0.1</td><td>999.0</td><td>999.0</td><td>999.0</td><td>17.4</td><td>0.7</td><td>0.7</td><td>999.0</td><td>999.0</td><td>999.0</td><td>999.0</td><td>999.0</td><td>999.0</td><td>28.55</td><td>1.2</td><td>1.2</td><td>1.9</td><td>1.0</td><td>0.5</td><td>999.0</td><td>999.0</td><td>999.0</td><td>999.0</td><td>999.0</td><td>999.0</td><td>999.0</td><td>999.0</td><td>999.0</td><td>999.0</td><td>999.0</td><td>999.0</td><td>999.0</td><td>-1.28</td><td>0.07</td><td>0.07</td><td>5</td><td>2.84</td><td>0.05</td><td>0.07</td><td>0.46</td><td>0.06</td><td>0.07</td><td>(232)(260)(266)(267)</td><td>19.469999999999995</td><td>-17.42</td><td>156.46546325570097</td><td>-78.53133931090726</td></tr>\n",
       "<tr><td>*Columba1</td><td>5:31:26.4</td><td>-28:1:48.0</td><td>0.025</td><td>21.3</td><td>0.22</td><td>0.22</td><td>153.7</td><td>5.0</td><td>4.8</td><td>16.8</td><td>0.2</td><td>0.2</td><td>999.0</td><td>999.0</td><td>999.0</td><td>999.0</td><td>999.0</td><td>999.0</td><td>27.95</td><td>0.7</td><td>0.7</td><td>1.9</td><td>0.5</td><td>0.4</td><td>999.0</td><td>999.0</td><td>999.0</td><td>999.0</td><td>999.0</td><td>999.0</td><td>999.0</td><td>999.0</td><td>999.0</td><td>999.0</td><td>999.0</td><td>999.0</td><td>999.0</td><td>999.0</td><td>999.0</td><td>999.0</td><td>9</td><td>0.19</td><td>0.06</td><td>0.06</td><td>-0.36</td><td>0.06</td><td>0.06</td><td>(232)(248)(266)(267)</td><td>82.85999999999999</td><td>-28.029999999999998</td><td>231.6205323384462</td><td>-28.87919367236627</td></tr>\n",
       "<tr><td>*Draco2</td><td>15:52:47.6</td><td>64:33:55.0</td><td>0.018</td><td>16.67</td><td>0.05</td><td>0.05</td><td>-342.5</td><td>1.1</td><td>1.2</td><td>14.0</td><td>0.8</td><td>0.8</td><td>76.0</td><td>22.0</td><td>32.0</td><td>0.23</td><td>0.15</td><td>0.15</td><td>25.62</td><td>1.3</td><td>1.3</td><td>3.0</td><td>0.7</td><td>0.5</td><td>999.0</td><td>999.0</td><td>999.0</td><td>999.0</td><td>999.0</td><td>999.0</td><td>999.0</td><td>999.0</td><td>999.0</td><td>999.0</td><td>999.0</td><td>999.0</td><td>999.0</td><td>-2.7</td><td>0.1</td><td>0.1</td><td>5</td><td>1.08</td><td>0.07</td><td>0.07</td><td>0.91</td><td>0.08</td><td>0.08</td><td>(225)(259)(266)(267)</td><td>238.1983333333333</td><td>64.56527777777778</td><td>98.29423509258311</td><td>42.87998519914985</td></tr>\n",
       "<tr><td>*Eridanus3</td><td>2:22:45.5</td><td>-52:17:1.0</td><td>0.025</td><td>19.7</td><td>0.2</td><td>0.2</td><td>999.0</td><td>999.0</td><td>999.0</td><td>17.33</td><td>0.86</td><td>0.86</td><td>62.0</td><td>11.0</td><td>11.0</td><td>0.32</td><td>0.13</td><td>0.13</td><td>22.84</td><td>4.28</td><td>2.13</td><td>0.29</td><td>0.23</td><td>0.23</td><td>999.0</td><td>999.0</td><td>999.0</td><td>999.0</td><td>999.0</td><td>999.0</td><td>999.0</td><td>999.0</td><td>999.0</td><td>999.0</td><td>999.0</td><td>999.0</td><td>999.0</td><td>999.0</td><td>999.0</td><td>999.0</td><td>9</td><td>1.08</td><td>0.14</td><td>0.45</td><td>-0.49</td><td>0.17</td><td>0.13</td><td>(226)(227)(255)(266)(267)</td><td>35.68958333333333</td><td>-52.28361111111111</td><td>274.9594361896475</td><td>-59.59910167122621</td></tr>\n",
       "<tr><td>*Grus1</td><td>22:56:42.4</td><td>-50:9:48.0</td><td>0.008</td><td>20.4</td><td>0.2</td><td>0.2</td><td>-140.5</td><td>2.4</td><td>1.6</td><td>16.93</td><td>0.59</td><td>0.59</td><td>11.0</td><td>32.0</td><td>32.0</td><td>0.54</td><td>0.26</td><td>0.26</td><td>26.86</td><td>1.77</td><td>1.35</td><td>2.08</td><td>0.87</td><td>0.87</td><td>9.8</td><td>999.0</td><td>999.0</td><td>999.0</td><td>999.0</td><td>999.0</td><td>999.0</td><td>999.0</td><td>999.0</td><td>999.0</td><td>999.0</td><td>999.0</td><td>999.0</td><td>-1.42</td><td>0.55</td><td>0.42</td><td>2</td><td>0.07</td><td>0.05</td><td>0.05</td><td>-0.29</td><td>0.06</td><td>0.07</td><td>(226)(252)(255)(266)(267)</td><td>344.1766666666666</td><td>-50.163333333333334</td><td>338.67904011220406</td><td>-58.2448816945496</td></tr>\n",
       "<tr><td>*Grus2</td><td>22:4:4.8</td><td>-46:26:24.0</td><td>0.016</td><td>18.62</td><td>0.21</td><td>0.21</td><td>-110.0</td><td>0.5</td><td>0.5</td><td>14.7</td><td>0.2</td><td>0.2</td><td>999.0</td><td>999.0</td><td>999.0</td><td>999.0</td><td>999.0</td><td>999.0</td><td>28.35</td><td>0.7</td><td>0.7</td><td>6.0</td><td>0.9</td><td>0.5</td><td>999.0</td><td>999.0</td><td>999.0</td><td>999.0</td><td>999.0</td><td>999.0</td><td>999.0</td><td>999.0</td><td>999.0</td><td>999.0</td><td>999.0</td><td>999.0</td><td>999.0</td><td>-2.51</td><td>0.11</td><td>0.11</td><td>3</td><td>0.38</td><td>0.03</td><td>0.03</td><td>-1.46</td><td>0.04</td><td>0.04</td><td>(232)(262)(266)(267)</td><td>331.02</td><td>-46.44</td><td>351.1432136110955</td><td>-51.93864704059084</td></tr>\n",
       "<tr><td>*Horologium1</td><td>2:55:31.7</td><td>-54:7:8.0</td><td>0.014</td><td>19.5</td><td>0.2</td><td>0.2</td><td>112.8</td><td>2.5</td><td>2.6</td><td>15.95</td><td>0.56</td><td>0.56</td><td>50.0</td><td>26.0</td><td>26.0</td><td>0.31</td><td>0.16</td><td>0.16</td><td>26.28</td><td>1.1</td><td>0.99</td><td>1.54</td><td>0.34</td><td>0.34</td><td>4.9</td><td>2.8</td><td>0.9</td><td>999.0</td><td>999.0</td><td>999.0</td><td>999.0</td><td>999.0</td><td>999.0</td><td>999.0</td><td>999.0</td><td>999.0</td><td>999.0</td><td>-2.76</td><td>0.1</td><td>0.1</td><td>2</td><td>0.82</td><td>0.03</td><td>0.03</td><td>-0.61</td><td>0.03</td><td>0.03</td><td>(226)(227)(254)(255)(266)(267)</td><td>43.88208333333333</td><td>-54.11888888888889</td><td>271.387701478803</td><td>-54.73290552182492</td></tr>\n",
       "<tr><td>*Horologium2</td><td>3:16:32.1</td><td>-50:1:5.0</td><td>0.02</td><td>19.46</td><td>0.2</td><td>0.2</td><td>168.7</td><td>12.9</td><td>12.6</td><td>17.9</td><td>1.02</td><td>1.02</td><td>130.0</td><td>16.0</td><td>16.0</td><td>0.86</td><td>0.19</td><td>0.19</td><td>27.64</td><td>2.37</td><td>1.85</td><td>2.83</td><td>1.31</td><td>1.31</td><td>999.0</td><td>999.0</td><td>999.0</td><td>999.0</td><td>999.0</td><td>999.0</td><td>999.0</td><td>999.0</td><td>999.0</td><td>999.0</td><td>999.0</td><td>999.0</td><td>999.0</td><td>-2.1</td><td>999.0</td><td>999.0</td><td>5</td><td>0.76</td><td>0.2</td><td>0.29</td><td>-0.41</td><td>0.23</td><td>0.21</td><td>(230)(231)(248)(255)(266)(267)</td><td>49.13374999999999</td><td>-50.018055555555556</td><td>262.47190131802824</td><td>-54.13748262284087</td></tr>\n",
       "<tr><td>...</td><td>...</td><td>...</td><td>...</td><td>...</td><td>...</td><td>...</td><td>...</td><td>...</td><td>...</td><td>...</td><td>...</td><td>...</td><td>...</td><td>...</td><td>...</td><td>...</td><td>...</td><td>...</td><td>...</td><td>...</td><td>...</td><td>...</td><td>...</td><td>...</td><td>...</td><td>...</td><td>...</td><td>...</td><td>...</td><td>...</td><td>...</td><td>...</td><td>...</td><td>...</td><td>...</td><td>...</td><td>...</td><td>...</td><td>...</td><td>...</td><td>...</td><td>...</td><td>...</td><td>...</td><td>...</td><td>...</td><td>...</td><td>...</td><td>...</td><td>...</td><td>...</td><td>...</td></tr>\n",
       "<tr><td>UGC8508</td><td>13:30:44.4</td><td>54:54:36.0</td><td>0.015</td><td>27.06</td><td>0.03</td><td>0.03</td><td>56.0</td><td>5.0</td><td>5.0</td><td>13.7</td><td>0.1</td><td>0.1</td><td>120.0</td><td>2.0</td><td>2.0</td><td>0.45</td><td>0.05</td><td>0.05</td><td>21.5</td><td>0.2</td><td>0.2</td><td>0.42</td><td>0.04</td><td>0.04</td><td>999.0</td><td>999.0</td><td>999.0</td><td>999.0</td><td>999.0</td><td>999.0</td><td>29.0</td><td>999.0</td><td>999.0</td><td>999.0</td><td>31.2</td><td>2.3</td><td>2.3</td><td>-1.91</td><td>0.19</td><td>0.19</td><td>6</td><td>nan</td><td>nan</td><td>nan</td><td>nan</td><td>nan</td><td>nan</td><td>(89)(90)(124)(117)(90)(168)</td><td>202.685</td><td>54.91</td><td>111.14106541848199</td><td>61.30941250687863</td></tr>\n",
       "<tr><td>UGC9128</td><td>14:15:56.5</td><td>23:3:19.0</td><td>0.023</td><td>26.8</td><td>0.04</td><td>0.04</td><td>152.0</td><td>1.0</td><td>1.0</td><td>14.4</td><td>0.3</td><td>0.3</td><td>46.0</td><td>2.0</td><td>2.0</td><td>0.4</td><td>0.05</td><td>0.05</td><td>22.6</td><td>0.2</td><td>0.2</td><td>0.64</td><td>0.07</td><td>0.07</td><td>999.0</td><td>999.0</td><td>999.0</td><td>999.0</td><td>999.0</td><td>999.0</td><td>18.0</td><td>15.0</td><td>999.0</td><td>999.0</td><td>56.0</td><td>999.0</td><td>999.0</td><td>-2.33</td><td>0.24</td><td>0.24</td><td>6</td><td>nan</td><td>nan</td><td>nan</td><td>nan</td><td>nan</td><td>nan</td><td>(59)(63)(124)(117)</td><td>213.98541666666662</td><td>23.05527777777778</td><td>25.573233579139806</td><td>70.46481776115519</td></tr>\n",
       "<tr><td>UGCA86</td><td>3:59:48.3</td><td>67:8:19.0</td><td>0.938</td><td>27.36</td><td>0.17</td><td>0.17</td><td>67.0</td><td>4.0</td><td>4.0</td><td>14.2</td><td>999.0</td><td>999.0</td><td>25.0</td><td>1.0</td><td>1.0</td><td>0.32</td><td>0.03</td><td>0.03</td><td>22.8</td><td>999.0</td><td>999.0</td><td>0.94</td><td>999.0</td><td>999.0</td><td>999.0</td><td>999.0</td><td>999.0</td><td>999.0</td><td>999.0</td><td>999.0</td><td>860.0</td><td>8.8</td><td>1.0</td><td>1.0</td><td>122.0</td><td>5.0</td><td>5.0</td><td>999.0</td><td>999.0</td><td>999.0</td><td>9</td><td>nan</td><td>nan</td><td>nan</td><td>nan</td><td>nan</td><td>nan</td><td>(92)(41)(125)(119)(172)</td><td>59.951249999999995</td><td>67.13861111111112</td><td>139.76246810675028</td><td>10.647173786319327</td></tr>\n",
       "<tr><td>UKS2323-326</td><td>23:26:27.5</td><td>-32:23:20.0</td><td>0.015</td><td>26.72</td><td>0.09</td><td>0.09</td><td>62.0</td><td>5.0</td><td>5.0</td><td>13.5</td><td>0.2</td><td>0.2</td><td>120.0</td><td>4.0</td><td>4.0</td><td>0.1</td><td>0.01</td><td>0.01</td><td>22.9</td><td>0.2</td><td>0.2</td><td>0.9</td><td>0.1</td><td>0.1</td><td>999.0</td><td>999.0</td><td>999.0</td><td>999.0</td><td>999.0</td><td>999.0</td><td>17.0</td><td>999.0</td><td>999.0</td><td>999.0</td><td>999.0</td><td>999.0</td><td>999.0</td><td>-1.68</td><td>0.19</td><td>0.19</td><td>6</td><td>nan</td><td>nan</td><td>nan</td><td>nan</td><td>nan</td><td>nan</td><td>(59)(87)(122)(119)(166)(117)</td><td>351.61458333333326</td><td>-32.388888888888886</td><td>11.8670080617803</td><td>-70.85887066421238</td></tr>\n",
       "<tr><td>UrsaMajor(1)</td><td>10:34:52.8</td><td>51:55:12.0</td><td>0.02</td><td>19.93</td><td>0.1</td><td>0.1</td><td>-55.3</td><td>1.4</td><td>1.4</td><td>14.81</td><td>0.38</td><td>0.38</td><td>67.0</td><td>2.0</td><td>2.0</td><td>0.57</td><td>0.03</td><td>0.03</td><td>29.11</td><td>0.47</td><td>0.47</td><td>8.34</td><td>0.34</td><td>0.34</td><td>7.6</td><td>1.0</td><td>1.0</td><td>999.0</td><td>999.0</td><td>999.0</td><td>0.0</td><td>0.0</td><td>0.0</td><td>0.0</td><td>0.0</td><td>0.0</td><td>0.0</td><td>-2.18</td><td>0.04</td><td>0.04</td><td>2</td><td>-0.39</td><td>0.03</td><td>0.03</td><td>-0.63</td><td>0.03</td><td>0.03</td><td>(28)(8)(98)(130)(179)(180)(255)(266)(267)</td><td>158.71999999999997</td><td>51.919999999999995</td><td>159.43108301337637</td><td>54.41432967054266</td></tr>\n",
       "<tr><td>UrsaMajor2</td><td>8:51:30.0</td><td>63:7:48.0</td><td>0.094</td><td>17.5</td><td>0.3</td><td>0.3</td><td>-116.5</td><td>1.9</td><td>1.9</td><td>13.25</td><td>0.26</td><td>0.26</td><td>-77.0</td><td>2.0</td><td>2.0</td><td>0.56</td><td>0.03</td><td>0.03</td><td>28.07</td><td>0.33</td><td>0.33</td><td>13.95</td><td>0.46</td><td>0.46</td><td>6.7</td><td>1.4</td><td>1.4</td><td>0.0</td><td>0.0</td><td>0.0</td><td>0.0</td><td>0.0</td><td>0.0</td><td>0.0</td><td>0.0</td><td>0.0</td><td>0.0</td><td>-2.47</td><td>0.06</td><td>0.06</td><td>2</td><td>1.72</td><td>0.02</td><td>0.02</td><td>-1.89</td><td>0.03</td><td>0.03</td><td>(7)(8)(98)(130)(179)(180)(255)(266)(267)</td><td>132.87499999999997</td><td>63.13</td><td>152.4642549338653</td><td>37.44290116255896</td></tr>\n",
       "<tr><td>UrsaMinor</td><td>15:9:8.5</td><td>67:13:21.0</td><td>0.032</td><td>19.4</td><td>0.1</td><td>0.1</td><td>-246.9</td><td>0.1</td><td>0.1</td><td>10.37</td><td>0.05</td><td>0.05</td><td>50.0</td><td>1.0</td><td>1.0</td><td>0.55</td><td>0.01</td><td>0.01</td><td>25.77</td><td>0.08</td><td>0.08</td><td>17.32</td><td>0.11</td><td>0.11</td><td>9.5</td><td>1.2</td><td>1.2</td><td>0.0</td><td>0.0</td><td>0.0</td><td>0.0</td><td>0.0</td><td>0.0</td><td>0.0</td><td>0.0</td><td>0.0</td><td>0.0</td><td>-2.13</td><td>0.01</td><td>0.01</td><td>2</td><td>-0.124</td><td>0.004</td><td>0.004</td><td>0.078</td><td>0.004</td><td>0.004</td><td>(23)(24)(100)(135)(130)(180)(255)(266)(267)</td><td>227.28541666666666</td><td>67.2225</td><td>104.96541449756386</td><td>44.80035931341752</td></tr>\n",
       "<tr><td>Virgo1</td><td>12:0:9.1</td><td>0:40:51.6</td><td>0.024</td><td>19.8</td><td>0.2</td><td>0.1</td><td>999.0</td><td>999.0</td><td>999.0</td><td>19.47</td><td>0.75</td><td>0.87</td><td>62.0</td><td>8.0</td><td>13.0</td><td>0.59</td><td>0.12</td><td>0.14</td><td>29.49</td><td>1.25</td><td>1.37</td><td>1.76</td><td>0.49</td><td>0.4</td><td>999.0</td><td>999.0</td><td>999.0</td><td>999.0</td><td>999.0</td><td>999.0</td><td>999.0</td><td>999.0</td><td>999.0</td><td>999.0</td><td>999.0</td><td>999.0</td><td>999.0</td><td>999.0</td><td>999.0</td><td>999.0</td><td>9</td><td>-0.32</td><td>0.14</td><td>0.14</td><td>-0.62</td><td>0.1</td><td>0.08</td><td>(242)(241)(266)(267)</td><td>180.03791666666663</td><td>0.6809999999999999</td><td>275.8519956259406</td><td>60.8274007693869</td></tr>\n",
       "<tr><td>WLM</td><td>0:1:58.2</td><td>-15:27:39.0</td><td>0.038</td><td>24.85</td><td>0.08</td><td>0.08</td><td>-130.0</td><td>1.0</td><td>1.0</td><td>10.6</td><td>0.1</td><td>0.1</td><td>179.0</td><td>2.0</td><td>2.0</td><td>0.55</td><td>0.05</td><td>0.1</td><td>23.7</td><td>999.0</td><td>999.0</td><td>8.62</td><td>0.26</td><td>0.26</td><td>17.5</td><td>2.0</td><td>2.0</td><td>17.0</td><td>1.0</td><td>1.0</td><td>61.0</td><td>4.5</td><td>1.0</td><td>1.0</td><td>30.0</td><td>3.0</td><td>3.0</td><td>-1.28</td><td>0.02</td><td>0.02</td><td>3</td><td>0.11</td><td>0.08</td><td>0.08</td><td>-0.1</td><td>0.05</td><td>0.05</td><td>(40)(71)(41)(154)(205)(268)</td><td>0.49249999999999994</td><td>-15.460833333333333</td><td>75.86368625211458</td><td>-73.62435169871745</td></tr>\n",
       "<tr><td>Willman1</td><td>10:49:21.0</td><td>51:3:0.0</td><td>0.014</td><td>17.9</td><td>0.4</td><td>0.4</td><td>-12.3</td><td>2.5</td><td>2.5</td><td>15.37</td><td>0.74</td><td>0.74</td><td>74.0</td><td>4.0</td><td>4.0</td><td>0.47</td><td>0.06</td><td>0.06</td><td>25.87</td><td>0.94</td><td>0.94</td><td>2.53</td><td>0.22</td><td>0.22</td><td>4.3</td><td>2.3</td><td>1.3</td><td>999.0</td><td>999.0</td><td>999.0</td><td>0.0</td><td>0.0</td><td>0.0</td><td>0.0</td><td>0.0</td><td>0.0</td><td>0.0</td><td>-2.1</td><td>999.0</td><td>999.0</td><td>2</td><td>0.21</td><td>0.06</td><td>0.06</td><td>-1.08</td><td>0.09</td><td>0.09</td><td>(12)(13)(98)(130)(181)(255)(266)(267)</td><td>162.33749999999998</td><td>51.05</td><td>158.57696842579946</td><td>56.78018573825127</td></tr>\n",
       "</table></div>"
      ],
      "text/plain": [
       "<Table length=144>\n",
       "   GalaxyName        RA     ...       l_deg              b_deg       \n",
       "     str16         str10    ...      float64            float64      \n",
       "---------------- ---------- ... ------------------ ------------------\n",
       "*Bootes3         13:57:12.0 ...  35.40523804627563  75.35347544349712\n",
       "*CanisMajor      7:12:35.0  ... 239.98886013952463 -7.995952669689363\n",
       "*Cetus2          1:17:52.8  ... 156.46546325570097 -78.53133931090726\n",
       "*Columba1        5:31:26.4  ...  231.6205323384462 -28.87919367236627\n",
       "*Draco2          15:52:47.6 ...  98.29423509258311  42.87998519914985\n",
       "*Eridanus3       2:22:45.5  ...  274.9594361896475 -59.59910167122621\n",
       "*Grus1           22:56:42.4 ... 338.67904011220406  -58.2448816945496\n",
       "*Grus2           22:4:4.8   ...  351.1432136110955 -51.93864704059084\n",
       "*Horologium1     2:55:31.7  ...   271.387701478803 -54.73290552182492\n",
       "*Horologium2     3:16:32.1  ... 262.47190131802824 -54.13748262284087\n",
       "             ...        ... ...                ...                ...\n",
       "UGC8508          13:30:44.4 ... 111.14106541848199  61.30941250687863\n",
       "UGC9128          14:15:56.5 ... 25.573233579139806  70.46481776115519\n",
       "UGCA86           3:59:48.3  ... 139.76246810675028 10.647173786319327\n",
       "UKS2323-326      23:26:27.5 ...   11.8670080617803 -70.85887066421238\n",
       "UrsaMajor(1)     10:34:52.8 ... 159.43108301337637  54.41432967054266\n",
       "UrsaMajor2       8:51:30.0  ...  152.4642549338653  37.44290116255896\n",
       "UrsaMinor        15:9:8.5   ... 104.96541449756386  44.80035931341752\n",
       "Virgo1           12:0:9.1   ...  275.8519956259406   60.8274007693869\n",
       "WLM              0:1:58.2   ...  75.86368625211458 -73.62435169871745\n",
       "Willman1         10:49:21.0 ... 158.57696842579946  56.78018573825127"
      ]
     },
     "metadata": {},
     "output_type": "display_data"
    }
   ],
   "source": [
    "with fits.open(\"NearbyGalaxies_Jan2021_PUBLIC.fits\") as hdul:\n",
    "    tab = Table(hdul[1].data)\n",
    "    print(tab[\"RA\"][0])\n",
    "    print(tab[\"Dec\"][0])\n",
    "    sc = SkyCoord(ra=tab[\"RA\"],dec=tab[\"Dec\"],unit=(u.hourangle,u.deg))\n",
    "    tab[\"RA_deg\"] = sc.ra.deg\n",
    "    tab[\"Dec_deg\"] = sc.dec.deg\n",
    "    tab[\"l_deg\"] = sc.galactic.l.deg\n",
    "    tab[\"b_deg\"] = sc.galactic.b.deg\n",
    "    # tab.to_pandas().to_json(\"NearbyGalaxies_split.json\",orient=\"split\")\n",
    "    # tab.to_pandas().to_json(\"NearbyGalaxies_records.json\",orient=\"records\")\n",
    "    # tab.to_pandas().to_json(\"NearbyGalaxies.json\")\n",
    "    tab.to_pandas().to_html(\"NearbyGalaxies.html\")\n",
    "    display(tab)"
   ]
  },
  {
   "cell_type": "code",
   "execution_count": 8,
   "metadata": {},
   "outputs": [
    {
     "name": "stdout",
     "output_type": "stream",
     "text": [
      "f:1\n"
     ]
    },
    {
     "name": "stderr",
     "output_type": "stream",
     "text": [
      "WARNING: VerifyWarning: It is strongly recommended that column names contain only upper and lower-case ASCII letters, digits, or underscores for maximum compatibility with other software (got '[Fe/H]'). [astropy.io.fits.column]\n"
     ]
    },
    {
     "data": {
      "text/html": [
       "<div>\n",
       "<style scoped>\n",
       "    .dataframe tbody tr th:only-of-type {\n",
       "        vertical-align: middle;\n",
       "    }\n",
       "\n",
       "    .dataframe tbody tr th {\n",
       "        vertical-align: top;\n",
       "    }\n",
       "\n",
       "    .dataframe thead th {\n",
       "        text-align: right;\n",
       "    }\n",
       "</style>\n",
       "<table border=\"1\" class=\"dataframe\">\n",
       "  <thead>\n",
       "    <tr style=\"text-align: right;\">\n",
       "      <th></th>\n",
       "      <th>GalaxyName</th>\n",
       "      <th>RA</th>\n",
       "      <th>Dec</th>\n",
       "      <th>EB-V</th>\n",
       "      <th>dmod</th>\n",
       "      <th>dmod+</th>\n",
       "      <th>dmod-</th>\n",
       "      <th>vh</th>\n",
       "      <th>vh+</th>\n",
       "      <th>vh-</th>\n",
       "      <th>...</th>\n",
       "      <th>feh+</th>\n",
       "      <th>feh-</th>\n",
       "      <th>F</th>\n",
       "      <th>pmra</th>\n",
       "      <th>epmra+</th>\n",
       "      <th>epmra-</th>\n",
       "      <th>pmdec</th>\n",
       "      <th>epmdec+</th>\n",
       "      <th>epmdec-</th>\n",
       "      <th>References</th>\n",
       "    </tr>\n",
       "  </thead>\n",
       "  <tbody>\n",
       "    <tr>\n",
       "      <th>123</th>\n",
       "      <td>SagittariusdSph</td>\n",
       "      <td>18:55:19.5</td>\n",
       "      <td>-30:32:43.0</td>\n",
       "      <td>0.153</td>\n",
       "      <td>17.1</td>\n",
       "      <td>0.15</td>\n",
       "      <td>0.15</td>\n",
       "      <td>140.0</td>\n",
       "      <td>2.0</td>\n",
       "      <td>2.0</td>\n",
       "      <td>...</td>\n",
       "      <td>0.2</td>\n",
       "      <td>0.2</td>\n",
       "      <td>1</td>\n",
       "      <td>NaN</td>\n",
       "      <td>NaN</td>\n",
       "      <td>NaN</td>\n",
       "      <td>NaN</td>\n",
       "      <td>NaN</td>\n",
       "      <td>NaN</td>\n",
       "      <td>(3)(4)(96)(97)(128)(129)(130)(177)            ...</td>\n",
       "    </tr>\n",
       "  </tbody>\n",
       "</table>\n",
       "<p>1 rows × 49 columns</p>\n",
       "</div>"
      ],
      "text/plain": [
       "           GalaxyName          RA          Dec   EB-V  dmod  dmod+  dmod-  \\\n",
       "123  SagittariusdSph   18:55:19.5  -30:32:43.0  0.153  17.1   0.15   0.15   \n",
       "\n",
       "        vh  vh+  vh-  ...  feh+  feh-  F  pmra  epmra+  epmra-  pmdec  \\\n",
       "123  140.0  2.0  2.0  ...   0.2   0.2  1   NaN     NaN     NaN    NaN   \n",
       "\n",
       "     epmdec+  epmdec-                                         References  \n",
       "123      NaN      NaN  (3)(4)(96)(97)(128)(129)(130)(177)            ...  \n",
       "\n",
       "[1 rows x 49 columns]"
      ]
     },
     "metadata": {},
     "output_type": "display_data"
    },
    {
     "name": "stdout",
     "output_type": "stream",
     "text": [
      "f:2\n"
     ]
    },
    {
     "data": {
      "text/html": [
       "<div>\n",
       "<style scoped>\n",
       "    .dataframe tbody tr th:only-of-type {\n",
       "        vertical-align: middle;\n",
       "    }\n",
       "\n",
       "    .dataframe tbody tr th {\n",
       "        vertical-align: top;\n",
       "    }\n",
       "\n",
       "    .dataframe thead th {\n",
       "        text-align: right;\n",
       "    }\n",
       "</style>\n",
       "<table border=\"1\" class=\"dataframe\">\n",
       "  <thead>\n",
       "    <tr style=\"text-align: right;\">\n",
       "      <th></th>\n",
       "      <th>GalaxyName</th>\n",
       "      <th>RA</th>\n",
       "      <th>Dec</th>\n",
       "      <th>EB-V</th>\n",
       "      <th>dmod</th>\n",
       "      <th>dmod+</th>\n",
       "      <th>dmod-</th>\n",
       "      <th>vh</th>\n",
       "      <th>vh+</th>\n",
       "      <th>vh-</th>\n",
       "      <th>...</th>\n",
       "      <th>feh+</th>\n",
       "      <th>feh-</th>\n",
       "      <th>F</th>\n",
       "      <th>pmra</th>\n",
       "      <th>epmra+</th>\n",
       "      <th>epmra-</th>\n",
       "      <th>pmdec</th>\n",
       "      <th>epmdec+</th>\n",
       "      <th>epmdec-</th>\n",
       "      <th>References</th>\n",
       "    </tr>\n",
       "  </thead>\n",
       "  <tbody>\n",
       "    <tr>\n",
       "      <th>0</th>\n",
       "      <td>*Bootes3</td>\n",
       "      <td>13:57:12.0</td>\n",
       "      <td>26:48:0.0</td>\n",
       "      <td>0.021</td>\n",
       "      <td>18.350000</td>\n",
       "      <td>0.10</td>\n",
       "      <td>0.10</td>\n",
       "      <td>197.500000</td>\n",
       "      <td>3.8</td>\n",
       "      <td>3.8</td>\n",
       "      <td>...</td>\n",
       "      <td>0.20</td>\n",
       "      <td>0.20</td>\n",
       "      <td>2</td>\n",
       "      <td>NaN</td>\n",
       "      <td>NaN</td>\n",
       "      <td>NaN</td>\n",
       "      <td>NaN</td>\n",
       "      <td>NaN</td>\n",
       "      <td>NaN</td>\n",
       "      <td>(14)(15)(99)                                  ...</td>\n",
       "    </tr>\n",
       "    <tr>\n",
       "      <th>6</th>\n",
       "      <td>*Grus1</td>\n",
       "      <td>22:56:42.4</td>\n",
       "      <td>-50:9:48.0</td>\n",
       "      <td>0.008</td>\n",
       "      <td>20.400000</td>\n",
       "      <td>0.20</td>\n",
       "      <td>0.20</td>\n",
       "      <td>-140.500000</td>\n",
       "      <td>2.4</td>\n",
       "      <td>1.6</td>\n",
       "      <td>...</td>\n",
       "      <td>0.55</td>\n",
       "      <td>0.42</td>\n",
       "      <td>2</td>\n",
       "      <td>0.070</td>\n",
       "      <td>0.050</td>\n",
       "      <td>0.050</td>\n",
       "      <td>-0.290</td>\n",
       "      <td>0.060</td>\n",
       "      <td>0.070</td>\n",
       "      <td>(226)(252)(255)(266)(267)                     ...</td>\n",
       "    </tr>\n",
       "    <tr>\n",
       "      <th>8</th>\n",
       "      <td>*Horologium1</td>\n",
       "      <td>2:55:31.7</td>\n",
       "      <td>-54:7:8.0</td>\n",
       "      <td>0.014</td>\n",
       "      <td>19.500000</td>\n",
       "      <td>0.20</td>\n",
       "      <td>0.20</td>\n",
       "      <td>112.800003</td>\n",
       "      <td>2.5</td>\n",
       "      <td>2.6</td>\n",
       "      <td>...</td>\n",
       "      <td>0.10</td>\n",
       "      <td>0.10</td>\n",
       "      <td>2</td>\n",
       "      <td>0.820</td>\n",
       "      <td>0.030</td>\n",
       "      <td>0.030</td>\n",
       "      <td>-0.610</td>\n",
       "      <td>0.030</td>\n",
       "      <td>0.030</td>\n",
       "      <td>(226)(227)(254)(255)(266)(267)                ...</td>\n",
       "    </tr>\n",
       "    <tr>\n",
       "      <th>10</th>\n",
       "      <td>*Hydra1</td>\n",
       "      <td>8:55:36.0</td>\n",
       "      <td>3:36:0.0</td>\n",
       "      <td>0.039</td>\n",
       "      <td>15.520000</td>\n",
       "      <td>0.05</td>\n",
       "      <td>0.05</td>\n",
       "      <td>89.400002</td>\n",
       "      <td>1.4</td>\n",
       "      <td>1.4</td>\n",
       "      <td>...</td>\n",
       "      <td>0.03</td>\n",
       "      <td>0.03</td>\n",
       "      <td>2</td>\n",
       "      <td>NaN</td>\n",
       "      <td>NaN</td>\n",
       "      <td>NaN</td>\n",
       "      <td>NaN</td>\n",
       "      <td>NaN</td>\n",
       "      <td>NaN</td>\n",
       "      <td>(243)(244)                                    ...</td>\n",
       "    </tr>\n",
       "    <tr>\n",
       "      <th>16</th>\n",
       "      <td>*Reticulum2</td>\n",
       "      <td>3:35:42.1</td>\n",
       "      <td>-54:2:57.0</td>\n",
       "      <td>0.018</td>\n",
       "      <td>17.400000</td>\n",
       "      <td>0.20</td>\n",
       "      <td>0.20</td>\n",
       "      <td>64.699997</td>\n",
       "      <td>1.3</td>\n",
       "      <td>0.8</td>\n",
       "      <td>...</td>\n",
       "      <td>0.09</td>\n",
       "      <td>0.10</td>\n",
       "      <td>2</td>\n",
       "      <td>2.390</td>\n",
       "      <td>0.010</td>\n",
       "      <td>0.010</td>\n",
       "      <td>-1.360</td>\n",
       "      <td>0.020</td>\n",
       "      <td>0.020</td>\n",
       "      <td>(226)(227)(254)(255)(266)(267)                ...</td>\n",
       "    </tr>\n",
       "    <tr>\n",
       "      <th>55</th>\n",
       "      <td>Antlia2</td>\n",
       "      <td>9:35:32.8</td>\n",
       "      <td>-36:46:2.0</td>\n",
       "      <td>0.150</td>\n",
       "      <td>20.600000</td>\n",
       "      <td>0.11</td>\n",
       "      <td>0.11</td>\n",
       "      <td>290.700012</td>\n",
       "      <td>0.5</td>\n",
       "      <td>0.5</td>\n",
       "      <td>...</td>\n",
       "      <td>0.04</td>\n",
       "      <td>0.04</td>\n",
       "      <td>2</td>\n",
       "      <td>-0.090</td>\n",
       "      <td>0.010</td>\n",
       "      <td>0.010</td>\n",
       "      <td>0.120</td>\n",
       "      <td>0.010</td>\n",
       "      <td>0.010</td>\n",
       "      <td>(236)(266)(267)                               ...</td>\n",
       "    </tr>\n",
       "    <tr>\n",
       "      <th>58</th>\n",
       "      <td>Aquarius2</td>\n",
       "      <td>22:33:55.5</td>\n",
       "      <td>-9:19:39.0</td>\n",
       "      <td>0.067</td>\n",
       "      <td>20.160000</td>\n",
       "      <td>0.07</td>\n",
       "      <td>0.07</td>\n",
       "      <td>-71.099998</td>\n",
       "      <td>2.5</td>\n",
       "      <td>2.5</td>\n",
       "      <td>...</td>\n",
       "      <td>0.50</td>\n",
       "      <td>0.50</td>\n",
       "      <td>2</td>\n",
       "      <td>-0.170</td>\n",
       "      <td>0.100</td>\n",
       "      <td>0.100</td>\n",
       "      <td>-0.430</td>\n",
       "      <td>0.080</td>\n",
       "      <td>0.080</td>\n",
       "      <td>(238)(266)(267)                               ...</td>\n",
       "    </tr>\n",
       "    <tr>\n",
       "      <th>59</th>\n",
       "      <td>Bootes(1)</td>\n",
       "      <td>14:0:6.0</td>\n",
       "      <td>14:30:0.0</td>\n",
       "      <td>0.017</td>\n",
       "      <td>19.110001</td>\n",
       "      <td>0.08</td>\n",
       "      <td>0.08</td>\n",
       "      <td>99.000000</td>\n",
       "      <td>2.1</td>\n",
       "      <td>2.1</td>\n",
       "      <td>...</td>\n",
       "      <td>0.11</td>\n",
       "      <td>0.11</td>\n",
       "      <td>2</td>\n",
       "      <td>-0.390</td>\n",
       "      <td>0.010</td>\n",
       "      <td>0.010</td>\n",
       "      <td>-1.060</td>\n",
       "      <td>0.010</td>\n",
       "      <td>0.010</td>\n",
       "      <td>(20)(13)(98)(134)(130)(178)(255)(266)(267)    ...</td>\n",
       "    </tr>\n",
       "    <tr>\n",
       "      <th>62</th>\n",
       "      <td>CanesVenatici(1)</td>\n",
       "      <td>13:28:3.5</td>\n",
       "      <td>33:33:21.0</td>\n",
       "      <td>0.014</td>\n",
       "      <td>21.690001</td>\n",
       "      <td>0.10</td>\n",
       "      <td>0.10</td>\n",
       "      <td>30.900000</td>\n",
       "      <td>0.6</td>\n",
       "      <td>0.6</td>\n",
       "      <td>...</td>\n",
       "      <td>0.01</td>\n",
       "      <td>0.01</td>\n",
       "      <td>2</td>\n",
       "      <td>-0.110</td>\n",
       "      <td>0.020</td>\n",
       "      <td>0.020</td>\n",
       "      <td>-0.120</td>\n",
       "      <td>0.020</td>\n",
       "      <td>0.020</td>\n",
       "      <td>(36)(8)(98)(130)(179)(180)(266)(267)          ...</td>\n",
       "    </tr>\n",
       "    <tr>\n",
       "      <th>63</th>\n",
       "      <td>CanesVenatici2</td>\n",
       "      <td>12:57:10.0</td>\n",
       "      <td>34:19:15.0</td>\n",
       "      <td>0.010</td>\n",
       "      <td>21.020000</td>\n",
       "      <td>0.06</td>\n",
       "      <td>0.06</td>\n",
       "      <td>-128.899994</td>\n",
       "      <td>1.2</td>\n",
       "      <td>1.2</td>\n",
       "      <td>...</td>\n",
       "      <td>0.05</td>\n",
       "      <td>0.05</td>\n",
       "      <td>2</td>\n",
       "      <td>-0.150</td>\n",
       "      <td>0.070</td>\n",
       "      <td>0.070</td>\n",
       "      <td>-0.270</td>\n",
       "      <td>0.060</td>\n",
       "      <td>0.060</td>\n",
       "      <td>(33)(8)(98)(130)(179)(180)(255)(266)(267)     ...</td>\n",
       "    </tr>\n",
       "    <tr>\n",
       "      <th>70</th>\n",
       "      <td>ComaBerenices</td>\n",
       "      <td>12:26:59.0</td>\n",
       "      <td>23:54:15.0</td>\n",
       "      <td>0.017</td>\n",
       "      <td>18.200001</td>\n",
       "      <td>0.20</td>\n",
       "      <td>0.20</td>\n",
       "      <td>98.099998</td>\n",
       "      <td>0.9</td>\n",
       "      <td>0.9</td>\n",
       "      <td>...</td>\n",
       "      <td>0.05</td>\n",
       "      <td>0.05</td>\n",
       "      <td>2</td>\n",
       "      <td>0.410</td>\n",
       "      <td>0.020</td>\n",
       "      <td>0.020</td>\n",
       "      <td>-1.710</td>\n",
       "      <td>0.020</td>\n",
       "      <td>0.020</td>\n",
       "      <td>(5)(8)(98)(130)(179)(180)(255)(266)(267)      ...</td>\n",
       "    </tr>\n",
       "    <tr>\n",
       "      <th>71</th>\n",
       "      <td>Crater2</td>\n",
       "      <td>11:49:14.4</td>\n",
       "      <td>-18:24:47.0</td>\n",
       "      <td>0.030</td>\n",
       "      <td>20.350000</td>\n",
       "      <td>0.02</td>\n",
       "      <td>0.02</td>\n",
       "      <td>87.500000</td>\n",
       "      <td>0.4</td>\n",
       "      <td>0.4</td>\n",
       "      <td>...</td>\n",
       "      <td>0.10</td>\n",
       "      <td>0.10</td>\n",
       "      <td>2</td>\n",
       "      <td>-0.070</td>\n",
       "      <td>0.020</td>\n",
       "      <td>0.020</td>\n",
       "      <td>-0.110</td>\n",
       "      <td>0.010</td>\n",
       "      <td>0.010</td>\n",
       "      <td>(245)(247)(266)(267)                          ...</td>\n",
       "    </tr>\n",
       "    <tr>\n",
       "      <th>77</th>\n",
       "      <td>Draco</td>\n",
       "      <td>17:20:12.4</td>\n",
       "      <td>57:54:55.0</td>\n",
       "      <td>0.027</td>\n",
       "      <td>19.400000</td>\n",
       "      <td>0.17</td>\n",
       "      <td>0.17</td>\n",
       "      <td>-291.000000</td>\n",
       "      <td>0.1</td>\n",
       "      <td>0.1</td>\n",
       "      <td>...</td>\n",
       "      <td>0.01</td>\n",
       "      <td>0.01</td>\n",
       "      <td>2</td>\n",
       "      <td>0.042</td>\n",
       "      <td>0.005</td>\n",
       "      <td>0.005</td>\n",
       "      <td>-0.190</td>\n",
       "      <td>0.010</td>\n",
       "      <td>0.010</td>\n",
       "      <td>(21)(22)(98)(135)(130)(180)(255)(266)(267)    ...</td>\n",
       "    </tr>\n",
       "    <tr>\n",
       "      <th>81</th>\n",
       "      <td>Fornax</td>\n",
       "      <td>2:39:59.3</td>\n",
       "      <td>-34:26:57.0</td>\n",
       "      <td>0.021</td>\n",
       "      <td>20.840000</td>\n",
       "      <td>0.18</td>\n",
       "      <td>0.18</td>\n",
       "      <td>55.299999</td>\n",
       "      <td>0.1</td>\n",
       "      <td>0.1</td>\n",
       "      <td>...</td>\n",
       "      <td>0.01</td>\n",
       "      <td>0.01</td>\n",
       "      <td>2</td>\n",
       "      <td>0.382</td>\n",
       "      <td>0.001</td>\n",
       "      <td>0.001</td>\n",
       "      <td>-0.359</td>\n",
       "      <td>0.002</td>\n",
       "      <td>0.002</td>\n",
       "      <td>(29)(26)(100)(136)(138)(130)(180)(255)(266)(26...</td>\n",
       "    </tr>\n",
       "    <tr>\n",
       "      <th>85</th>\n",
       "      <td>Hercules</td>\n",
       "      <td>16:31:2.0</td>\n",
       "      <td>12:47:30.0</td>\n",
       "      <td>0.062</td>\n",
       "      <td>20.600000</td>\n",
       "      <td>0.20</td>\n",
       "      <td>0.20</td>\n",
       "      <td>45.200001</td>\n",
       "      <td>1.1</td>\n",
       "      <td>1.1</td>\n",
       "      <td>...</td>\n",
       "      <td>0.04</td>\n",
       "      <td>0.04</td>\n",
       "      <td>2</td>\n",
       "      <td>-0.030</td>\n",
       "      <td>0.040</td>\n",
       "      <td>0.040</td>\n",
       "      <td>-0.360</td>\n",
       "      <td>0.030</td>\n",
       "      <td>0.030</td>\n",
       "      <td>(30)(31)(98)(130)(179)(180)(255)(266)(267)    ...</td>\n",
       "    </tr>\n",
       "    <tr>\n",
       "      <th>86</th>\n",
       "      <td>Hydra2</td>\n",
       "      <td>12:21:42.1</td>\n",
       "      <td>-31:59:7.0</td>\n",
       "      <td>0.061</td>\n",
       "      <td>20.639999</td>\n",
       "      <td>0.16</td>\n",
       "      <td>0.16</td>\n",
       "      <td>303.100006</td>\n",
       "      <td>1.4</td>\n",
       "      <td>1.4</td>\n",
       "      <td>...</td>\n",
       "      <td>0.08</td>\n",
       "      <td>0.08</td>\n",
       "      <td>2</td>\n",
       "      <td>-0.340</td>\n",
       "      <td>0.100</td>\n",
       "      <td>0.100</td>\n",
       "      <td>-0.090</td>\n",
       "      <td>0.080</td>\n",
       "      <td>0.090</td>\n",
       "      <td>(222)(223)(255)(266)(267)                     ...</td>\n",
       "    </tr>\n",
       "    <tr>\n",
       "      <th>87</th>\n",
       "      <td>Hydrus1</td>\n",
       "      <td>2:29:33.4</td>\n",
       "      <td>-79:18:32.0</td>\n",
       "      <td>0.091</td>\n",
       "      <td>17.200001</td>\n",
       "      <td>0.04</td>\n",
       "      <td>0.04</td>\n",
       "      <td>80.400002</td>\n",
       "      <td>0.6</td>\n",
       "      <td>0.6</td>\n",
       "      <td>...</td>\n",
       "      <td>0.09</td>\n",
       "      <td>0.09</td>\n",
       "      <td>2</td>\n",
       "      <td>3.790</td>\n",
       "      <td>0.010</td>\n",
       "      <td>0.010</td>\n",
       "      <td>-1.500</td>\n",
       "      <td>0.010</td>\n",
       "      <td>0.010</td>\n",
       "      <td>(235)(266)(267)                               ...</td>\n",
       "    </tr>\n",
       "    <tr>\n",
       "      <th>101</th>\n",
       "      <td>Leo1</td>\n",
       "      <td>10:8:28.1</td>\n",
       "      <td>12:18:23.0</td>\n",
       "      <td>0.036</td>\n",
       "      <td>22.020000</td>\n",
       "      <td>0.13</td>\n",
       "      <td>0.13</td>\n",
       "      <td>282.500000</td>\n",
       "      <td>0.1</td>\n",
       "      <td>0.1</td>\n",
       "      <td>...</td>\n",
       "      <td>0.01</td>\n",
       "      <td>0.01</td>\n",
       "      <td>2</td>\n",
       "      <td>-0.050</td>\n",
       "      <td>0.010</td>\n",
       "      <td>0.010</td>\n",
       "      <td>-0.110</td>\n",
       "      <td>0.010</td>\n",
       "      <td>0.010</td>\n",
       "      <td>(38)(39)(100)(130)(180)(255)(266)(267)        ...</td>\n",
       "    </tr>\n",
       "    <tr>\n",
       "      <th>102</th>\n",
       "      <td>Leo2</td>\n",
       "      <td>11:13:28.8</td>\n",
       "      <td>22:9:6.0</td>\n",
       "      <td>0.017</td>\n",
       "      <td>21.840000</td>\n",
       "      <td>0.13</td>\n",
       "      <td>0.13</td>\n",
       "      <td>78.000000</td>\n",
       "      <td>0.1</td>\n",
       "      <td>0.1</td>\n",
       "      <td>...</td>\n",
       "      <td>0.01</td>\n",
       "      <td>0.01</td>\n",
       "      <td>2</td>\n",
       "      <td>-0.140</td>\n",
       "      <td>0.020</td>\n",
       "      <td>0.020</td>\n",
       "      <td>-0.120</td>\n",
       "      <td>0.020</td>\n",
       "      <td>0.020</td>\n",
       "      <td>(37)(22)(100)(130)(180)(255)(266)(267)        ...</td>\n",
       "    </tr>\n",
       "    <tr>\n",
       "      <th>103</th>\n",
       "      <td>Leo4</td>\n",
       "      <td>11:32:57.0</td>\n",
       "      <td>-0:32:0.0</td>\n",
       "      <td>0.026</td>\n",
       "      <td>20.940001</td>\n",
       "      <td>0.09</td>\n",
       "      <td>0.09</td>\n",
       "      <td>132.300003</td>\n",
       "      <td>1.4</td>\n",
       "      <td>1.4</td>\n",
       "      <td>...</td>\n",
       "      <td>0.07</td>\n",
       "      <td>0.07</td>\n",
       "      <td>2</td>\n",
       "      <td>-0.080</td>\n",
       "      <td>0.090</td>\n",
       "      <td>0.090</td>\n",
       "      <td>-0.210</td>\n",
       "      <td>0.080</td>\n",
       "      <td>0.080</td>\n",
       "      <td>(32)(8)(101)(130)(179)(180)(255)(266)(267)    ...</td>\n",
       "    </tr>\n",
       "    <tr>\n",
       "      <th>107</th>\n",
       "      <td>LeoT</td>\n",
       "      <td>9:34:53.4</td>\n",
       "      <td>17:3:5.0</td>\n",
       "      <td>0.031</td>\n",
       "      <td>23.100000</td>\n",
       "      <td>0.10</td>\n",
       "      <td>0.10</td>\n",
       "      <td>38.099998</td>\n",
       "      <td>2.0</td>\n",
       "      <td>2.0</td>\n",
       "      <td>...</td>\n",
       "      <td>0.05</td>\n",
       "      <td>0.05</td>\n",
       "      <td>2</td>\n",
       "      <td>0.180</td>\n",
       "      <td>0.280</td>\n",
       "      <td>0.290</td>\n",
       "      <td>-0.080</td>\n",
       "      <td>0.170</td>\n",
       "      <td>0.160</td>\n",
       "      <td>(70)(8)(111)(153)(179)(180)(255)(266)(267)    ...</td>\n",
       "    </tr>\n",
       "    <tr>\n",
       "      <th>120</th>\n",
       "      <td>Pisces2</td>\n",
       "      <td>22:58:31.0</td>\n",
       "      <td>5:57:9.0</td>\n",
       "      <td>0.065</td>\n",
       "      <td>21.309999</td>\n",
       "      <td>0.17</td>\n",
       "      <td>0.17</td>\n",
       "      <td>-226.500000</td>\n",
       "      <td>2.7</td>\n",
       "      <td>2.7</td>\n",
       "      <td>...</td>\n",
       "      <td>0.07</td>\n",
       "      <td>0.07</td>\n",
       "      <td>2</td>\n",
       "      <td>0.110</td>\n",
       "      <td>0.110</td>\n",
       "      <td>0.110</td>\n",
       "      <td>-0.240</td>\n",
       "      <td>0.120</td>\n",
       "      <td>0.110</td>\n",
       "      <td>(35)(223)(255)(258)(266)(267)                 ...</td>\n",
       "    </tr>\n",
       "    <tr>\n",
       "      <th>124</th>\n",
       "      <td>Sculptor</td>\n",
       "      <td>1:0:9.4</td>\n",
       "      <td>-33:42:33.0</td>\n",
       "      <td>0.018</td>\n",
       "      <td>19.670000</td>\n",
       "      <td>0.14</td>\n",
       "      <td>0.14</td>\n",
       "      <td>111.400002</td>\n",
       "      <td>0.1</td>\n",
       "      <td>0.1</td>\n",
       "      <td>...</td>\n",
       "      <td>0.01</td>\n",
       "      <td>0.01</td>\n",
       "      <td>2</td>\n",
       "      <td>0.099</td>\n",
       "      <td>0.002</td>\n",
       "      <td>0.002</td>\n",
       "      <td>-0.160</td>\n",
       "      <td>0.002</td>\n",
       "      <td>0.002</td>\n",
       "      <td>(25)(26)(100)(136)(137)(130)(187)(180)(255)(26...</td>\n",
       "    </tr>\n",
       "    <tr>\n",
       "      <th>125</th>\n",
       "      <td>Segue(1)</td>\n",
       "      <td>10:7:4.0</td>\n",
       "      <td>16:4:55.0</td>\n",
       "      <td>0.031</td>\n",
       "      <td>16.799999</td>\n",
       "      <td>0.20</td>\n",
       "      <td>0.20</td>\n",
       "      <td>208.500000</td>\n",
       "      <td>0.9</td>\n",
       "      <td>0.9</td>\n",
       "      <td>...</td>\n",
       "      <td>0.40</td>\n",
       "      <td>0.40</td>\n",
       "      <td>2</td>\n",
       "      <td>-2.210</td>\n",
       "      <td>0.060</td>\n",
       "      <td>0.060</td>\n",
       "      <td>-3.340</td>\n",
       "      <td>0.050</td>\n",
       "      <td>0.050</td>\n",
       "      <td>(5)(6)(98)(130)(178)(255)(266)(267)           ...</td>\n",
       "    </tr>\n",
       "    <tr>\n",
       "      <th>126</th>\n",
       "      <td>Segue2</td>\n",
       "      <td>2:19:16.0</td>\n",
       "      <td>20:10:31.0</td>\n",
       "      <td>0.185</td>\n",
       "      <td>17.700001</td>\n",
       "      <td>0.10</td>\n",
       "      <td>0.10</td>\n",
       "      <td>-39.200001</td>\n",
       "      <td>2.5</td>\n",
       "      <td>2.5</td>\n",
       "      <td>...</td>\n",
       "      <td>0.13</td>\n",
       "      <td>0.13</td>\n",
       "      <td>2</td>\n",
       "      <td>1.470</td>\n",
       "      <td>0.040</td>\n",
       "      <td>0.040</td>\n",
       "      <td>-0.310</td>\n",
       "      <td>0.040</td>\n",
       "      <td>0.040</td>\n",
       "      <td>(11)(214)(255)(266)(267)                      ...</td>\n",
       "    </tr>\n",
       "    <tr>\n",
       "      <th>127</th>\n",
       "      <td>Sextans(1)</td>\n",
       "      <td>10:13:3.0</td>\n",
       "      <td>-1:36:53.0</td>\n",
       "      <td>0.047</td>\n",
       "      <td>19.670000</td>\n",
       "      <td>0.10</td>\n",
       "      <td>0.10</td>\n",
       "      <td>224.199997</td>\n",
       "      <td>0.1</td>\n",
       "      <td>0.1</td>\n",
       "      <td>...</td>\n",
       "      <td>0.01</td>\n",
       "      <td>0.01</td>\n",
       "      <td>2</td>\n",
       "      <td>-0.410</td>\n",
       "      <td>0.010</td>\n",
       "      <td>0.010</td>\n",
       "      <td>0.040</td>\n",
       "      <td>0.010</td>\n",
       "      <td>0.010</td>\n",
       "      <td>(27)(26)(100)(136)(130)(180)(266)(267)        ...</td>\n",
       "    </tr>\n",
       "    <tr>\n",
       "      <th>132</th>\n",
       "      <td>Tucana2</td>\n",
       "      <td>22:51:55.1</td>\n",
       "      <td>-58:34:8.0</td>\n",
       "      <td>0.019</td>\n",
       "      <td>18.799999</td>\n",
       "      <td>0.20</td>\n",
       "      <td>0.20</td>\n",
       "      <td>-129.100006</td>\n",
       "      <td>3.5</td>\n",
       "      <td>3.5</td>\n",
       "      <td>...</td>\n",
       "      <td>0.18</td>\n",
       "      <td>0.12</td>\n",
       "      <td>2</td>\n",
       "      <td>0.900</td>\n",
       "      <td>0.020</td>\n",
       "      <td>0.020</td>\n",
       "      <td>-1.260</td>\n",
       "      <td>0.020</td>\n",
       "      <td>0.020</td>\n",
       "      <td>(226)(227)(252)(266)(267)                     ...</td>\n",
       "    </tr>\n",
       "    <tr>\n",
       "      <th>133</th>\n",
       "      <td>UGC4879</td>\n",
       "      <td>9:16:2.2</td>\n",
       "      <td>52:50:24.0</td>\n",
       "      <td>0.016</td>\n",
       "      <td>25.670000</td>\n",
       "      <td>0.04</td>\n",
       "      <td>0.04</td>\n",
       "      <td>-29.200001</td>\n",
       "      <td>1.6</td>\n",
       "      <td>1.3</td>\n",
       "      <td>...</td>\n",
       "      <td>0.06</td>\n",
       "      <td>0.06</td>\n",
       "      <td>2</td>\n",
       "      <td>NaN</td>\n",
       "      <td>NaN</td>\n",
       "      <td>NaN</td>\n",
       "      <td>NaN</td>\n",
       "      <td>NaN</td>\n",
       "      <td>NaN</td>\n",
       "      <td>(78)(79)(77)(200)(213)(217)                   ...</td>\n",
       "    </tr>\n",
       "    <tr>\n",
       "      <th>138</th>\n",
       "      <td>UrsaMajor(1)</td>\n",
       "      <td>10:34:52.8</td>\n",
       "      <td>51:55:12.0</td>\n",
       "      <td>0.020</td>\n",
       "      <td>19.930000</td>\n",
       "      <td>0.10</td>\n",
       "      <td>0.10</td>\n",
       "      <td>-55.299999</td>\n",
       "      <td>1.4</td>\n",
       "      <td>1.4</td>\n",
       "      <td>...</td>\n",
       "      <td>0.04</td>\n",
       "      <td>0.04</td>\n",
       "      <td>2</td>\n",
       "      <td>-0.390</td>\n",
       "      <td>0.030</td>\n",
       "      <td>0.030</td>\n",
       "      <td>-0.630</td>\n",
       "      <td>0.030</td>\n",
       "      <td>0.030</td>\n",
       "      <td>(28)(8)(98)(130)(179)(180)(255)(266)(267)     ...</td>\n",
       "    </tr>\n",
       "    <tr>\n",
       "      <th>139</th>\n",
       "      <td>UrsaMajor2</td>\n",
       "      <td>8:51:30.0</td>\n",
       "      <td>63:7:48.0</td>\n",
       "      <td>0.094</td>\n",
       "      <td>17.500000</td>\n",
       "      <td>0.30</td>\n",
       "      <td>0.30</td>\n",
       "      <td>-116.500000</td>\n",
       "      <td>1.9</td>\n",
       "      <td>1.9</td>\n",
       "      <td>...</td>\n",
       "      <td>0.06</td>\n",
       "      <td>0.06</td>\n",
       "      <td>2</td>\n",
       "      <td>1.720</td>\n",
       "      <td>0.020</td>\n",
       "      <td>0.020</td>\n",
       "      <td>-1.890</td>\n",
       "      <td>0.030</td>\n",
       "      <td>0.030</td>\n",
       "      <td>(7)(8)(98)(130)(179)(180)(255)(266)(267)      ...</td>\n",
       "    </tr>\n",
       "    <tr>\n",
       "      <th>140</th>\n",
       "      <td>UrsaMinor</td>\n",
       "      <td>15:9:8.5</td>\n",
       "      <td>67:13:21.0</td>\n",
       "      <td>0.032</td>\n",
       "      <td>19.400000</td>\n",
       "      <td>0.10</td>\n",
       "      <td>0.10</td>\n",
       "      <td>-246.899994</td>\n",
       "      <td>0.1</td>\n",
       "      <td>0.1</td>\n",
       "      <td>...</td>\n",
       "      <td>0.01</td>\n",
       "      <td>0.01</td>\n",
       "      <td>2</td>\n",
       "      <td>-0.124</td>\n",
       "      <td>0.004</td>\n",
       "      <td>0.004</td>\n",
       "      <td>0.078</td>\n",
       "      <td>0.004</td>\n",
       "      <td>0.004</td>\n",
       "      <td>(23)(24)(100)(135)(130)(180)(255)(266)(267)   ...</td>\n",
       "    </tr>\n",
       "    <tr>\n",
       "      <th>143</th>\n",
       "      <td>Willman1</td>\n",
       "      <td>10:49:21.0</td>\n",
       "      <td>51:3:0.0</td>\n",
       "      <td>0.014</td>\n",
       "      <td>17.900000</td>\n",
       "      <td>0.40</td>\n",
       "      <td>0.40</td>\n",
       "      <td>-12.300000</td>\n",
       "      <td>2.5</td>\n",
       "      <td>2.5</td>\n",
       "      <td>...</td>\n",
       "      <td>999.00</td>\n",
       "      <td>999.00</td>\n",
       "      <td>2</td>\n",
       "      <td>0.210</td>\n",
       "      <td>0.060</td>\n",
       "      <td>0.060</td>\n",
       "      <td>-1.080</td>\n",
       "      <td>0.090</td>\n",
       "      <td>0.090</td>\n",
       "      <td>(12)(13)(98)(130)(181)(255)(266)(267)         ...</td>\n",
       "    </tr>\n",
       "  </tbody>\n",
       "</table>\n",
       "<p>32 rows × 49 columns</p>\n",
       "</div>"
      ],
      "text/plain": [
       "           GalaxyName          RA          Dec   EB-V       dmod  dmod+  \\\n",
       "0    *Bootes3          13:57:12.0  26:48:0.0    0.021  18.350000   0.10   \n",
       "6    *Grus1            22:56:42.4  -50:9:48.0   0.008  20.400000   0.20   \n",
       "8    *Horologium1      2:55:31.7   -54:7:8.0    0.014  19.500000   0.20   \n",
       "10   *Hydra1           8:55:36.0   3:36:0.0     0.039  15.520000   0.05   \n",
       "16   *Reticulum2       3:35:42.1   -54:2:57.0   0.018  17.400000   0.20   \n",
       "55   Antlia2           9:35:32.8   -36:46:2.0   0.150  20.600000   0.11   \n",
       "58   Aquarius2         22:33:55.5  -9:19:39.0   0.067  20.160000   0.07   \n",
       "59   Bootes(1)         14:0:6.0    14:30:0.0    0.017  19.110001   0.08   \n",
       "62   CanesVenatici(1)  13:28:3.5   33:33:21.0   0.014  21.690001   0.10   \n",
       "63   CanesVenatici2    12:57:10.0  34:19:15.0   0.010  21.020000   0.06   \n",
       "70   ComaBerenices     12:26:59.0  23:54:15.0   0.017  18.200001   0.20   \n",
       "71   Crater2           11:49:14.4  -18:24:47.0  0.030  20.350000   0.02   \n",
       "77   Draco             17:20:12.4  57:54:55.0   0.027  19.400000   0.17   \n",
       "81   Fornax            2:39:59.3   -34:26:57.0  0.021  20.840000   0.18   \n",
       "85   Hercules          16:31:2.0   12:47:30.0   0.062  20.600000   0.20   \n",
       "86   Hydra2            12:21:42.1  -31:59:7.0   0.061  20.639999   0.16   \n",
       "87   Hydrus1           2:29:33.4   -79:18:32.0  0.091  17.200001   0.04   \n",
       "101  Leo1              10:8:28.1   12:18:23.0   0.036  22.020000   0.13   \n",
       "102  Leo2              11:13:28.8  22:9:6.0     0.017  21.840000   0.13   \n",
       "103  Leo4              11:32:57.0  -0:32:0.0    0.026  20.940001   0.09   \n",
       "107  LeoT              9:34:53.4   17:3:5.0     0.031  23.100000   0.10   \n",
       "120  Pisces2           22:58:31.0  5:57:9.0     0.065  21.309999   0.17   \n",
       "124  Sculptor          1:0:9.4     -33:42:33.0  0.018  19.670000   0.14   \n",
       "125  Segue(1)          10:7:4.0    16:4:55.0    0.031  16.799999   0.20   \n",
       "126  Segue2            2:19:16.0   20:10:31.0   0.185  17.700001   0.10   \n",
       "127  Sextans(1)        10:13:3.0   -1:36:53.0   0.047  19.670000   0.10   \n",
       "132  Tucana2           22:51:55.1  -58:34:8.0   0.019  18.799999   0.20   \n",
       "133  UGC4879           9:16:2.2    52:50:24.0   0.016  25.670000   0.04   \n",
       "138  UrsaMajor(1)      10:34:52.8  51:55:12.0   0.020  19.930000   0.10   \n",
       "139  UrsaMajor2        8:51:30.0   63:7:48.0    0.094  17.500000   0.30   \n",
       "140  UrsaMinor         15:9:8.5    67:13:21.0   0.032  19.400000   0.10   \n",
       "143  Willman1          10:49:21.0  51:3:0.0     0.014  17.900000   0.40   \n",
       "\n",
       "     dmod-          vh  vh+  vh-  ...    feh+    feh-  F   pmra  epmra+  \\\n",
       "0     0.10  197.500000  3.8  3.8  ...    0.20    0.20  2    NaN     NaN   \n",
       "6     0.20 -140.500000  2.4  1.6  ...    0.55    0.42  2  0.070   0.050   \n",
       "8     0.20  112.800003  2.5  2.6  ...    0.10    0.10  2  0.820   0.030   \n",
       "10    0.05   89.400002  1.4  1.4  ...    0.03    0.03  2    NaN     NaN   \n",
       "16    0.20   64.699997  1.3  0.8  ...    0.09    0.10  2  2.390   0.010   \n",
       "55    0.11  290.700012  0.5  0.5  ...    0.04    0.04  2 -0.090   0.010   \n",
       "58    0.07  -71.099998  2.5  2.5  ...    0.50    0.50  2 -0.170   0.100   \n",
       "59    0.08   99.000000  2.1  2.1  ...    0.11    0.11  2 -0.390   0.010   \n",
       "62    0.10   30.900000  0.6  0.6  ...    0.01    0.01  2 -0.110   0.020   \n",
       "63    0.06 -128.899994  1.2  1.2  ...    0.05    0.05  2 -0.150   0.070   \n",
       "70    0.20   98.099998  0.9  0.9  ...    0.05    0.05  2  0.410   0.020   \n",
       "71    0.02   87.500000  0.4  0.4  ...    0.10    0.10  2 -0.070   0.020   \n",
       "77    0.17 -291.000000  0.1  0.1  ...    0.01    0.01  2  0.042   0.005   \n",
       "81    0.18   55.299999  0.1  0.1  ...    0.01    0.01  2  0.382   0.001   \n",
       "85    0.20   45.200001  1.1  1.1  ...    0.04    0.04  2 -0.030   0.040   \n",
       "86    0.16  303.100006  1.4  1.4  ...    0.08    0.08  2 -0.340   0.100   \n",
       "87    0.04   80.400002  0.6  0.6  ...    0.09    0.09  2  3.790   0.010   \n",
       "101   0.13  282.500000  0.1  0.1  ...    0.01    0.01  2 -0.050   0.010   \n",
       "102   0.13   78.000000  0.1  0.1  ...    0.01    0.01  2 -0.140   0.020   \n",
       "103   0.09  132.300003  1.4  1.4  ...    0.07    0.07  2 -0.080   0.090   \n",
       "107   0.10   38.099998  2.0  2.0  ...    0.05    0.05  2  0.180   0.280   \n",
       "120   0.17 -226.500000  2.7  2.7  ...    0.07    0.07  2  0.110   0.110   \n",
       "124   0.14  111.400002  0.1  0.1  ...    0.01    0.01  2  0.099   0.002   \n",
       "125   0.20  208.500000  0.9  0.9  ...    0.40    0.40  2 -2.210   0.060   \n",
       "126   0.10  -39.200001  2.5  2.5  ...    0.13    0.13  2  1.470   0.040   \n",
       "127   0.10  224.199997  0.1  0.1  ...    0.01    0.01  2 -0.410   0.010   \n",
       "132   0.20 -129.100006  3.5  3.5  ...    0.18    0.12  2  0.900   0.020   \n",
       "133   0.04  -29.200001  1.6  1.3  ...    0.06    0.06  2    NaN     NaN   \n",
       "138   0.10  -55.299999  1.4  1.4  ...    0.04    0.04  2 -0.390   0.030   \n",
       "139   0.30 -116.500000  1.9  1.9  ...    0.06    0.06  2  1.720   0.020   \n",
       "140   0.10 -246.899994  0.1  0.1  ...    0.01    0.01  2 -0.124   0.004   \n",
       "143   0.40  -12.300000  2.5  2.5  ...  999.00  999.00  2  0.210   0.060   \n",
       "\n",
       "     epmra-  pmdec  epmdec+  epmdec-  \\\n",
       "0       NaN    NaN      NaN      NaN   \n",
       "6     0.050 -0.290    0.060    0.070   \n",
       "8     0.030 -0.610    0.030    0.030   \n",
       "10      NaN    NaN      NaN      NaN   \n",
       "16    0.010 -1.360    0.020    0.020   \n",
       "55    0.010  0.120    0.010    0.010   \n",
       "58    0.100 -0.430    0.080    0.080   \n",
       "59    0.010 -1.060    0.010    0.010   \n",
       "62    0.020 -0.120    0.020    0.020   \n",
       "63    0.070 -0.270    0.060    0.060   \n",
       "70    0.020 -1.710    0.020    0.020   \n",
       "71    0.020 -0.110    0.010    0.010   \n",
       "77    0.005 -0.190    0.010    0.010   \n",
       "81    0.001 -0.359    0.002    0.002   \n",
       "85    0.040 -0.360    0.030    0.030   \n",
       "86    0.100 -0.090    0.080    0.090   \n",
       "87    0.010 -1.500    0.010    0.010   \n",
       "101   0.010 -0.110    0.010    0.010   \n",
       "102   0.020 -0.120    0.020    0.020   \n",
       "103   0.090 -0.210    0.080    0.080   \n",
       "107   0.290 -0.080    0.170    0.160   \n",
       "120   0.110 -0.240    0.120    0.110   \n",
       "124   0.002 -0.160    0.002    0.002   \n",
       "125   0.060 -3.340    0.050    0.050   \n",
       "126   0.040 -0.310    0.040    0.040   \n",
       "127   0.010  0.040    0.010    0.010   \n",
       "132   0.020 -1.260    0.020    0.020   \n",
       "133     NaN    NaN      NaN      NaN   \n",
       "138   0.030 -0.630    0.030    0.030   \n",
       "139   0.020 -1.890    0.030    0.030   \n",
       "140   0.004  0.078    0.004    0.004   \n",
       "143   0.060 -1.080    0.090    0.090   \n",
       "\n",
       "                                            References  \n",
       "0    (14)(15)(99)                                  ...  \n",
       "6    (226)(252)(255)(266)(267)                     ...  \n",
       "8    (226)(227)(254)(255)(266)(267)                ...  \n",
       "10   (243)(244)                                    ...  \n",
       "16   (226)(227)(254)(255)(266)(267)                ...  \n",
       "55   (236)(266)(267)                               ...  \n",
       "58   (238)(266)(267)                               ...  \n",
       "59   (20)(13)(98)(134)(130)(178)(255)(266)(267)    ...  \n",
       "62   (36)(8)(98)(130)(179)(180)(266)(267)          ...  \n",
       "63   (33)(8)(98)(130)(179)(180)(255)(266)(267)     ...  \n",
       "70   (5)(8)(98)(130)(179)(180)(255)(266)(267)      ...  \n",
       "71   (245)(247)(266)(267)                          ...  \n",
       "77   (21)(22)(98)(135)(130)(180)(255)(266)(267)    ...  \n",
       "81   (29)(26)(100)(136)(138)(130)(180)(255)(266)(26...  \n",
       "85   (30)(31)(98)(130)(179)(180)(255)(266)(267)    ...  \n",
       "86   (222)(223)(255)(266)(267)                     ...  \n",
       "87   (235)(266)(267)                               ...  \n",
       "101  (38)(39)(100)(130)(180)(255)(266)(267)        ...  \n",
       "102  (37)(22)(100)(130)(180)(255)(266)(267)        ...  \n",
       "103  (32)(8)(101)(130)(179)(180)(255)(266)(267)    ...  \n",
       "107  (70)(8)(111)(153)(179)(180)(255)(266)(267)    ...  \n",
       "120  (35)(223)(255)(258)(266)(267)                 ...  \n",
       "124  (25)(26)(100)(136)(137)(130)(187)(180)(255)(26...  \n",
       "125  (5)(6)(98)(130)(178)(255)(266)(267)           ...  \n",
       "126  (11)(214)(255)(266)(267)                      ...  \n",
       "127  (27)(26)(100)(136)(130)(180)(266)(267)        ...  \n",
       "132  (226)(227)(252)(266)(267)                     ...  \n",
       "133  (78)(79)(77)(200)(213)(217)                   ...  \n",
       "138  (28)(8)(98)(130)(179)(180)(255)(266)(267)     ...  \n",
       "139  (7)(8)(98)(130)(179)(180)(255)(266)(267)      ...  \n",
       "140  (23)(24)(100)(135)(130)(180)(255)(266)(267)   ...  \n",
       "143  (12)(13)(98)(130)(181)(255)(266)(267)         ...  \n",
       "\n",
       "[32 rows x 49 columns]"
      ]
     },
     "metadata": {},
     "output_type": "display_data"
    },
    {
     "name": "stdout",
     "output_type": "stream",
     "text": [
      "f:3\n"
     ]
    },
    {
     "data": {
      "text/html": [
       "<div>\n",
       "<style scoped>\n",
       "    .dataframe tbody tr th:only-of-type {\n",
       "        vertical-align: middle;\n",
       "    }\n",
       "\n",
       "    .dataframe tbody tr th {\n",
       "        vertical-align: top;\n",
       "    }\n",
       "\n",
       "    .dataframe thead th {\n",
       "        text-align: right;\n",
       "    }\n",
       "</style>\n",
       "<table border=\"1\" class=\"dataframe\">\n",
       "  <thead>\n",
       "    <tr style=\"text-align: right;\">\n",
       "      <th></th>\n",
       "      <th>GalaxyName</th>\n",
       "      <th>RA</th>\n",
       "      <th>Dec</th>\n",
       "      <th>EB-V</th>\n",
       "      <th>dmod</th>\n",
       "      <th>dmod+</th>\n",
       "      <th>dmod-</th>\n",
       "      <th>vh</th>\n",
       "      <th>vh+</th>\n",
       "      <th>vh-</th>\n",
       "      <th>...</th>\n",
       "      <th>feh+</th>\n",
       "      <th>feh-</th>\n",
       "      <th>F</th>\n",
       "      <th>pmra</th>\n",
       "      <th>epmra+</th>\n",
       "      <th>epmra-</th>\n",
       "      <th>pmdec</th>\n",
       "      <th>epmdec+</th>\n",
       "      <th>epmdec-</th>\n",
       "      <th>References</th>\n",
       "    </tr>\n",
       "  </thead>\n",
       "  <tbody>\n",
       "    <tr>\n",
       "      <th>7</th>\n",
       "      <td>*Grus2</td>\n",
       "      <td>22:4:4.8</td>\n",
       "      <td>-46:26:24.0</td>\n",
       "      <td>0.016</td>\n",
       "      <td>18.620001</td>\n",
       "      <td>0.21</td>\n",
       "      <td>0.21</td>\n",
       "      <td>-110.000000</td>\n",
       "      <td>0.5</td>\n",
       "      <td>0.5</td>\n",
       "      <td>...</td>\n",
       "      <td>0.11</td>\n",
       "      <td>0.11</td>\n",
       "      <td>3</td>\n",
       "      <td>0.3800</td>\n",
       "      <td>0.0300</td>\n",
       "      <td>0.0300</td>\n",
       "      <td>-1.4600</td>\n",
       "      <td>0.0400</td>\n",
       "      <td>0.0400</td>\n",
       "      <td>(232)(262)(266)(267)                          ...</td>\n",
       "    </tr>\n",
       "    <tr>\n",
       "      <th>20</th>\n",
       "      <td>*Tucana3</td>\n",
       "      <td>23:56:36.0</td>\n",
       "      <td>-59:36:0.0</td>\n",
       "      <td>0.012</td>\n",
       "      <td>17.010000</td>\n",
       "      <td>0.16</td>\n",
       "      <td>0.16</td>\n",
       "      <td>-102.300003</td>\n",
       "      <td>2.4</td>\n",
       "      <td>2.4</td>\n",
       "      <td>...</td>\n",
       "      <td>0.07</td>\n",
       "      <td>0.08</td>\n",
       "      <td>3</td>\n",
       "      <td>-0.0800</td>\n",
       "      <td>0.0100</td>\n",
       "      <td>0.0100</td>\n",
       "      <td>-1.6200</td>\n",
       "      <td>0.0200</td>\n",
       "      <td>0.0200</td>\n",
       "      <td>(232)(253)(266)(267)                          ...</td>\n",
       "    </tr>\n",
       "    <tr>\n",
       "      <th>21</th>\n",
       "      <td>*Tucana4</td>\n",
       "      <td>0:2:55.2</td>\n",
       "      <td>-60:51:0.0</td>\n",
       "      <td>0.012</td>\n",
       "      <td>18.410000</td>\n",
       "      <td>0.19</td>\n",
       "      <td>0.19</td>\n",
       "      <td>15.900000</td>\n",
       "      <td>1.8</td>\n",
       "      <td>1.7</td>\n",
       "      <td>...</td>\n",
       "      <td>0.15</td>\n",
       "      <td>0.16</td>\n",
       "      <td>3</td>\n",
       "      <td>0.5400</td>\n",
       "      <td>0.0600</td>\n",
       "      <td>0.0600</td>\n",
       "      <td>-1.6700</td>\n",
       "      <td>0.0700</td>\n",
       "      <td>0.0700</td>\n",
       "      <td>(232)(262)(266)(267)                          ...</td>\n",
       "    </tr>\n",
       "    <tr>\n",
       "      <th>22</th>\n",
       "      <td>*Tucana5</td>\n",
       "      <td>23:37:24.0</td>\n",
       "      <td>-63:16:12.0</td>\n",
       "      <td>0.022</td>\n",
       "      <td>18.709999</td>\n",
       "      <td>0.34</td>\n",
       "      <td>0.34</td>\n",
       "      <td>-36.299999</td>\n",
       "      <td>2.5</td>\n",
       "      <td>2.2</td>\n",
       "      <td>...</td>\n",
       "      <td>0.23</td>\n",
       "      <td>0.23</td>\n",
       "      <td>3</td>\n",
       "      <td>-0.1400</td>\n",
       "      <td>0.0600</td>\n",
       "      <td>0.0500</td>\n",
       "      <td>-1.1500</td>\n",
       "      <td>0.0800</td>\n",
       "      <td>0.0600</td>\n",
       "      <td>(232)(262)(266)(267)                          ...</td>\n",
       "    </tr>\n",
       "    <tr>\n",
       "      <th>24</th>\n",
       "      <td>AndromedaII</td>\n",
       "      <td>1:16:29.8</td>\n",
       "      <td>33:25:9.0</td>\n",
       "      <td>0.061</td>\n",
       "      <td>24.070000</td>\n",
       "      <td>0.06</td>\n",
       "      <td>0.06</td>\n",
       "      <td>-192.399994</td>\n",
       "      <td>0.5</td>\n",
       "      <td>0.5</td>\n",
       "      <td>...</td>\n",
       "      <td>0.03</td>\n",
       "      <td>0.03</td>\n",
       "      <td>3</td>\n",
       "      <td>NaN</td>\n",
       "      <td>NaN</td>\n",
       "      <td>NaN</td>\n",
       "      <td>NaN</td>\n",
       "      <td>NaN</td>\n",
       "      <td>NaN</td>\n",
       "      <td>(40)(47)(105)(130)(204)                       ...</td>\n",
       "    </tr>\n",
       "    <tr>\n",
       "      <th>26</th>\n",
       "      <td>AndromedaIX</td>\n",
       "      <td>0:52:53.0</td>\n",
       "      <td>43:11:45.0</td>\n",
       "      <td>0.075</td>\n",
       "      <td>24.420000</td>\n",
       "      <td>0.07</td>\n",
       "      <td>0.07</td>\n",
       "      <td>-209.399994</td>\n",
       "      <td>2.5</td>\n",
       "      <td>2.5</td>\n",
       "      <td>...</td>\n",
       "      <td>0.20</td>\n",
       "      <td>0.20</td>\n",
       "      <td>3</td>\n",
       "      <td>NaN</td>\n",
       "      <td>NaN</td>\n",
       "      <td>NaN</td>\n",
       "      <td>NaN</td>\n",
       "      <td>NaN</td>\n",
       "      <td>NaN</td>\n",
       "      <td>(40)(44)(103)(130)(201)                       ...</td>\n",
       "    </tr>\n",
       "    <tr>\n",
       "      <th>27</th>\n",
       "      <td>AndromedaV</td>\n",
       "      <td>1:10:17.1</td>\n",
       "      <td>47:37:41.0</td>\n",
       "      <td>0.125</td>\n",
       "      <td>24.440001</td>\n",
       "      <td>0.08</td>\n",
       "      <td>0.08</td>\n",
       "      <td>-403.000000</td>\n",
       "      <td>4.0</td>\n",
       "      <td>4.0</td>\n",
       "      <td>...</td>\n",
       "      <td>0.10</td>\n",
       "      <td>0.10</td>\n",
       "      <td>3</td>\n",
       "      <td>NaN</td>\n",
       "      <td>NaN</td>\n",
       "      <td>NaN</td>\n",
       "      <td>NaN</td>\n",
       "      <td>NaN</td>\n",
       "      <td>NaN</td>\n",
       "      <td>(40)(49)(105)(144)(143)(130)(207)             ...</td>\n",
       "    </tr>\n",
       "    <tr>\n",
       "      <th>28</th>\n",
       "      <td>AndromedaVI</td>\n",
       "      <td>23:51:46.3</td>\n",
       "      <td>24:34:57.0</td>\n",
       "      <td>0.063</td>\n",
       "      <td>24.469999</td>\n",
       "      <td>0.07</td>\n",
       "      <td>0.07</td>\n",
       "      <td>-339.799988</td>\n",
       "      <td>1.9</td>\n",
       "      <td>1.9</td>\n",
       "      <td>...</td>\n",
       "      <td>0.10</td>\n",
       "      <td>0.10</td>\n",
       "      <td>3</td>\n",
       "      <td>NaN</td>\n",
       "      <td>NaN</td>\n",
       "      <td>NaN</td>\n",
       "      <td>NaN</td>\n",
       "      <td>NaN</td>\n",
       "      <td>NaN</td>\n",
       "      <td>(40)(49)(105)(144)(130)(207)                  ...</td>\n",
       "    </tr>\n",
       "    <tr>\n",
       "      <th>31</th>\n",
       "      <td>AndromedaXI</td>\n",
       "      <td>0:46:20.0</td>\n",
       "      <td>33:48:5.0</td>\n",
       "      <td>0.080</td>\n",
       "      <td>24.330000</td>\n",
       "      <td>0.05</td>\n",
       "      <td>0.05</td>\n",
       "      <td>-419.600006</td>\n",
       "      <td>4.4</td>\n",
       "      <td>4.4</td>\n",
       "      <td>...</td>\n",
       "      <td>0.10</td>\n",
       "      <td>0.10</td>\n",
       "      <td>3</td>\n",
       "      <td>NaN</td>\n",
       "      <td>NaN</td>\n",
       "      <td>NaN</td>\n",
       "      <td>NaN</td>\n",
       "      <td>NaN</td>\n",
       "      <td>NaN</td>\n",
       "      <td>(44)(103)(130)(206)(207)                      ...</td>\n",
       "    </tr>\n",
       "    <tr>\n",
       "      <th>32</th>\n",
       "      <td>AndromedaXII</td>\n",
       "      <td>0:47:27.0</td>\n",
       "      <td>34:22:29.0</td>\n",
       "      <td>0.110</td>\n",
       "      <td>24.840000</td>\n",
       "      <td>0.09</td>\n",
       "      <td>0.34</td>\n",
       "      <td>-558.400024</td>\n",
       "      <td>3.2</td>\n",
       "      <td>3.2</td>\n",
       "      <td>...</td>\n",
       "      <td>0.20</td>\n",
       "      <td>0.20</td>\n",
       "      <td>3</td>\n",
       "      <td>NaN</td>\n",
       "      <td>NaN</td>\n",
       "      <td>NaN</td>\n",
       "      <td>NaN</td>\n",
       "      <td>NaN</td>\n",
       "      <td>NaN</td>\n",
       "      <td>(44)(103)(130)(202)(207)                      ...</td>\n",
       "    </tr>\n",
       "    <tr>\n",
       "      <th>33</th>\n",
       "      <td>AndromedaXIII</td>\n",
       "      <td>0:51:51.0</td>\n",
       "      <td>33:0:16.0</td>\n",
       "      <td>0.082</td>\n",
       "      <td>24.620001</td>\n",
       "      <td>0.05</td>\n",
       "      <td>0.05</td>\n",
       "      <td>-185.399994</td>\n",
       "      <td>2.4</td>\n",
       "      <td>2.4</td>\n",
       "      <td>...</td>\n",
       "      <td>0.30</td>\n",
       "      <td>0.30</td>\n",
       "      <td>3</td>\n",
       "      <td>NaN</td>\n",
       "      <td>NaN</td>\n",
       "      <td>NaN</td>\n",
       "      <td>NaN</td>\n",
       "      <td>NaN</td>\n",
       "      <td>NaN</td>\n",
       "      <td>(44)(103)(130)(201)(206)(207)                 ...</td>\n",
       "    </tr>\n",
       "    <tr>\n",
       "      <th>35</th>\n",
       "      <td>AndromedaXIX</td>\n",
       "      <td>0:19:32.1</td>\n",
       "      <td>35:2:37.0</td>\n",
       "      <td>0.062</td>\n",
       "      <td>24.570000</td>\n",
       "      <td>0.08</td>\n",
       "      <td>0.43</td>\n",
       "      <td>-111.599998</td>\n",
       "      <td>1.6</td>\n",
       "      <td>1.4</td>\n",
       "      <td>...</td>\n",
       "      <td>0.30</td>\n",
       "      <td>0.30</td>\n",
       "      <td>3</td>\n",
       "      <td>NaN</td>\n",
       "      <td>NaN</td>\n",
       "      <td>NaN</td>\n",
       "      <td>NaN</td>\n",
       "      <td>NaN</td>\n",
       "      <td>NaN</td>\n",
       "      <td>(51)(202)(207)                                ...</td>\n",
       "    </tr>\n",
       "    <tr>\n",
       "      <th>36</th>\n",
       "      <td>AndromedaXV</td>\n",
       "      <td>1:14:18.7</td>\n",
       "      <td>38:7:3.0</td>\n",
       "      <td>0.047</td>\n",
       "      <td>23.980000</td>\n",
       "      <td>0.26</td>\n",
       "      <td>0.12</td>\n",
       "      <td>-323.000000</td>\n",
       "      <td>1.4</td>\n",
       "      <td>1.4</td>\n",
       "      <td>...</td>\n",
       "      <td>0.20</td>\n",
       "      <td>0.20</td>\n",
       "      <td>3</td>\n",
       "      <td>NaN</td>\n",
       "      <td>NaN</td>\n",
       "      <td>NaN</td>\n",
       "      <td>NaN</td>\n",
       "      <td>NaN</td>\n",
       "      <td>NaN</td>\n",
       "      <td>(55)(56)(130)(201)(202)                       ...</td>\n",
       "    </tr>\n",
       "    <tr>\n",
       "      <th>37</th>\n",
       "      <td>AndromedaXVI</td>\n",
       "      <td>0:59:29.8</td>\n",
       "      <td>32:22:36.0</td>\n",
       "      <td>0.067</td>\n",
       "      <td>23.389999</td>\n",
       "      <td>0.19</td>\n",
       "      <td>0.14</td>\n",
       "      <td>-367.299988</td>\n",
       "      <td>2.8</td>\n",
       "      <td>2.8</td>\n",
       "      <td>...</td>\n",
       "      <td>0.20</td>\n",
       "      <td>0.20</td>\n",
       "      <td>3</td>\n",
       "      <td>NaN</td>\n",
       "      <td>NaN</td>\n",
       "      <td>NaN</td>\n",
       "      <td>NaN</td>\n",
       "      <td>NaN</td>\n",
       "      <td>NaN</td>\n",
       "      <td>(55)(56)(130)(201)(202)                       ...</td>\n",
       "    </tr>\n",
       "    <tr>\n",
       "      <th>38</th>\n",
       "      <td>AndromedaXVII</td>\n",
       "      <td>0:37:7.0</td>\n",
       "      <td>44:19:20.0</td>\n",
       "      <td>0.074</td>\n",
       "      <td>24.309999</td>\n",
       "      <td>0.11</td>\n",
       "      <td>0.08</td>\n",
       "      <td>-251.600006</td>\n",
       "      <td>1.8</td>\n",
       "      <td>2.0</td>\n",
       "      <td>...</td>\n",
       "      <td>0.20</td>\n",
       "      <td>0.20</td>\n",
       "      <td>3</td>\n",
       "      <td>NaN</td>\n",
       "      <td>NaN</td>\n",
       "      <td>NaN</td>\n",
       "      <td>NaN</td>\n",
       "      <td>NaN</td>\n",
       "      <td>NaN</td>\n",
       "      <td>(46)(104)(130)(104)(202)(207)                 ...</td>\n",
       "    </tr>\n",
       "    <tr>\n",
       "      <th>39</th>\n",
       "      <td>AndromedaXVIII</td>\n",
       "      <td>0:2:14.5</td>\n",
       "      <td>45:5:20.0</td>\n",
       "      <td>0.106</td>\n",
       "      <td>25.420000</td>\n",
       "      <td>0.07</td>\n",
       "      <td>0.08</td>\n",
       "      <td>-332.100006</td>\n",
       "      <td>2.7</td>\n",
       "      <td>2.7</td>\n",
       "      <td>...</td>\n",
       "      <td>0.30</td>\n",
       "      <td>0.30</td>\n",
       "      <td>3</td>\n",
       "      <td>NaN</td>\n",
       "      <td>NaN</td>\n",
       "      <td>NaN</td>\n",
       "      <td>NaN</td>\n",
       "      <td>NaN</td>\n",
       "      <td>NaN</td>\n",
       "      <td>(51)(201)(202)(207)                           ...</td>\n",
       "    </tr>\n",
       "    <tr>\n",
       "      <th>40</th>\n",
       "      <td>AndromedaXX</td>\n",
       "      <td>0:7:30.7</td>\n",
       "      <td>35:7:56.0</td>\n",
       "      <td>0.059</td>\n",
       "      <td>24.350000</td>\n",
       "      <td>0.12</td>\n",
       "      <td>0.16</td>\n",
       "      <td>-456.200012</td>\n",
       "      <td>3.1</td>\n",
       "      <td>3.6</td>\n",
       "      <td>...</td>\n",
       "      <td>0.40</td>\n",
       "      <td>0.40</td>\n",
       "      <td>3</td>\n",
       "      <td>NaN</td>\n",
       "      <td>NaN</td>\n",
       "      <td>NaN</td>\n",
       "      <td>NaN</td>\n",
       "      <td>NaN</td>\n",
       "      <td>NaN</td>\n",
       "      <td>(51)(202)(207)                                ...</td>\n",
       "    </tr>\n",
       "    <tr>\n",
       "      <th>41</th>\n",
       "      <td>AndromedaXXI</td>\n",
       "      <td>23:54:47.7</td>\n",
       "      <td>42:28:15.0</td>\n",
       "      <td>0.093</td>\n",
       "      <td>24.590000</td>\n",
       "      <td>0.06</td>\n",
       "      <td>0.07</td>\n",
       "      <td>-362.500000</td>\n",
       "      <td>0.9</td>\n",
       "      <td>0.9</td>\n",
       "      <td>...</td>\n",
       "      <td>0.10</td>\n",
       "      <td>0.10</td>\n",
       "      <td>3</td>\n",
       "      <td>NaN</td>\n",
       "      <td>NaN</td>\n",
       "      <td>NaN</td>\n",
       "      <td>NaN</td>\n",
       "      <td>NaN</td>\n",
       "      <td>NaN</td>\n",
       "      <td>(53)(201)(202)(207)                           ...</td>\n",
       "    </tr>\n",
       "    <tr>\n",
       "      <th>42</th>\n",
       "      <td>AndromedaXXII</td>\n",
       "      <td>1:27:40.0</td>\n",
       "      <td>28:5:25.0</td>\n",
       "      <td>0.079</td>\n",
       "      <td>24.820000</td>\n",
       "      <td>0.07</td>\n",
       "      <td>0.36</td>\n",
       "      <td>-129.800003</td>\n",
       "      <td>2.0</td>\n",
       "      <td>2.0</td>\n",
       "      <td>...</td>\n",
       "      <td>0.60</td>\n",
       "      <td>0.60</td>\n",
       "      <td>3</td>\n",
       "      <td>NaN</td>\n",
       "      <td>NaN</td>\n",
       "      <td>NaN</td>\n",
       "      <td>NaN</td>\n",
       "      <td>NaN</td>\n",
       "      <td>NaN</td>\n",
       "      <td>(53)(201)(202)(207)(212)                      ...</td>\n",
       "    </tr>\n",
       "    <tr>\n",
       "      <th>43</th>\n",
       "      <td>AndromedaXXIII</td>\n",
       "      <td>1:29:21.8</td>\n",
       "      <td>38:43:8.0</td>\n",
       "      <td>0.066</td>\n",
       "      <td>24.430000</td>\n",
       "      <td>0.13</td>\n",
       "      <td>0.13</td>\n",
       "      <td>-237.699997</td>\n",
       "      <td>1.2</td>\n",
       "      <td>1.2</td>\n",
       "      <td>...</td>\n",
       "      <td>0.30</td>\n",
       "      <td>0.30</td>\n",
       "      <td>3</td>\n",
       "      <td>NaN</td>\n",
       "      <td>NaN</td>\n",
       "      <td>NaN</td>\n",
       "      <td>NaN</td>\n",
       "      <td>NaN</td>\n",
       "      <td>NaN</td>\n",
       "      <td>(48)(207)                                     ...</td>\n",
       "    </tr>\n",
       "    <tr>\n",
       "      <th>44</th>\n",
       "      <td>AndromedaXXIV</td>\n",
       "      <td>1:18:30.0</td>\n",
       "      <td>46:21:58.0</td>\n",
       "      <td>0.083</td>\n",
       "      <td>23.889999</td>\n",
       "      <td>0.12</td>\n",
       "      <td>0.12</td>\n",
       "      <td>-128.199997</td>\n",
       "      <td>5.2</td>\n",
       "      <td>5.2</td>\n",
       "      <td>...</td>\n",
       "      <td>0.30</td>\n",
       "      <td>0.30</td>\n",
       "      <td>3</td>\n",
       "      <td>NaN</td>\n",
       "      <td>NaN</td>\n",
       "      <td>NaN</td>\n",
       "      <td>NaN</td>\n",
       "      <td>NaN</td>\n",
       "      <td>NaN</td>\n",
       "      <td>(48)(207)                                     ...</td>\n",
       "    </tr>\n",
       "    <tr>\n",
       "      <th>46</th>\n",
       "      <td>AndromedaXXV</td>\n",
       "      <td>0:30:8.9</td>\n",
       "      <td>46:51:7.0</td>\n",
       "      <td>0.101</td>\n",
       "      <td>24.549999</td>\n",
       "      <td>0.12</td>\n",
       "      <td>0.12</td>\n",
       "      <td>-107.800003</td>\n",
       "      <td>1.0</td>\n",
       "      <td>1.0</td>\n",
       "      <td>...</td>\n",
       "      <td>0.10</td>\n",
       "      <td>0.10</td>\n",
       "      <td>3</td>\n",
       "      <td>NaN</td>\n",
       "      <td>NaN</td>\n",
       "      <td>NaN</td>\n",
       "      <td>NaN</td>\n",
       "      <td>NaN</td>\n",
       "      <td>NaN</td>\n",
       "      <td>(48)(207)                                     ...</td>\n",
       "    </tr>\n",
       "    <tr>\n",
       "      <th>47</th>\n",
       "      <td>AndromedaXXVI</td>\n",
       "      <td>0:23:45.6</td>\n",
       "      <td>47:54:58.0</td>\n",
       "      <td>0.110</td>\n",
       "      <td>24.410000</td>\n",
       "      <td>0.12</td>\n",
       "      <td>0.12</td>\n",
       "      <td>-261.600006</td>\n",
       "      <td>3.0</td>\n",
       "      <td>2.8</td>\n",
       "      <td>...</td>\n",
       "      <td>0.50</td>\n",
       "      <td>0.50</td>\n",
       "      <td>3</td>\n",
       "      <td>NaN</td>\n",
       "      <td>NaN</td>\n",
       "      <td>NaN</td>\n",
       "      <td>NaN</td>\n",
       "      <td>NaN</td>\n",
       "      <td>NaN</td>\n",
       "      <td>(48)(207)                                     ...</td>\n",
       "    </tr>\n",
       "    <tr>\n",
       "      <th>48</th>\n",
       "      <td>AndromedaXXVII</td>\n",
       "      <td>0:37:27.1</td>\n",
       "      <td>45:23:13.0</td>\n",
       "      <td>0.080</td>\n",
       "      <td>24.590000</td>\n",
       "      <td>0.12</td>\n",
       "      <td>0.12</td>\n",
       "      <td>-539.599976</td>\n",
       "      <td>4.7</td>\n",
       "      <td>4.5</td>\n",
       "      <td>...</td>\n",
       "      <td>0.50</td>\n",
       "      <td>0.50</td>\n",
       "      <td>3</td>\n",
       "      <td>NaN</td>\n",
       "      <td>NaN</td>\n",
       "      <td>NaN</td>\n",
       "      <td>NaN</td>\n",
       "      <td>NaN</td>\n",
       "      <td>NaN</td>\n",
       "      <td>(48)(207)                                     ...</td>\n",
       "    </tr>\n",
       "    <tr>\n",
       "      <th>49</th>\n",
       "      <td>AndromedaXXVIII</td>\n",
       "      <td>22:32:41.2</td>\n",
       "      <td>31:12:58.0</td>\n",
       "      <td>0.090</td>\n",
       "      <td>24.100000</td>\n",
       "      <td>0.50</td>\n",
       "      <td>0.20</td>\n",
       "      <td>-326.200012</td>\n",
       "      <td>2.7</td>\n",
       "      <td>2.7</td>\n",
       "      <td>...</td>\n",
       "      <td>0.30</td>\n",
       "      <td>0.30</td>\n",
       "      <td>3</td>\n",
       "      <td>NaN</td>\n",
       "      <td>NaN</td>\n",
       "      <td>NaN</td>\n",
       "      <td>NaN</td>\n",
       "      <td>NaN</td>\n",
       "      <td>NaN</td>\n",
       "      <td>(61)(207)                                     ...</td>\n",
       "    </tr>\n",
       "    <tr>\n",
       "      <th>50</th>\n",
       "      <td>AndromedaXXX</td>\n",
       "      <td>0:36:34.9</td>\n",
       "      <td>49:38:48.0</td>\n",
       "      <td>0.166</td>\n",
       "      <td>24.170000</td>\n",
       "      <td>0.10</td>\n",
       "      <td>0.26</td>\n",
       "      <td>-139.800003</td>\n",
       "      <td>6.0</td>\n",
       "      <td>6.6</td>\n",
       "      <td>...</td>\n",
       "      <td>0.40</td>\n",
       "      <td>0.40</td>\n",
       "      <td>3</td>\n",
       "      <td>NaN</td>\n",
       "      <td>NaN</td>\n",
       "      <td>NaN</td>\n",
       "      <td>NaN</td>\n",
       "      <td>NaN</td>\n",
       "      <td>NaN</td>\n",
       "      <td>(202)(207)(208)                               ...</td>\n",
       "    </tr>\n",
       "    <tr>\n",
       "      <th>60</th>\n",
       "      <td>Bootes2</td>\n",
       "      <td>13:58:0.0</td>\n",
       "      <td>12:51:0.0</td>\n",
       "      <td>0.031</td>\n",
       "      <td>18.100000</td>\n",
       "      <td>0.06</td>\n",
       "      <td>0.06</td>\n",
       "      <td>-117.000000</td>\n",
       "      <td>5.2</td>\n",
       "      <td>5.2</td>\n",
       "      <td>...</td>\n",
       "      <td>0.05</td>\n",
       "      <td>0.05</td>\n",
       "      <td>3</td>\n",
       "      <td>-2.3300</td>\n",
       "      <td>0.0900</td>\n",
       "      <td>0.0800</td>\n",
       "      <td>-0.4100</td>\n",
       "      <td>0.0600</td>\n",
       "      <td>0.0600</td>\n",
       "      <td>(9)(10)(98)(130)(255)(266)(267)               ...</td>\n",
       "    </tr>\n",
       "    <tr>\n",
       "      <th>64</th>\n",
       "      <td>Carina</td>\n",
       "      <td>6:41:36.7</td>\n",
       "      <td>-50:57:58.0</td>\n",
       "      <td>0.061</td>\n",
       "      <td>20.110001</td>\n",
       "      <td>0.13</td>\n",
       "      <td>0.13</td>\n",
       "      <td>222.899994</td>\n",
       "      <td>0.1</td>\n",
       "      <td>0.1</td>\n",
       "      <td>...</td>\n",
       "      <td>0.01</td>\n",
       "      <td>0.01</td>\n",
       "      <td>3</td>\n",
       "      <td>0.5300</td>\n",
       "      <td>0.0100</td>\n",
       "      <td>0.0100</td>\n",
       "      <td>0.1200</td>\n",
       "      <td>0.0100</td>\n",
       "      <td>0.0100</td>\n",
       "      <td>(29)(26)(100)(136)(130)(190)(255)(266)(267)   ...</td>\n",
       "    </tr>\n",
       "    <tr>\n",
       "      <th>65</th>\n",
       "      <td>Carina2</td>\n",
       "      <td>7:36:25.6</td>\n",
       "      <td>-57:59:57.0</td>\n",
       "      <td>0.188</td>\n",
       "      <td>17.790001</td>\n",
       "      <td>0.05</td>\n",
       "      <td>0.05</td>\n",
       "      <td>477.200012</td>\n",
       "      <td>1.2</td>\n",
       "      <td>1.2</td>\n",
       "      <td>...</td>\n",
       "      <td>0.09</td>\n",
       "      <td>0.09</td>\n",
       "      <td>3</td>\n",
       "      <td>1.8800</td>\n",
       "      <td>0.0100</td>\n",
       "      <td>0.0100</td>\n",
       "      <td>0.1300</td>\n",
       "      <td>0.0200</td>\n",
       "      <td>0.0200</td>\n",
       "      <td>(237)(246)(266)(267)                          ...</td>\n",
       "    </tr>\n",
       "    <tr>\n",
       "      <th>68</th>\n",
       "      <td>Cetus</td>\n",
       "      <td>0:26:11.0</td>\n",
       "      <td>-11:2:40.0</td>\n",
       "      <td>0.028</td>\n",
       "      <td>24.389999</td>\n",
       "      <td>0.07</td>\n",
       "      <td>0.07</td>\n",
       "      <td>-83.900002</td>\n",
       "      <td>1.2</td>\n",
       "      <td>1.2</td>\n",
       "      <td>...</td>\n",
       "      <td>0.10</td>\n",
       "      <td>0.10</td>\n",
       "      <td>3</td>\n",
       "      <td>NaN</td>\n",
       "      <td>NaN</td>\n",
       "      <td>NaN</td>\n",
       "      <td>NaN</td>\n",
       "      <td>NaN</td>\n",
       "      <td>NaN</td>\n",
       "      <td>(40)(68)(105)(130)(217)                       ...</td>\n",
       "    </tr>\n",
       "    <tr>\n",
       "      <th>80</th>\n",
       "      <td>Eridanus2</td>\n",
       "      <td>3:44:21.1</td>\n",
       "      <td>-43:32:0.0</td>\n",
       "      <td>0.010</td>\n",
       "      <td>22.900000</td>\n",
       "      <td>0.20</td>\n",
       "      <td>0.20</td>\n",
       "      <td>75.599998</td>\n",
       "      <td>3.3</td>\n",
       "      <td>3.3</td>\n",
       "      <td>...</td>\n",
       "      <td>0.13</td>\n",
       "      <td>0.13</td>\n",
       "      <td>3</td>\n",
       "      <td>0.2100</td>\n",
       "      <td>0.0900</td>\n",
       "      <td>0.0900</td>\n",
       "      <td>-0.0500</td>\n",
       "      <td>0.1100</td>\n",
       "      <td>0.1100</td>\n",
       "      <td>(226)(227)(250)(255)(266)(267)                ...</td>\n",
       "    </tr>\n",
       "    <tr>\n",
       "      <th>100</th>\n",
       "      <td>LMC</td>\n",
       "      <td>5:23:34.5</td>\n",
       "      <td>-69:45:22.0</td>\n",
       "      <td>0.927</td>\n",
       "      <td>18.520000</td>\n",
       "      <td>0.09</td>\n",
       "      <td>0.09</td>\n",
       "      <td>262.200012</td>\n",
       "      <td>3.4</td>\n",
       "      <td>3.4</td>\n",
       "      <td>...</td>\n",
       "      <td>999.00</td>\n",
       "      <td>999.00</td>\n",
       "      <td>3</td>\n",
       "      <td>NaN</td>\n",
       "      <td>NaN</td>\n",
       "      <td>NaN</td>\n",
       "      <td>NaN</td>\n",
       "      <td>NaN</td>\n",
       "      <td>NaN</td>\n",
       "      <td>(16)(17)(41)(131)(132)(182)                   ...</td>\n",
       "    </tr>\n",
       "    <tr>\n",
       "      <th>109</th>\n",
       "      <td>NGC147</td>\n",
       "      <td>0:33:12.1</td>\n",
       "      <td>48:30:32.0</td>\n",
       "      <td>0.173</td>\n",
       "      <td>24.150000</td>\n",
       "      <td>0.09</td>\n",
       "      <td>0.09</td>\n",
       "      <td>-193.100006</td>\n",
       "      <td>0.8</td>\n",
       "      <td>0.8</td>\n",
       "      <td>...</td>\n",
       "      <td>0.10</td>\n",
       "      <td>0.10</td>\n",
       "      <td>3</td>\n",
       "      <td>-0.0232</td>\n",
       "      <td>0.0143</td>\n",
       "      <td>0.0143</td>\n",
       "      <td>0.0378</td>\n",
       "      <td>0.0146</td>\n",
       "      <td>0.0146</td>\n",
       "      <td>(40)(52)(41)(130)(269)                        ...</td>\n",
       "    </tr>\n",
       "    <tr>\n",
       "      <th>110</th>\n",
       "      <td>NGC185</td>\n",
       "      <td>0:38:58.0</td>\n",
       "      <td>48:20:15.0</td>\n",
       "      <td>0.184</td>\n",
       "      <td>23.950001</td>\n",
       "      <td>0.09</td>\n",
       "      <td>0.09</td>\n",
       "      <td>-203.800003</td>\n",
       "      <td>1.1</td>\n",
       "      <td>1.1</td>\n",
       "      <td>...</td>\n",
       "      <td>0.10</td>\n",
       "      <td>0.10</td>\n",
       "      <td>3</td>\n",
       "      <td>-0.0242</td>\n",
       "      <td>0.0141</td>\n",
       "      <td>0.0141</td>\n",
       "      <td>0.0058</td>\n",
       "      <td>0.0147</td>\n",
       "      <td>0.0147</td>\n",
       "      <td>(40)(52)(41)(142)(269)                        ...</td>\n",
       "    </tr>\n",
       "    <tr>\n",
       "      <th>116</th>\n",
       "      <td>NGC6822</td>\n",
       "      <td>19:44:56.6</td>\n",
       "      <td>-14:47:21.0</td>\n",
       "      <td>0.231</td>\n",
       "      <td>23.309999</td>\n",
       "      <td>0.08</td>\n",
       "      <td>0.08</td>\n",
       "      <td>-54.500000</td>\n",
       "      <td>1.7</td>\n",
       "      <td>1.7</td>\n",
       "      <td>...</td>\n",
       "      <td>0.50</td>\n",
       "      <td>0.50</td>\n",
       "      <td>3</td>\n",
       "      <td>-0.0200</td>\n",
       "      <td>0.0200</td>\n",
       "      <td>0.0200</td>\n",
       "      <td>0.0000</td>\n",
       "      <td>0.0200</td>\n",
       "      <td>0.0200</td>\n",
       "      <td>(66)(67)(41)(110)(151)(197)(217)(268)         ...</td>\n",
       "    </tr>\n",
       "    <tr>\n",
       "      <th>121</th>\n",
       "      <td>SMC</td>\n",
       "      <td>0:52:44.8</td>\n",
       "      <td>-72:49:43.0</td>\n",
       "      <td>0.419</td>\n",
       "      <td>19.030001</td>\n",
       "      <td>0.12</td>\n",
       "      <td>0.12</td>\n",
       "      <td>145.600006</td>\n",
       "      <td>0.6</td>\n",
       "      <td>0.6</td>\n",
       "      <td>...</td>\n",
       "      <td>0.02</td>\n",
       "      <td>0.02</td>\n",
       "      <td>3</td>\n",
       "      <td>NaN</td>\n",
       "      <td>NaN</td>\n",
       "      <td>NaN</td>\n",
       "      <td>NaN</td>\n",
       "      <td>NaN</td>\n",
       "      <td>NaN</td>\n",
       "      <td>(18)(19)(41)(133)(132)(184)                   ...</td>\n",
       "    </tr>\n",
       "    <tr>\n",
       "      <th>131</th>\n",
       "      <td>Tucana</td>\n",
       "      <td>22:41:49.6</td>\n",
       "      <td>-64:25:10.0</td>\n",
       "      <td>0.031</td>\n",
       "      <td>24.740000</td>\n",
       "      <td>0.12</td>\n",
       "      <td>0.12</td>\n",
       "      <td>194.000000</td>\n",
       "      <td>4.3</td>\n",
       "      <td>4.3</td>\n",
       "      <td>...</td>\n",
       "      <td>0.15</td>\n",
       "      <td>0.15</td>\n",
       "      <td>3</td>\n",
       "      <td>NaN</td>\n",
       "      <td>NaN</td>\n",
       "      <td>NaN</td>\n",
       "      <td>NaN</td>\n",
       "      <td>NaN</td>\n",
       "      <td>NaN</td>\n",
       "      <td>(74)(75)(114)(130)                            ...</td>\n",
       "    </tr>\n",
       "    <tr>\n",
       "      <th>142</th>\n",
       "      <td>WLM</td>\n",
       "      <td>0:1:58.2</td>\n",
       "      <td>-15:27:39.0</td>\n",
       "      <td>0.038</td>\n",
       "      <td>24.850000</td>\n",
       "      <td>0.08</td>\n",
       "      <td>0.08</td>\n",
       "      <td>-130.000000</td>\n",
       "      <td>1.0</td>\n",
       "      <td>1.0</td>\n",
       "      <td>...</td>\n",
       "      <td>0.02</td>\n",
       "      <td>0.02</td>\n",
       "      <td>3</td>\n",
       "      <td>0.1100</td>\n",
       "      <td>0.0800</td>\n",
       "      <td>0.0800</td>\n",
       "      <td>-0.1000</td>\n",
       "      <td>0.0500</td>\n",
       "      <td>0.0500</td>\n",
       "      <td>(40)(71)(41)(154)(205)(268)                   ...</td>\n",
       "    </tr>\n",
       "  </tbody>\n",
       "</table>\n",
       "<p>38 rows × 49 columns</p>\n",
       "</div>"
      ],
      "text/plain": [
       "           GalaxyName          RA          Dec   EB-V       dmod  dmod+  \\\n",
       "7    *Grus2            22:4:4.8    -46:26:24.0  0.016  18.620001   0.21   \n",
       "20   *Tucana3          23:56:36.0  -59:36:0.0   0.012  17.010000   0.16   \n",
       "21   *Tucana4          0:2:55.2    -60:51:0.0   0.012  18.410000   0.19   \n",
       "22   *Tucana5          23:37:24.0  -63:16:12.0  0.022  18.709999   0.34   \n",
       "24   AndromedaII       1:16:29.8   33:25:9.0    0.061  24.070000   0.06   \n",
       "26   AndromedaIX       0:52:53.0   43:11:45.0   0.075  24.420000   0.07   \n",
       "27   AndromedaV        1:10:17.1   47:37:41.0   0.125  24.440001   0.08   \n",
       "28   AndromedaVI       23:51:46.3  24:34:57.0   0.063  24.469999   0.07   \n",
       "31   AndromedaXI       0:46:20.0   33:48:5.0    0.080  24.330000   0.05   \n",
       "32   AndromedaXII      0:47:27.0   34:22:29.0   0.110  24.840000   0.09   \n",
       "33   AndromedaXIII     0:51:51.0   33:0:16.0    0.082  24.620001   0.05   \n",
       "35   AndromedaXIX      0:19:32.1   35:2:37.0    0.062  24.570000   0.08   \n",
       "36   AndromedaXV       1:14:18.7   38:7:3.0     0.047  23.980000   0.26   \n",
       "37   AndromedaXVI      0:59:29.8   32:22:36.0   0.067  23.389999   0.19   \n",
       "38   AndromedaXVII     0:37:7.0    44:19:20.0   0.074  24.309999   0.11   \n",
       "39   AndromedaXVIII    0:2:14.5    45:5:20.0    0.106  25.420000   0.07   \n",
       "40   AndromedaXX       0:7:30.7    35:7:56.0    0.059  24.350000   0.12   \n",
       "41   AndromedaXXI      23:54:47.7  42:28:15.0   0.093  24.590000   0.06   \n",
       "42   AndromedaXXII     1:27:40.0   28:5:25.0    0.079  24.820000   0.07   \n",
       "43   AndromedaXXIII    1:29:21.8   38:43:8.0    0.066  24.430000   0.13   \n",
       "44   AndromedaXXIV     1:18:30.0   46:21:58.0   0.083  23.889999   0.12   \n",
       "46   AndromedaXXV      0:30:8.9    46:51:7.0    0.101  24.549999   0.12   \n",
       "47   AndromedaXXVI     0:23:45.6   47:54:58.0   0.110  24.410000   0.12   \n",
       "48   AndromedaXXVII    0:37:27.1   45:23:13.0   0.080  24.590000   0.12   \n",
       "49   AndromedaXXVIII   22:32:41.2  31:12:58.0   0.090  24.100000   0.50   \n",
       "50   AndromedaXXX      0:36:34.9   49:38:48.0   0.166  24.170000   0.10   \n",
       "60   Bootes2           13:58:0.0   12:51:0.0    0.031  18.100000   0.06   \n",
       "64   Carina            6:41:36.7   -50:57:58.0  0.061  20.110001   0.13   \n",
       "65   Carina2           7:36:25.6   -57:59:57.0  0.188  17.790001   0.05   \n",
       "68   Cetus             0:26:11.0   -11:2:40.0   0.028  24.389999   0.07   \n",
       "80   Eridanus2         3:44:21.1   -43:32:0.0   0.010  22.900000   0.20   \n",
       "100  LMC               5:23:34.5   -69:45:22.0  0.927  18.520000   0.09   \n",
       "109  NGC147            0:33:12.1   48:30:32.0   0.173  24.150000   0.09   \n",
       "110  NGC185            0:38:58.0   48:20:15.0   0.184  23.950001   0.09   \n",
       "116  NGC6822           19:44:56.6  -14:47:21.0  0.231  23.309999   0.08   \n",
       "121  SMC               0:52:44.8   -72:49:43.0  0.419  19.030001   0.12   \n",
       "131  Tucana            22:41:49.6  -64:25:10.0  0.031  24.740000   0.12   \n",
       "142  WLM               0:1:58.2    -15:27:39.0  0.038  24.850000   0.08   \n",
       "\n",
       "     dmod-          vh  vh+  vh-  ...    feh+    feh-  F    pmra  epmra+  \\\n",
       "7     0.21 -110.000000  0.5  0.5  ...    0.11    0.11  3  0.3800  0.0300   \n",
       "20    0.16 -102.300003  2.4  2.4  ...    0.07    0.08  3 -0.0800  0.0100   \n",
       "21    0.19   15.900000  1.8  1.7  ...    0.15    0.16  3  0.5400  0.0600   \n",
       "22    0.34  -36.299999  2.5  2.2  ...    0.23    0.23  3 -0.1400  0.0600   \n",
       "24    0.06 -192.399994  0.5  0.5  ...    0.03    0.03  3     NaN     NaN   \n",
       "26    0.07 -209.399994  2.5  2.5  ...    0.20    0.20  3     NaN     NaN   \n",
       "27    0.08 -403.000000  4.0  4.0  ...    0.10    0.10  3     NaN     NaN   \n",
       "28    0.07 -339.799988  1.9  1.9  ...    0.10    0.10  3     NaN     NaN   \n",
       "31    0.05 -419.600006  4.4  4.4  ...    0.10    0.10  3     NaN     NaN   \n",
       "32    0.34 -558.400024  3.2  3.2  ...    0.20    0.20  3     NaN     NaN   \n",
       "33    0.05 -185.399994  2.4  2.4  ...    0.30    0.30  3     NaN     NaN   \n",
       "35    0.43 -111.599998  1.6  1.4  ...    0.30    0.30  3     NaN     NaN   \n",
       "36    0.12 -323.000000  1.4  1.4  ...    0.20    0.20  3     NaN     NaN   \n",
       "37    0.14 -367.299988  2.8  2.8  ...    0.20    0.20  3     NaN     NaN   \n",
       "38    0.08 -251.600006  1.8  2.0  ...    0.20    0.20  3     NaN     NaN   \n",
       "39    0.08 -332.100006  2.7  2.7  ...    0.30    0.30  3     NaN     NaN   \n",
       "40    0.16 -456.200012  3.1  3.6  ...    0.40    0.40  3     NaN     NaN   \n",
       "41    0.07 -362.500000  0.9  0.9  ...    0.10    0.10  3     NaN     NaN   \n",
       "42    0.36 -129.800003  2.0  2.0  ...    0.60    0.60  3     NaN     NaN   \n",
       "43    0.13 -237.699997  1.2  1.2  ...    0.30    0.30  3     NaN     NaN   \n",
       "44    0.12 -128.199997  5.2  5.2  ...    0.30    0.30  3     NaN     NaN   \n",
       "46    0.12 -107.800003  1.0  1.0  ...    0.10    0.10  3     NaN     NaN   \n",
       "47    0.12 -261.600006  3.0  2.8  ...    0.50    0.50  3     NaN     NaN   \n",
       "48    0.12 -539.599976  4.7  4.5  ...    0.50    0.50  3     NaN     NaN   \n",
       "49    0.20 -326.200012  2.7  2.7  ...    0.30    0.30  3     NaN     NaN   \n",
       "50    0.26 -139.800003  6.0  6.6  ...    0.40    0.40  3     NaN     NaN   \n",
       "60    0.06 -117.000000  5.2  5.2  ...    0.05    0.05  3 -2.3300  0.0900   \n",
       "64    0.13  222.899994  0.1  0.1  ...    0.01    0.01  3  0.5300  0.0100   \n",
       "65    0.05  477.200012  1.2  1.2  ...    0.09    0.09  3  1.8800  0.0100   \n",
       "68    0.07  -83.900002  1.2  1.2  ...    0.10    0.10  3     NaN     NaN   \n",
       "80    0.20   75.599998  3.3  3.3  ...    0.13    0.13  3  0.2100  0.0900   \n",
       "100   0.09  262.200012  3.4  3.4  ...  999.00  999.00  3     NaN     NaN   \n",
       "109   0.09 -193.100006  0.8  0.8  ...    0.10    0.10  3 -0.0232  0.0143   \n",
       "110   0.09 -203.800003  1.1  1.1  ...    0.10    0.10  3 -0.0242  0.0141   \n",
       "116   0.08  -54.500000  1.7  1.7  ...    0.50    0.50  3 -0.0200  0.0200   \n",
       "121   0.12  145.600006  0.6  0.6  ...    0.02    0.02  3     NaN     NaN   \n",
       "131   0.12  194.000000  4.3  4.3  ...    0.15    0.15  3     NaN     NaN   \n",
       "142   0.08 -130.000000  1.0  1.0  ...    0.02    0.02  3  0.1100  0.0800   \n",
       "\n",
       "     epmra-   pmdec  epmdec+  epmdec-  \\\n",
       "7    0.0300 -1.4600   0.0400   0.0400   \n",
       "20   0.0100 -1.6200   0.0200   0.0200   \n",
       "21   0.0600 -1.6700   0.0700   0.0700   \n",
       "22   0.0500 -1.1500   0.0800   0.0600   \n",
       "24      NaN     NaN      NaN      NaN   \n",
       "26      NaN     NaN      NaN      NaN   \n",
       "27      NaN     NaN      NaN      NaN   \n",
       "28      NaN     NaN      NaN      NaN   \n",
       "31      NaN     NaN      NaN      NaN   \n",
       "32      NaN     NaN      NaN      NaN   \n",
       "33      NaN     NaN      NaN      NaN   \n",
       "35      NaN     NaN      NaN      NaN   \n",
       "36      NaN     NaN      NaN      NaN   \n",
       "37      NaN     NaN      NaN      NaN   \n",
       "38      NaN     NaN      NaN      NaN   \n",
       "39      NaN     NaN      NaN      NaN   \n",
       "40      NaN     NaN      NaN      NaN   \n",
       "41      NaN     NaN      NaN      NaN   \n",
       "42      NaN     NaN      NaN      NaN   \n",
       "43      NaN     NaN      NaN      NaN   \n",
       "44      NaN     NaN      NaN      NaN   \n",
       "46      NaN     NaN      NaN      NaN   \n",
       "47      NaN     NaN      NaN      NaN   \n",
       "48      NaN     NaN      NaN      NaN   \n",
       "49      NaN     NaN      NaN      NaN   \n",
       "50      NaN     NaN      NaN      NaN   \n",
       "60   0.0800 -0.4100   0.0600   0.0600   \n",
       "64   0.0100  0.1200   0.0100   0.0100   \n",
       "65   0.0100  0.1300   0.0200   0.0200   \n",
       "68      NaN     NaN      NaN      NaN   \n",
       "80   0.0900 -0.0500   0.1100   0.1100   \n",
       "100     NaN     NaN      NaN      NaN   \n",
       "109  0.0143  0.0378   0.0146   0.0146   \n",
       "110  0.0141  0.0058   0.0147   0.0147   \n",
       "116  0.0200  0.0000   0.0200   0.0200   \n",
       "121     NaN     NaN      NaN      NaN   \n",
       "131     NaN     NaN      NaN      NaN   \n",
       "142  0.0800 -0.1000   0.0500   0.0500   \n",
       "\n",
       "                                            References  \n",
       "7    (232)(262)(266)(267)                          ...  \n",
       "20   (232)(253)(266)(267)                          ...  \n",
       "21   (232)(262)(266)(267)                          ...  \n",
       "22   (232)(262)(266)(267)                          ...  \n",
       "24   (40)(47)(105)(130)(204)                       ...  \n",
       "26   (40)(44)(103)(130)(201)                       ...  \n",
       "27   (40)(49)(105)(144)(143)(130)(207)             ...  \n",
       "28   (40)(49)(105)(144)(130)(207)                  ...  \n",
       "31   (44)(103)(130)(206)(207)                      ...  \n",
       "32   (44)(103)(130)(202)(207)                      ...  \n",
       "33   (44)(103)(130)(201)(206)(207)                 ...  \n",
       "35   (51)(202)(207)                                ...  \n",
       "36   (55)(56)(130)(201)(202)                       ...  \n",
       "37   (55)(56)(130)(201)(202)                       ...  \n",
       "38   (46)(104)(130)(104)(202)(207)                 ...  \n",
       "39   (51)(201)(202)(207)                           ...  \n",
       "40   (51)(202)(207)                                ...  \n",
       "41   (53)(201)(202)(207)                           ...  \n",
       "42   (53)(201)(202)(207)(212)                      ...  \n",
       "43   (48)(207)                                     ...  \n",
       "44   (48)(207)                                     ...  \n",
       "46   (48)(207)                                     ...  \n",
       "47   (48)(207)                                     ...  \n",
       "48   (48)(207)                                     ...  \n",
       "49   (61)(207)                                     ...  \n",
       "50   (202)(207)(208)                               ...  \n",
       "60   (9)(10)(98)(130)(255)(266)(267)               ...  \n",
       "64   (29)(26)(100)(136)(130)(190)(255)(266)(267)   ...  \n",
       "65   (237)(246)(266)(267)                          ...  \n",
       "68   (40)(68)(105)(130)(217)                       ...  \n",
       "80   (226)(227)(250)(255)(266)(267)                ...  \n",
       "100  (16)(17)(41)(131)(132)(182)                   ...  \n",
       "109  (40)(52)(41)(130)(269)                        ...  \n",
       "110  (40)(52)(41)(142)(269)                        ...  \n",
       "116  (66)(67)(41)(110)(151)(197)(217)(268)         ...  \n",
       "121  (18)(19)(41)(133)(132)(184)                   ...  \n",
       "131  (74)(75)(114)(130)                            ...  \n",
       "142  (40)(71)(41)(154)(205)(268)                   ...  \n",
       "\n",
       "[38 rows x 49 columns]"
      ]
     },
     "metadata": {},
     "output_type": "display_data"
    },
    {
     "name": "stdout",
     "output_type": "stream",
     "text": [
      "f:4\n"
     ]
    },
    {
     "data": {
      "text/html": [
       "<div>\n",
       "<style scoped>\n",
       "    .dataframe tbody tr th:only-of-type {\n",
       "        vertical-align: middle;\n",
       "    }\n",
       "\n",
       "    .dataframe tbody tr th {\n",
       "        vertical-align: top;\n",
       "    }\n",
       "\n",
       "    .dataframe thead th {\n",
       "        text-align: right;\n",
       "    }\n",
       "</style>\n",
       "<table border=\"1\" class=\"dataframe\">\n",
       "  <thead>\n",
       "    <tr style=\"text-align: right;\">\n",
       "      <th></th>\n",
       "      <th>GalaxyName</th>\n",
       "      <th>RA</th>\n",
       "      <th>Dec</th>\n",
       "      <th>EB-V</th>\n",
       "      <th>dmod</th>\n",
       "      <th>dmod+</th>\n",
       "      <th>dmod-</th>\n",
       "      <th>vh</th>\n",
       "      <th>vh+</th>\n",
       "      <th>vh-</th>\n",
       "      <th>...</th>\n",
       "      <th>feh+</th>\n",
       "      <th>feh-</th>\n",
       "      <th>F</th>\n",
       "      <th>pmra</th>\n",
       "      <th>epmra+</th>\n",
       "      <th>epmra-</th>\n",
       "      <th>pmdec</th>\n",
       "      <th>epmdec+</th>\n",
       "      <th>epmdec-</th>\n",
       "      <th>References</th>\n",
       "    </tr>\n",
       "  </thead>\n",
       "  <tbody>\n",
       "    <tr>\n",
       "      <th>1</th>\n",
       "      <td>*CanisMajor</td>\n",
       "      <td>7:12:35.0</td>\n",
       "      <td>-27:40:0.0</td>\n",
       "      <td>0.264</td>\n",
       "      <td>14.290000</td>\n",
       "      <td>0.30</td>\n",
       "      <td>0.30</td>\n",
       "      <td>87.000000</td>\n",
       "      <td>4.0</td>\n",
       "      <td>4.0</td>\n",
       "      <td>...</td>\n",
       "      <td>0.2</td>\n",
       "      <td>0.2</td>\n",
       "      <td>4</td>\n",
       "      <td>NaN</td>\n",
       "      <td>NaN</td>\n",
       "      <td>NaN</td>\n",
       "      <td>NaN</td>\n",
       "      <td>NaN</td>\n",
       "      <td>NaN</td>\n",
       "      <td>(1)(2)(95)(176)                               ...</td>\n",
       "    </tr>\n",
       "    <tr>\n",
       "      <th>89</th>\n",
       "      <td>IC1613</td>\n",
       "      <td>1:4:47.8</td>\n",
       "      <td>2:7:4.0</td>\n",
       "      <td>0.025</td>\n",
       "      <td>24.389999</td>\n",
       "      <td>0.12</td>\n",
       "      <td>0.12</td>\n",
       "      <td>-231.600006</td>\n",
       "      <td>1.2</td>\n",
       "      <td>1.2</td>\n",
       "      <td>...</td>\n",
       "      <td>0.2</td>\n",
       "      <td>0.2</td>\n",
       "      <td>4</td>\n",
       "      <td>0.08</td>\n",
       "      <td>0.06</td>\n",
       "      <td>0.07</td>\n",
       "      <td>-0.04</td>\n",
       "      <td>0.03</td>\n",
       "      <td>0.03</td>\n",
       "      <td>(62)(63)(41)(148)(149)(217)(268)              ...</td>\n",
       "    </tr>\n",
       "    <tr>\n",
       "      <th>93</th>\n",
       "      <td>KK258</td>\n",
       "      <td>22:40:43.9</td>\n",
       "      <td>-30:47:59.0</td>\n",
       "      <td>0.013</td>\n",
       "      <td>26.850000</td>\n",
       "      <td>0.07</td>\n",
       "      <td>0.07</td>\n",
       "      <td>92.000000</td>\n",
       "      <td>5.0</td>\n",
       "      <td>5.0</td>\n",
       "      <td>...</td>\n",
       "      <td>999.0</td>\n",
       "      <td>999.0</td>\n",
       "      <td>4</td>\n",
       "      <td>NaN</td>\n",
       "      <td>NaN</td>\n",
       "      <td>NaN</td>\n",
       "      <td>NaN</td>\n",
       "      <td>NaN</td>\n",
       "      <td>NaN</td>\n",
       "      <td>(219)(220)                                    ...</td>\n",
       "    </tr>\n",
       "    <tr>\n",
       "      <th>98</th>\n",
       "      <td>KKs3</td>\n",
       "      <td>2:24:44.4</td>\n",
       "      <td>-73:30:51.0</td>\n",
       "      <td>0.050</td>\n",
       "      <td>26.629999</td>\n",
       "      <td>0.07</td>\n",
       "      <td>0.07</td>\n",
       "      <td>316.000000</td>\n",
       "      <td>7.0</td>\n",
       "      <td>7.0</td>\n",
       "      <td>...</td>\n",
       "      <td>999.0</td>\n",
       "      <td>999.0</td>\n",
       "      <td>4</td>\n",
       "      <td>NaN</td>\n",
       "      <td>NaN</td>\n",
       "      <td>NaN</td>\n",
       "      <td>NaN</td>\n",
       "      <td>NaN</td>\n",
       "      <td>NaN</td>\n",
       "      <td>(233)(234)(220)                               ...</td>\n",
       "    </tr>\n",
       "    <tr>\n",
       "      <th>105</th>\n",
       "      <td>LeoA</td>\n",
       "      <td>9:59:26.5</td>\n",
       "      <td>30:44:47.0</td>\n",
       "      <td>0.021</td>\n",
       "      <td>24.510000</td>\n",
       "      <td>0.12</td>\n",
       "      <td>0.12</td>\n",
       "      <td>24.000000</td>\n",
       "      <td>1.5</td>\n",
       "      <td>1.5</td>\n",
       "      <td>...</td>\n",
       "      <td>0.2</td>\n",
       "      <td>0.2</td>\n",
       "      <td>4</td>\n",
       "      <td>0.49</td>\n",
       "      <td>0.32</td>\n",
       "      <td>0.32</td>\n",
       "      <td>-0.46</td>\n",
       "      <td>0.28</td>\n",
       "      <td>0.28</td>\n",
       "      <td>(72)(73)(41)(112)(155)(198)(217)(268)         ...</td>\n",
       "    </tr>\n",
       "  </tbody>\n",
       "</table>\n",
       "<p>5 rows × 49 columns</p>\n",
       "</div>"
      ],
      "text/plain": [
       "           GalaxyName          RA          Dec   EB-V       dmod  dmod+  \\\n",
       "1    *CanisMajor       7:12:35.0   -27:40:0.0   0.264  14.290000   0.30   \n",
       "89   IC1613            1:4:47.8    2:7:4.0      0.025  24.389999   0.12   \n",
       "93   KK258             22:40:43.9  -30:47:59.0  0.013  26.850000   0.07   \n",
       "98   KKs3              2:24:44.4   -73:30:51.0  0.050  26.629999   0.07   \n",
       "105  LeoA              9:59:26.5   30:44:47.0   0.021  24.510000   0.12   \n",
       "\n",
       "     dmod-          vh  vh+  vh-  ...   feh+   feh-  F  pmra  epmra+  epmra-  \\\n",
       "1     0.30   87.000000  4.0  4.0  ...    0.2    0.2  4   NaN     NaN     NaN   \n",
       "89    0.12 -231.600006  1.2  1.2  ...    0.2    0.2  4  0.08    0.06    0.07   \n",
       "93    0.07   92.000000  5.0  5.0  ...  999.0  999.0  4   NaN     NaN     NaN   \n",
       "98    0.07  316.000000  7.0  7.0  ...  999.0  999.0  4   NaN     NaN     NaN   \n",
       "105   0.12   24.000000  1.5  1.5  ...    0.2    0.2  4  0.49    0.32    0.32   \n",
       "\n",
       "     pmdec  epmdec+  epmdec-  \\\n",
       "1      NaN      NaN      NaN   \n",
       "89   -0.04     0.03     0.03   \n",
       "93     NaN      NaN      NaN   \n",
       "98     NaN      NaN      NaN   \n",
       "105  -0.46     0.28     0.28   \n",
       "\n",
       "                                            References  \n",
       "1    (1)(2)(95)(176)                               ...  \n",
       "89   (62)(63)(41)(148)(149)(217)(268)              ...  \n",
       "93   (219)(220)                                    ...  \n",
       "98   (233)(234)(220)                               ...  \n",
       "105  (72)(73)(41)(112)(155)(198)(217)(268)         ...  \n",
       "\n",
       "[5 rows x 49 columns]"
      ]
     },
     "metadata": {},
     "output_type": "display_data"
    },
    {
     "name": "stdout",
     "output_type": "stream",
     "text": [
      "f:5\n"
     ]
    },
    {
     "data": {
      "text/html": [
       "<div>\n",
       "<style scoped>\n",
       "    .dataframe tbody tr th:only-of-type {\n",
       "        vertical-align: middle;\n",
       "    }\n",
       "\n",
       "    .dataframe tbody tr th {\n",
       "        vertical-align: top;\n",
       "    }\n",
       "\n",
       "    .dataframe thead th {\n",
       "        text-align: right;\n",
       "    }\n",
       "</style>\n",
       "<table border=\"1\" class=\"dataframe\">\n",
       "  <thead>\n",
       "    <tr style=\"text-align: right;\">\n",
       "      <th></th>\n",
       "      <th>GalaxyName</th>\n",
       "      <th>RA</th>\n",
       "      <th>Dec</th>\n",
       "      <th>EB-V</th>\n",
       "      <th>dmod</th>\n",
       "      <th>dmod+</th>\n",
       "      <th>dmod-</th>\n",
       "      <th>vh</th>\n",
       "      <th>vh+</th>\n",
       "      <th>vh-</th>\n",
       "      <th>...</th>\n",
       "      <th>feh+</th>\n",
       "      <th>feh-</th>\n",
       "      <th>F</th>\n",
       "      <th>pmra</th>\n",
       "      <th>epmra+</th>\n",
       "      <th>epmra-</th>\n",
       "      <th>pmdec</th>\n",
       "      <th>epmdec+</th>\n",
       "      <th>epmdec-</th>\n",
       "      <th>References</th>\n",
       "    </tr>\n",
       "  </thead>\n",
       "  <tbody>\n",
       "    <tr>\n",
       "      <th>2</th>\n",
       "      <td>*Cetus2</td>\n",
       "      <td>1:17:52.8</td>\n",
       "      <td>-17:25:12.0</td>\n",
       "      <td>0.020</td>\n",
       "      <td>17.100000</td>\n",
       "      <td>0.10</td>\n",
       "      <td>0.10</td>\n",
       "      <td>999.000000</td>\n",
       "      <td>999.0</td>\n",
       "      <td>999.0</td>\n",
       "      <td>...</td>\n",
       "      <td>0.07</td>\n",
       "      <td>0.07</td>\n",
       "      <td>5</td>\n",
       "      <td>2.84</td>\n",
       "      <td>0.05</td>\n",
       "      <td>0.07</td>\n",
       "      <td>0.46</td>\n",
       "      <td>0.06</td>\n",
       "      <td>0.07</td>\n",
       "      <td>(232)(260)(266)(267)                          ...</td>\n",
       "    </tr>\n",
       "    <tr>\n",
       "      <th>4</th>\n",
       "      <td>*Draco2</td>\n",
       "      <td>15:52:47.6</td>\n",
       "      <td>64:33:55.0</td>\n",
       "      <td>0.018</td>\n",
       "      <td>16.670000</td>\n",
       "      <td>0.05</td>\n",
       "      <td>0.05</td>\n",
       "      <td>-342.500000</td>\n",
       "      <td>1.1</td>\n",
       "      <td>1.2</td>\n",
       "      <td>...</td>\n",
       "      <td>0.10</td>\n",
       "      <td>0.10</td>\n",
       "      <td>5</td>\n",
       "      <td>1.08</td>\n",
       "      <td>0.07</td>\n",
       "      <td>0.07</td>\n",
       "      <td>0.91</td>\n",
       "      <td>0.08</td>\n",
       "      <td>0.08</td>\n",
       "      <td>(225)(259)(266)(267)                          ...</td>\n",
       "    </tr>\n",
       "    <tr>\n",
       "      <th>9</th>\n",
       "      <td>*Horologium2</td>\n",
       "      <td>3:16:32.1</td>\n",
       "      <td>-50:1:5.0</td>\n",
       "      <td>0.020</td>\n",
       "      <td>19.459999</td>\n",
       "      <td>0.20</td>\n",
       "      <td>0.20</td>\n",
       "      <td>168.699997</td>\n",
       "      <td>12.9</td>\n",
       "      <td>12.6</td>\n",
       "      <td>...</td>\n",
       "      <td>999.00</td>\n",
       "      <td>999.00</td>\n",
       "      <td>5</td>\n",
       "      <td>0.76</td>\n",
       "      <td>0.20</td>\n",
       "      <td>0.29</td>\n",
       "      <td>-0.41</td>\n",
       "      <td>0.23</td>\n",
       "      <td>0.21</td>\n",
       "      <td>(230)(231)(248)(255)(266)(267)                ...</td>\n",
       "    </tr>\n",
       "    <tr>\n",
       "      <th>13</th>\n",
       "      <td>*Pegasus3</td>\n",
       "      <td>22:24:22.6</td>\n",
       "      <td>5:25:12.0</td>\n",
       "      <td>0.147</td>\n",
       "      <td>21.559999</td>\n",
       "      <td>0.20</td>\n",
       "      <td>0.20</td>\n",
       "      <td>-222.899994</td>\n",
       "      <td>2.6</td>\n",
       "      <td>2.6</td>\n",
       "      <td>...</td>\n",
       "      <td>999.00</td>\n",
       "      <td>999.00</td>\n",
       "      <td>5</td>\n",
       "      <td>0.06</td>\n",
       "      <td>0.10</td>\n",
       "      <td>0.10</td>\n",
       "      <td>-0.20</td>\n",
       "      <td>0.10</td>\n",
       "      <td>0.10</td>\n",
       "      <td>(229)(249)(266)(267)                          ...</td>\n",
       "    </tr>\n",
       "    <tr>\n",
       "      <th>18</th>\n",
       "      <td>*Sagittarius2</td>\n",
       "      <td>19:52:40.5</td>\n",
       "      <td>-22:4:5.0</td>\n",
       "      <td>0.110</td>\n",
       "      <td>19.320000</td>\n",
       "      <td>0.03</td>\n",
       "      <td>0.02</td>\n",
       "      <td>-177.300003</td>\n",
       "      <td>1.2</td>\n",
       "      <td>1.2</td>\n",
       "      <td>...</td>\n",
       "      <td>0.03</td>\n",
       "      <td>0.03</td>\n",
       "      <td>5</td>\n",
       "      <td>-0.77</td>\n",
       "      <td>0.03</td>\n",
       "      <td>0.03</td>\n",
       "      <td>-0.89</td>\n",
       "      <td>0.02</td>\n",
       "      <td>0.02</td>\n",
       "      <td>(225)(251)(266)(267)                          ...</td>\n",
       "    </tr>\n",
       "    <tr>\n",
       "      <th>19</th>\n",
       "      <td>*Triangulum2</td>\n",
       "      <td>2:13:17.4</td>\n",
       "      <td>36:10:42.0</td>\n",
       "      <td>0.079</td>\n",
       "      <td>17.400000</td>\n",
       "      <td>0.10</td>\n",
       "      <td>0.10</td>\n",
       "      <td>-381.700012</td>\n",
       "      <td>1.1</td>\n",
       "      <td>1.1</td>\n",
       "      <td>...</td>\n",
       "      <td>0.05</td>\n",
       "      <td>0.05</td>\n",
       "      <td>5</td>\n",
       "      <td>0.56</td>\n",
       "      <td>0.05</td>\n",
       "      <td>0.05</td>\n",
       "      <td>0.07</td>\n",
       "      <td>0.06</td>\n",
       "      <td>0.06</td>\n",
       "      <td>(221)(261)(266)(267)                          ...</td>\n",
       "    </tr>\n",
       "    <tr>\n",
       "      <th>23</th>\n",
       "      <td>AndromedaI</td>\n",
       "      <td>0:45:39.8</td>\n",
       "      <td>38:2:28.0</td>\n",
       "      <td>0.053</td>\n",
       "      <td>24.360001</td>\n",
       "      <td>0.07</td>\n",
       "      <td>0.07</td>\n",
       "      <td>-376.299988</td>\n",
       "      <td>2.2</td>\n",
       "      <td>2.2</td>\n",
       "      <td>...</td>\n",
       "      <td>0.04</td>\n",
       "      <td>0.04</td>\n",
       "      <td>5</td>\n",
       "      <td>NaN</td>\n",
       "      <td>NaN</td>\n",
       "      <td>NaN</td>\n",
       "      <td>NaN</td>\n",
       "      <td>NaN</td>\n",
       "      <td>NaN</td>\n",
       "      <td>(40)(47)(105)(130)(201)                       ...</td>\n",
       "    </tr>\n",
       "    <tr>\n",
       "      <th>25</th>\n",
       "      <td>AndromedaIII</td>\n",
       "      <td>0:35:33.8</td>\n",
       "      <td>36:29:52.0</td>\n",
       "      <td>0.056</td>\n",
       "      <td>24.370001</td>\n",
       "      <td>0.07</td>\n",
       "      <td>0.07</td>\n",
       "      <td>-344.299988</td>\n",
       "      <td>1.7</td>\n",
       "      <td>1.7</td>\n",
       "      <td>...</td>\n",
       "      <td>0.04</td>\n",
       "      <td>0.04</td>\n",
       "      <td>5</td>\n",
       "      <td>NaN</td>\n",
       "      <td>NaN</td>\n",
       "      <td>NaN</td>\n",
       "      <td>NaN</td>\n",
       "      <td>NaN</td>\n",
       "      <td>NaN</td>\n",
       "      <td>(40)(47)(105)(143)(130)(201)                  ...</td>\n",
       "    </tr>\n",
       "    <tr>\n",
       "      <th>29</th>\n",
       "      <td>AndromedaVII</td>\n",
       "      <td>23:26:31.7</td>\n",
       "      <td>50:40:33.0</td>\n",
       "      <td>0.194</td>\n",
       "      <td>24.410000</td>\n",
       "      <td>0.10</td>\n",
       "      <td>0.10</td>\n",
       "      <td>-307.200012</td>\n",
       "      <td>1.3</td>\n",
       "      <td>1.3</td>\n",
       "      <td>...</td>\n",
       "      <td>0.30</td>\n",
       "      <td>0.30</td>\n",
       "      <td>5</td>\n",
       "      <td>NaN</td>\n",
       "      <td>NaN</td>\n",
       "      <td>NaN</td>\n",
       "      <td>NaN</td>\n",
       "      <td>NaN</td>\n",
       "      <td>NaN</td>\n",
       "      <td>(40)(47)(105)(130)(201)                       ...</td>\n",
       "    </tr>\n",
       "    <tr>\n",
       "      <th>30</th>\n",
       "      <td>AndromedaX</td>\n",
       "      <td>1:6:33.7</td>\n",
       "      <td>44:48:16.0</td>\n",
       "      <td>0.129</td>\n",
       "      <td>24.129999</td>\n",
       "      <td>0.08</td>\n",
       "      <td>0.13</td>\n",
       "      <td>-164.100006</td>\n",
       "      <td>1.7</td>\n",
       "      <td>1.7</td>\n",
       "      <td>...</td>\n",
       "      <td>0.11</td>\n",
       "      <td>0.11</td>\n",
       "      <td>5</td>\n",
       "      <td>NaN</td>\n",
       "      <td>NaN</td>\n",
       "      <td>NaN</td>\n",
       "      <td>NaN</td>\n",
       "      <td>NaN</td>\n",
       "      <td>NaN</td>\n",
       "      <td>(50)(47)(104)(130)(201)(202)                  ...</td>\n",
       "    </tr>\n",
       "    <tr>\n",
       "      <th>34</th>\n",
       "      <td>AndromedaXIV</td>\n",
       "      <td>0:51:35.0</td>\n",
       "      <td>29:41:49.0</td>\n",
       "      <td>0.060</td>\n",
       "      <td>24.500000</td>\n",
       "      <td>0.06</td>\n",
       "      <td>0.56</td>\n",
       "      <td>-480.600006</td>\n",
       "      <td>1.2</td>\n",
       "      <td>1.2</td>\n",
       "      <td>...</td>\n",
       "      <td>0.05</td>\n",
       "      <td>0.05</td>\n",
       "      <td>5</td>\n",
       "      <td>NaN</td>\n",
       "      <td>NaN</td>\n",
       "      <td>NaN</td>\n",
       "      <td>NaN</td>\n",
       "      <td>NaN</td>\n",
       "      <td>NaN</td>\n",
       "      <td>(54)(47)(130)(201)(202)                       ...</td>\n",
       "    </tr>\n",
       "    <tr>\n",
       "      <th>45</th>\n",
       "      <td>AndromedaXXIX</td>\n",
       "      <td>23:58:55.6</td>\n",
       "      <td>30:45:20.0</td>\n",
       "      <td>0.046</td>\n",
       "      <td>24.320000</td>\n",
       "      <td>0.22</td>\n",
       "      <td>0.22</td>\n",
       "      <td>-194.399994</td>\n",
       "      <td>1.5</td>\n",
       "      <td>1.5</td>\n",
       "      <td>...</td>\n",
       "      <td>999.00</td>\n",
       "      <td>999.00</td>\n",
       "      <td>5</td>\n",
       "      <td>NaN</td>\n",
       "      <td>NaN</td>\n",
       "      <td>NaN</td>\n",
       "      <td>NaN</td>\n",
       "      <td>NaN</td>\n",
       "      <td>NaN</td>\n",
       "      <td>(57)(216)                                     ...</td>\n",
       "    </tr>\n",
       "    <tr>\n",
       "      <th>56</th>\n",
       "      <td>AntliaB</td>\n",
       "      <td>9:48:56.1</td>\n",
       "      <td>-25:59:24.0</td>\n",
       "      <td>0.080</td>\n",
       "      <td>25.559999</td>\n",
       "      <td>0.16</td>\n",
       "      <td>0.16</td>\n",
       "      <td>376.000000</td>\n",
       "      <td>2.0</td>\n",
       "      <td>2.0</td>\n",
       "      <td>...</td>\n",
       "      <td>999.00</td>\n",
       "      <td>999.00</td>\n",
       "      <td>5</td>\n",
       "      <td>NaN</td>\n",
       "      <td>NaN</td>\n",
       "      <td>NaN</td>\n",
       "      <td>NaN</td>\n",
       "      <td>NaN</td>\n",
       "      <td>NaN</td>\n",
       "      <td>(224)                                         ...</td>\n",
       "    </tr>\n",
       "    <tr>\n",
       "      <th>57</th>\n",
       "      <td>Aquarius</td>\n",
       "      <td>20:46:51.8</td>\n",
       "      <td>-12:50:53.0</td>\n",
       "      <td>0.051</td>\n",
       "      <td>25.150000</td>\n",
       "      <td>0.08</td>\n",
       "      <td>0.08</td>\n",
       "      <td>-137.699997</td>\n",
       "      <td>2.1</td>\n",
       "      <td>2.1</td>\n",
       "      <td>...</td>\n",
       "      <td>0.20</td>\n",
       "      <td>0.20</td>\n",
       "      <td>5</td>\n",
       "      <td>NaN</td>\n",
       "      <td>NaN</td>\n",
       "      <td>NaN</td>\n",
       "      <td>NaN</td>\n",
       "      <td>NaN</td>\n",
       "      <td>NaN</td>\n",
       "      <td>(40)(69)(113)(217)                            ...</td>\n",
       "    </tr>\n",
       "    <tr>\n",
       "      <th>66</th>\n",
       "      <td>Carina3</td>\n",
       "      <td>7:38:31.2</td>\n",
       "      <td>-57:53:59.0</td>\n",
       "      <td>0.196</td>\n",
       "      <td>17.219999</td>\n",
       "      <td>0.10</td>\n",
       "      <td>0.10</td>\n",
       "      <td>284.600006</td>\n",
       "      <td>3.4</td>\n",
       "      <td>3.1</td>\n",
       "      <td>...</td>\n",
       "      <td>0.20</td>\n",
       "      <td>0.20</td>\n",
       "      <td>5</td>\n",
       "      <td>3.12</td>\n",
       "      <td>0.05</td>\n",
       "      <td>0.05</td>\n",
       "      <td>1.54</td>\n",
       "      <td>0.06</td>\n",
       "      <td>0.07</td>\n",
       "      <td>(237)(246)(266)(267)                          ...</td>\n",
       "    </tr>\n",
       "    <tr>\n",
       "      <th>67</th>\n",
       "      <td>Centaurus1</td>\n",
       "      <td>12:38:20.4</td>\n",
       "      <td>-40:54:7.2</td>\n",
       "      <td>0.124</td>\n",
       "      <td>20.330000</td>\n",
       "      <td>0.10</td>\n",
       "      <td>0.10</td>\n",
       "      <td>999.000000</td>\n",
       "      <td>999.0</td>\n",
       "      <td>999.0</td>\n",
       "      <td>...</td>\n",
       "      <td>999.00</td>\n",
       "      <td>999.00</td>\n",
       "      <td>5</td>\n",
       "      <td>-0.14</td>\n",
       "      <td>0.05</td>\n",
       "      <td>0.05</td>\n",
       "      <td>-0.20</td>\n",
       "      <td>0.04</td>\n",
       "      <td>0.04</td>\n",
       "      <td>(256)(266)(267)                               ...</td>\n",
       "    </tr>\n",
       "    <tr>\n",
       "      <th>76</th>\n",
       "      <td>*DESJ0225+0304</td>\n",
       "      <td>2:25:42.4</td>\n",
       "      <td>3:4:10.1</td>\n",
       "      <td>0.038</td>\n",
       "      <td>16.879999</td>\n",
       "      <td>0.06</td>\n",
       "      <td>0.05</td>\n",
       "      <td>999.000000</td>\n",
       "      <td>999.0</td>\n",
       "      <td>999.0</td>\n",
       "      <td>...</td>\n",
       "      <td>0.03</td>\n",
       "      <td>0.03</td>\n",
       "      <td>5</td>\n",
       "      <td>1.07</td>\n",
       "      <td>0.58</td>\n",
       "      <td>0.56</td>\n",
       "      <td>-0.21</td>\n",
       "      <td>0.48</td>\n",
       "      <td>1.21</td>\n",
       "      <td>(257)(266)(267)                               ...</td>\n",
       "    </tr>\n",
       "    <tr>\n",
       "      <th>88</th>\n",
       "      <td>IC10</td>\n",
       "      <td>0:20:17.3</td>\n",
       "      <td>59:18:14.0</td>\n",
       "      <td>1.568</td>\n",
       "      <td>24.500000</td>\n",
       "      <td>0.12</td>\n",
       "      <td>0.12</td>\n",
       "      <td>-348.000000</td>\n",
       "      <td>1.0</td>\n",
       "      <td>1.0</td>\n",
       "      <td>...</td>\n",
       "      <td>999.00</td>\n",
       "      <td>999.00</td>\n",
       "      <td>5</td>\n",
       "      <td>NaN</td>\n",
       "      <td>NaN</td>\n",
       "      <td>NaN</td>\n",
       "      <td>NaN</td>\n",
       "      <td>NaN</td>\n",
       "      <td>NaN</td>\n",
       "      <td>(59)(43)(41)(106)(145)(146)(196)              ...</td>\n",
       "    </tr>\n",
       "    <tr>\n",
       "      <th>104</th>\n",
       "      <td>Leo5</td>\n",
       "      <td>11:31:9.6</td>\n",
       "      <td>2:13:12.0</td>\n",
       "      <td>0.027</td>\n",
       "      <td>21.459999</td>\n",
       "      <td>0.16</td>\n",
       "      <td>0.16</td>\n",
       "      <td>173.300003</td>\n",
       "      <td>3.1</td>\n",
       "      <td>3.1</td>\n",
       "      <td>...</td>\n",
       "      <td>0.20</td>\n",
       "      <td>0.20</td>\n",
       "      <td>5</td>\n",
       "      <td>-0.06</td>\n",
       "      <td>0.09</td>\n",
       "      <td>0.09</td>\n",
       "      <td>-0.25</td>\n",
       "      <td>0.09</td>\n",
       "      <td>0.08</td>\n",
       "      <td>(34)(34)(101)(139)(130)(255)(258)(266)(267)   ...</td>\n",
       "    </tr>\n",
       "    <tr>\n",
       "      <th>108</th>\n",
       "      <td>M32</td>\n",
       "      <td>0:42:41.8</td>\n",
       "      <td>40:51:55.0</td>\n",
       "      <td>0.154</td>\n",
       "      <td>24.530001</td>\n",
       "      <td>0.21</td>\n",
       "      <td>0.21</td>\n",
       "      <td>-199.000000</td>\n",
       "      <td>6.0</td>\n",
       "      <td>6.0</td>\n",
       "      <td>...</td>\n",
       "      <td>999.00</td>\n",
       "      <td>999.00</td>\n",
       "      <td>5</td>\n",
       "      <td>NaN</td>\n",
       "      <td>NaN</td>\n",
       "      <td>NaN</td>\n",
       "      <td>NaN</td>\n",
       "      <td>NaN</td>\n",
       "      <td>NaN</td>\n",
       "      <td>(42)(43)(41)(102)(140)(130)(195)              ...</td>\n",
       "    </tr>\n",
       "    <tr>\n",
       "      <th>111</th>\n",
       "      <td>NGC205</td>\n",
       "      <td>0:40:22.1</td>\n",
       "      <td>41:41:7.0</td>\n",
       "      <td>0.085</td>\n",
       "      <td>24.580000</td>\n",
       "      <td>0.07</td>\n",
       "      <td>0.07</td>\n",
       "      <td>-246.000000</td>\n",
       "      <td>1.0</td>\n",
       "      <td>1.0</td>\n",
       "      <td>...</td>\n",
       "      <td>0.20</td>\n",
       "      <td>0.20</td>\n",
       "      <td>5</td>\n",
       "      <td>NaN</td>\n",
       "      <td>NaN</td>\n",
       "      <td>NaN</td>\n",
       "      <td>NaN</td>\n",
       "      <td>NaN</td>\n",
       "      <td>NaN</td>\n",
       "      <td>(40)(45)(41)(102)(142)                        ...</td>\n",
       "    </tr>\n",
       "    <tr>\n",
       "      <th>117</th>\n",
       "      <td>PegasusdIrr</td>\n",
       "      <td>23:28:36.3</td>\n",
       "      <td>14:44:35.0</td>\n",
       "      <td>0.068</td>\n",
       "      <td>24.820000</td>\n",
       "      <td>0.07</td>\n",
       "      <td>0.07</td>\n",
       "      <td>-179.500000</td>\n",
       "      <td>1.5</td>\n",
       "      <td>1.5</td>\n",
       "      <td>...</td>\n",
       "      <td>0.20</td>\n",
       "      <td>0.20</td>\n",
       "      <td>5</td>\n",
       "      <td>NaN</td>\n",
       "      <td>NaN</td>\n",
       "      <td>NaN</td>\n",
       "      <td>NaN</td>\n",
       "      <td>NaN</td>\n",
       "      <td>NaN</td>\n",
       "      <td>(40)(69)(41)(63)(217)                         ...</td>\n",
       "    </tr>\n",
       "    <tr>\n",
       "      <th>119</th>\n",
       "      <td>Pictor2</td>\n",
       "      <td>6:44:43.2</td>\n",
       "      <td>-59:53:49.0</td>\n",
       "      <td>0.108</td>\n",
       "      <td>18.299999</td>\n",
       "      <td>0.12</td>\n",
       "      <td>0.15</td>\n",
       "      <td>999.000000</td>\n",
       "      <td>999.0</td>\n",
       "      <td>999.0</td>\n",
       "      <td>...</td>\n",
       "      <td>0.30</td>\n",
       "      <td>0.30</td>\n",
       "      <td>5</td>\n",
       "      <td>1.17</td>\n",
       "      <td>0.10</td>\n",
       "      <td>0.08</td>\n",
       "      <td>1.12</td>\n",
       "      <td>0.07</td>\n",
       "      <td>0.07</td>\n",
       "      <td>(239)(266)(267)                               ...</td>\n",
       "    </tr>\n",
       "    <tr>\n",
       "      <th>122</th>\n",
       "      <td>SagittariusdIrr</td>\n",
       "      <td>19:29:59.0</td>\n",
       "      <td>-17:40:51.0</td>\n",
       "      <td>0.124</td>\n",
       "      <td>25.139999</td>\n",
       "      <td>0.18</td>\n",
       "      <td>0.18</td>\n",
       "      <td>-78.500000</td>\n",
       "      <td>1.0</td>\n",
       "      <td>1.0</td>\n",
       "      <td>...</td>\n",
       "      <td>0.20</td>\n",
       "      <td>0.20</td>\n",
       "      <td>5</td>\n",
       "      <td>NaN</td>\n",
       "      <td>NaN</td>\n",
       "      <td>NaN</td>\n",
       "      <td>NaN</td>\n",
       "      <td>NaN</td>\n",
       "      <td>NaN</td>\n",
       "      <td>(76)(60)(115)                                 ...</td>\n",
       "    </tr>\n",
       "  </tbody>\n",
       "</table>\n",
       "<p>24 rows × 49 columns</p>\n",
       "</div>"
      ],
      "text/plain": [
       "           GalaxyName          RA          Dec   EB-V       dmod  dmod+  \\\n",
       "2    *Cetus2           1:17:52.8   -17:25:12.0  0.020  17.100000   0.10   \n",
       "4    *Draco2           15:52:47.6  64:33:55.0   0.018  16.670000   0.05   \n",
       "9    *Horologium2      3:16:32.1   -50:1:5.0    0.020  19.459999   0.20   \n",
       "13   *Pegasus3         22:24:22.6  5:25:12.0    0.147  21.559999   0.20   \n",
       "18   *Sagittarius2     19:52:40.5  -22:4:5.0    0.110  19.320000   0.03   \n",
       "19   *Triangulum2      2:13:17.4   36:10:42.0   0.079  17.400000   0.10   \n",
       "23   AndromedaI        0:45:39.8   38:2:28.0    0.053  24.360001   0.07   \n",
       "25   AndromedaIII      0:35:33.8   36:29:52.0   0.056  24.370001   0.07   \n",
       "29   AndromedaVII      23:26:31.7  50:40:33.0   0.194  24.410000   0.10   \n",
       "30   AndromedaX        1:6:33.7    44:48:16.0   0.129  24.129999   0.08   \n",
       "34   AndromedaXIV      0:51:35.0   29:41:49.0   0.060  24.500000   0.06   \n",
       "45   AndromedaXXIX     23:58:55.6  30:45:20.0   0.046  24.320000   0.22   \n",
       "56   AntliaB           9:48:56.1   -25:59:24.0  0.080  25.559999   0.16   \n",
       "57   Aquarius          20:46:51.8  -12:50:53.0  0.051  25.150000   0.08   \n",
       "66   Carina3           7:38:31.2   -57:53:59.0  0.196  17.219999   0.10   \n",
       "67   Centaurus1        12:38:20.4  -40:54:7.2   0.124  20.330000   0.10   \n",
       "76   *DESJ0225+0304    2:25:42.4   3:4:10.1     0.038  16.879999   0.06   \n",
       "88   IC10              0:20:17.3   59:18:14.0   1.568  24.500000   0.12   \n",
       "104  Leo5              11:31:9.6   2:13:12.0    0.027  21.459999   0.16   \n",
       "108  M32               0:42:41.8   40:51:55.0   0.154  24.530001   0.21   \n",
       "111  NGC205            0:40:22.1   41:41:7.0    0.085  24.580000   0.07   \n",
       "117  PegasusdIrr       23:28:36.3  14:44:35.0   0.068  24.820000   0.07   \n",
       "119  Pictor2           6:44:43.2   -59:53:49.0  0.108  18.299999   0.12   \n",
       "122  SagittariusdIrr   19:29:59.0  -17:40:51.0  0.124  25.139999   0.18   \n",
       "\n",
       "     dmod-          vh    vh+    vh-  ...    feh+    feh-  F  pmra  epmra+  \\\n",
       "2     0.10  999.000000  999.0  999.0  ...    0.07    0.07  5  2.84    0.05   \n",
       "4     0.05 -342.500000    1.1    1.2  ...    0.10    0.10  5  1.08    0.07   \n",
       "9     0.20  168.699997   12.9   12.6  ...  999.00  999.00  5  0.76    0.20   \n",
       "13    0.20 -222.899994    2.6    2.6  ...  999.00  999.00  5  0.06    0.10   \n",
       "18    0.02 -177.300003    1.2    1.2  ...    0.03    0.03  5 -0.77    0.03   \n",
       "19    0.10 -381.700012    1.1    1.1  ...    0.05    0.05  5  0.56    0.05   \n",
       "23    0.07 -376.299988    2.2    2.2  ...    0.04    0.04  5   NaN     NaN   \n",
       "25    0.07 -344.299988    1.7    1.7  ...    0.04    0.04  5   NaN     NaN   \n",
       "29    0.10 -307.200012    1.3    1.3  ...    0.30    0.30  5   NaN     NaN   \n",
       "30    0.13 -164.100006    1.7    1.7  ...    0.11    0.11  5   NaN     NaN   \n",
       "34    0.56 -480.600006    1.2    1.2  ...    0.05    0.05  5   NaN     NaN   \n",
       "45    0.22 -194.399994    1.5    1.5  ...  999.00  999.00  5   NaN     NaN   \n",
       "56    0.16  376.000000    2.0    2.0  ...  999.00  999.00  5   NaN     NaN   \n",
       "57    0.08 -137.699997    2.1    2.1  ...    0.20    0.20  5   NaN     NaN   \n",
       "66    0.10  284.600006    3.4    3.1  ...    0.20    0.20  5  3.12    0.05   \n",
       "67    0.10  999.000000  999.0  999.0  ...  999.00  999.00  5 -0.14    0.05   \n",
       "76    0.05  999.000000  999.0  999.0  ...    0.03    0.03  5  1.07    0.58   \n",
       "88    0.12 -348.000000    1.0    1.0  ...  999.00  999.00  5   NaN     NaN   \n",
       "104   0.16  173.300003    3.1    3.1  ...    0.20    0.20  5 -0.06    0.09   \n",
       "108   0.21 -199.000000    6.0    6.0  ...  999.00  999.00  5   NaN     NaN   \n",
       "111   0.07 -246.000000    1.0    1.0  ...    0.20    0.20  5   NaN     NaN   \n",
       "117   0.07 -179.500000    1.5    1.5  ...    0.20    0.20  5   NaN     NaN   \n",
       "119   0.15  999.000000  999.0  999.0  ...    0.30    0.30  5  1.17    0.10   \n",
       "122   0.18  -78.500000    1.0    1.0  ...    0.20    0.20  5   NaN     NaN   \n",
       "\n",
       "     epmra-  pmdec  epmdec+  epmdec-  \\\n",
       "2      0.07   0.46     0.06     0.07   \n",
       "4      0.07   0.91     0.08     0.08   \n",
       "9      0.29  -0.41     0.23     0.21   \n",
       "13     0.10  -0.20     0.10     0.10   \n",
       "18     0.03  -0.89     0.02     0.02   \n",
       "19     0.05   0.07     0.06     0.06   \n",
       "23      NaN    NaN      NaN      NaN   \n",
       "25      NaN    NaN      NaN      NaN   \n",
       "29      NaN    NaN      NaN      NaN   \n",
       "30      NaN    NaN      NaN      NaN   \n",
       "34      NaN    NaN      NaN      NaN   \n",
       "45      NaN    NaN      NaN      NaN   \n",
       "56      NaN    NaN      NaN      NaN   \n",
       "57      NaN    NaN      NaN      NaN   \n",
       "66     0.05   1.54     0.06     0.07   \n",
       "67     0.05  -0.20     0.04     0.04   \n",
       "76     0.56  -0.21     0.48     1.21   \n",
       "88      NaN    NaN      NaN      NaN   \n",
       "104    0.09  -0.25     0.09     0.08   \n",
       "108     NaN    NaN      NaN      NaN   \n",
       "111     NaN    NaN      NaN      NaN   \n",
       "117     NaN    NaN      NaN      NaN   \n",
       "119    0.08   1.12     0.07     0.07   \n",
       "122     NaN    NaN      NaN      NaN   \n",
       "\n",
       "                                            References  \n",
       "2    (232)(260)(266)(267)                          ...  \n",
       "4    (225)(259)(266)(267)                          ...  \n",
       "9    (230)(231)(248)(255)(266)(267)                ...  \n",
       "13   (229)(249)(266)(267)                          ...  \n",
       "18   (225)(251)(266)(267)                          ...  \n",
       "19   (221)(261)(266)(267)                          ...  \n",
       "23   (40)(47)(105)(130)(201)                       ...  \n",
       "25   (40)(47)(105)(143)(130)(201)                  ...  \n",
       "29   (40)(47)(105)(130)(201)                       ...  \n",
       "30   (50)(47)(104)(130)(201)(202)                  ...  \n",
       "34   (54)(47)(130)(201)(202)                       ...  \n",
       "45   (57)(216)                                     ...  \n",
       "56   (224)                                         ...  \n",
       "57   (40)(69)(113)(217)                            ...  \n",
       "66   (237)(246)(266)(267)                          ...  \n",
       "67   (256)(266)(267)                               ...  \n",
       "76   (257)(266)(267)                               ...  \n",
       "88   (59)(43)(41)(106)(145)(146)(196)              ...  \n",
       "104  (34)(34)(101)(139)(130)(255)(258)(266)(267)   ...  \n",
       "108  (42)(43)(41)(102)(140)(130)(195)              ...  \n",
       "111  (40)(45)(41)(102)(142)                        ...  \n",
       "117  (40)(69)(41)(63)(217)                         ...  \n",
       "119  (239)(266)(267)                               ...  \n",
       "122  (76)(60)(115)                                 ...  \n",
       "\n",
       "[24 rows x 49 columns]"
      ]
     },
     "metadata": {},
     "output_type": "display_data"
    },
    {
     "name": "stdout",
     "output_type": "stream",
     "text": [
      "f:6\n"
     ]
    },
    {
     "data": {
      "text/html": [
       "<div>\n",
       "<style scoped>\n",
       "    .dataframe tbody tr th:only-of-type {\n",
       "        vertical-align: middle;\n",
       "    }\n",
       "\n",
       "    .dataframe tbody tr th {\n",
       "        vertical-align: top;\n",
       "    }\n",
       "\n",
       "    .dataframe thead th {\n",
       "        text-align: right;\n",
       "    }\n",
       "</style>\n",
       "<table border=\"1\" class=\"dataframe\">\n",
       "  <thead>\n",
       "    <tr style=\"text-align: right;\">\n",
       "      <th></th>\n",
       "      <th>GalaxyName</th>\n",
       "      <th>RA</th>\n",
       "      <th>Dec</th>\n",
       "      <th>EB-V</th>\n",
       "      <th>dmod</th>\n",
       "      <th>dmod+</th>\n",
       "      <th>dmod-</th>\n",
       "      <th>vh</th>\n",
       "      <th>vh+</th>\n",
       "      <th>vh-</th>\n",
       "      <th>...</th>\n",
       "      <th>feh+</th>\n",
       "      <th>feh-</th>\n",
       "      <th>F</th>\n",
       "      <th>pmra</th>\n",
       "      <th>epmra+</th>\n",
       "      <th>epmra-</th>\n",
       "      <th>pmdec</th>\n",
       "      <th>epmdec+</th>\n",
       "      <th>epmdec-</th>\n",
       "      <th>References</th>\n",
       "    </tr>\n",
       "  </thead>\n",
       "  <tbody>\n",
       "    <tr>\n",
       "      <th>54</th>\n",
       "      <td>Antlia</td>\n",
       "      <td>10:4:4.1</td>\n",
       "      <td>-27:19:52.0</td>\n",
       "      <td>0.079</td>\n",
       "      <td>25.650000</td>\n",
       "      <td>0.10</td>\n",
       "      <td>0.10</td>\n",
       "      <td>362.000000</td>\n",
       "      <td>2.0</td>\n",
       "      <td>2.0</td>\n",
       "      <td>...</td>\n",
       "      <td>0.10</td>\n",
       "      <td>0.10</td>\n",
       "      <td>6</td>\n",
       "      <td>NaN</td>\n",
       "      <td>NaN</td>\n",
       "      <td>NaN</td>\n",
       "      <td>NaN</td>\n",
       "      <td>NaN</td>\n",
       "      <td>NaN</td>\n",
       "      <td>(59)(81)(118)(117)(81)                        ...</td>\n",
       "    </tr>\n",
       "    <tr>\n",
       "      <th>72</th>\n",
       "      <td>DDO113</td>\n",
       "      <td>12:14:57.9</td>\n",
       "      <td>36:13:8.0</td>\n",
       "      <td>0.020</td>\n",
       "      <td>27.350000</td>\n",
       "      <td>0.06</td>\n",
       "      <td>0.06</td>\n",
       "      <td>284.000000</td>\n",
       "      <td>6.0</td>\n",
       "      <td>6.0</td>\n",
       "      <td>...</td>\n",
       "      <td>0.21</td>\n",
       "      <td>0.21</td>\n",
       "      <td>6</td>\n",
       "      <td>NaN</td>\n",
       "      <td>NaN</td>\n",
       "      <td>NaN</td>\n",
       "      <td>NaN</td>\n",
       "      <td>NaN</td>\n",
       "      <td>NaN</td>\n",
       "      <td>(89)(41)(117)(167)                            ...</td>\n",
       "    </tr>\n",
       "    <tr>\n",
       "      <th>73</th>\n",
       "      <td>DDO125</td>\n",
       "      <td>12:27:40.9</td>\n",
       "      <td>43:29:44.0</td>\n",
       "      <td>0.020</td>\n",
       "      <td>27.059999</td>\n",
       "      <td>0.05</td>\n",
       "      <td>0.05</td>\n",
       "      <td>194.899994</td>\n",
       "      <td>0.2</td>\n",
       "      <td>0.2</td>\n",
       "      <td>...</td>\n",
       "      <td>0.17</td>\n",
       "      <td>0.17</td>\n",
       "      <td>6</td>\n",
       "      <td>NaN</td>\n",
       "      <td>NaN</td>\n",
       "      <td>NaN</td>\n",
       "      <td>NaN</td>\n",
       "      <td>NaN</td>\n",
       "      <td>NaN</td>\n",
       "      <td>(89)(84)(117)(119)(169)(170)                  ...</td>\n",
       "    </tr>\n",
       "    <tr>\n",
       "      <th>74</th>\n",
       "      <td>DDO190</td>\n",
       "      <td>14:24:43.4</td>\n",
       "      <td>44:31:33.0</td>\n",
       "      <td>0.012</td>\n",
       "      <td>27.230000</td>\n",
       "      <td>0.03</td>\n",
       "      <td>0.03</td>\n",
       "      <td>150.000000</td>\n",
       "      <td>4.0</td>\n",
       "      <td>4.0</td>\n",
       "      <td>...</td>\n",
       "      <td>0.08</td>\n",
       "      <td>0.08</td>\n",
       "      <td>6</td>\n",
       "      <td>NaN</td>\n",
       "      <td>NaN</td>\n",
       "      <td>NaN</td>\n",
       "      <td>NaN</td>\n",
       "      <td>NaN</td>\n",
       "      <td>NaN</td>\n",
       "      <td>(89)(93)(126)(117)(169)(170)                  ...</td>\n",
       "    </tr>\n",
       "    <tr>\n",
       "      <th>75</th>\n",
       "      <td>DDO99</td>\n",
       "      <td>11:50:53.0</td>\n",
       "      <td>38:52:49.0</td>\n",
       "      <td>0.026</td>\n",
       "      <td>27.070000</td>\n",
       "      <td>0.14</td>\n",
       "      <td>0.14</td>\n",
       "      <td>251.000000</td>\n",
       "      <td>4.0</td>\n",
       "      <td>4.0</td>\n",
       "      <td>...</td>\n",
       "      <td>0.22</td>\n",
       "      <td>0.22</td>\n",
       "      <td>6</td>\n",
       "      <td>NaN</td>\n",
       "      <td>NaN</td>\n",
       "      <td>NaN</td>\n",
       "      <td>NaN</td>\n",
       "      <td>NaN</td>\n",
       "      <td>NaN</td>\n",
       "      <td>(89)(90)(123)(119)(117)                       ...</td>\n",
       "    </tr>\n",
       "    <tr>\n",
       "      <th>78</th>\n",
       "      <td>ESO294-G010</td>\n",
       "      <td>0:26:33.4</td>\n",
       "      <td>-41:51:19.0</td>\n",
       "      <td>0.006</td>\n",
       "      <td>26.540001</td>\n",
       "      <td>0.04</td>\n",
       "      <td>0.04</td>\n",
       "      <td>117.000000</td>\n",
       "      <td>5.0</td>\n",
       "      <td>5.0</td>\n",
       "      <td>...</td>\n",
       "      <td>0.17</td>\n",
       "      <td>0.17</td>\n",
       "      <td>6</td>\n",
       "      <td>NaN</td>\n",
       "      <td>NaN</td>\n",
       "      <td>NaN</td>\n",
       "      <td>NaN</td>\n",
       "      <td>NaN</td>\n",
       "      <td>NaN</td>\n",
       "      <td>(59)(86)(121)(117)(161)                       ...</td>\n",
       "    </tr>\n",
       "    <tr>\n",
       "      <th>79</th>\n",
       "      <td>ESO410-G005</td>\n",
       "      <td>0:15:31.6</td>\n",
       "      <td>-32:10:48.0</td>\n",
       "      <td>0.014</td>\n",
       "      <td>26.420000</td>\n",
       "      <td>0.04</td>\n",
       "      <td>0.04</td>\n",
       "      <td>999.000000</td>\n",
       "      <td>999.0</td>\n",
       "      <td>999.0</td>\n",
       "      <td>...</td>\n",
       "      <td>0.20</td>\n",
       "      <td>0.20</td>\n",
       "      <td>6</td>\n",
       "      <td>NaN</td>\n",
       "      <td>NaN</td>\n",
       "      <td>NaN</td>\n",
       "      <td>NaN</td>\n",
       "      <td>NaN</td>\n",
       "      <td>NaN</td>\n",
       "      <td>(59)(121)(117)(161)                           ...</td>\n",
       "    </tr>\n",
       "    <tr>\n",
       "      <th>91</th>\n",
       "      <td>IC4662</td>\n",
       "      <td>17:47:8.8</td>\n",
       "      <td>-64:38:30.0</td>\n",
       "      <td>0.070</td>\n",
       "      <td>26.940001</td>\n",
       "      <td>0.17</td>\n",
       "      <td>0.17</td>\n",
       "      <td>302.000000</td>\n",
       "      <td>3.0</td>\n",
       "      <td>3.0</td>\n",
       "      <td>...</td>\n",
       "      <td>0.13</td>\n",
       "      <td>0.13</td>\n",
       "      <td>6</td>\n",
       "      <td>NaN</td>\n",
       "      <td>NaN</td>\n",
       "      <td>NaN</td>\n",
       "      <td>NaN</td>\n",
       "      <td>NaN</td>\n",
       "      <td>NaN</td>\n",
       "      <td>(92)(67)(117)(119)                            ...</td>\n",
       "    </tr>\n",
       "    <tr>\n",
       "      <th>94</th>\n",
       "      <td>KKH86</td>\n",
       "      <td>13:54:33.5</td>\n",
       "      <td>4:14:35.0</td>\n",
       "      <td>0.027</td>\n",
       "      <td>27.059999</td>\n",
       "      <td>0.16</td>\n",
       "      <td>0.16</td>\n",
       "      <td>287.200012</td>\n",
       "      <td>0.7</td>\n",
       "      <td>0.7</td>\n",
       "      <td>...</td>\n",
       "      <td>0.29</td>\n",
       "      <td>0.29</td>\n",
       "      <td>6</td>\n",
       "      <td>NaN</td>\n",
       "      <td>NaN</td>\n",
       "      <td>NaN</td>\n",
       "      <td>NaN</td>\n",
       "      <td>NaN</td>\n",
       "      <td>NaN</td>\n",
       "      <td>(89)(84)(117)(119)(173)                       ...</td>\n",
       "    </tr>\n",
       "    <tr>\n",
       "      <th>95</th>\n",
       "      <td>KKH98</td>\n",
       "      <td>23:45:34.0</td>\n",
       "      <td>38:43:4.0</td>\n",
       "      <td>0.123</td>\n",
       "      <td>27.010000</td>\n",
       "      <td>0.09</td>\n",
       "      <td>0.09</td>\n",
       "      <td>-136.899994</td>\n",
       "      <td>1.0</td>\n",
       "      <td>1.0</td>\n",
       "      <td>...</td>\n",
       "      <td>0.25</td>\n",
       "      <td>0.25</td>\n",
       "      <td>6</td>\n",
       "      <td>NaN</td>\n",
       "      <td>NaN</td>\n",
       "      <td>NaN</td>\n",
       "      <td>NaN</td>\n",
       "      <td>NaN</td>\n",
       "      <td>NaN</td>\n",
       "      <td>(59)(84)(117)(119)(90)                        ...</td>\n",
       "    </tr>\n",
       "    <tr>\n",
       "      <th>96</th>\n",
       "      <td>KKR25</td>\n",
       "      <td>16:13:48.0</td>\n",
       "      <td>54:22:16.0</td>\n",
       "      <td>0.009</td>\n",
       "      <td>26.420000</td>\n",
       "      <td>0.07</td>\n",
       "      <td>0.07</td>\n",
       "      <td>-65.000000</td>\n",
       "      <td>15.0</td>\n",
       "      <td>15.0</td>\n",
       "      <td>...</td>\n",
       "      <td>0.30</td>\n",
       "      <td>0.30</td>\n",
       "      <td>6</td>\n",
       "      <td>NaN</td>\n",
       "      <td>NaN</td>\n",
       "      <td>NaN</td>\n",
       "      <td>NaN</td>\n",
       "      <td>NaN</td>\n",
       "      <td>NaN</td>\n",
       "      <td>(59)(120)(203)                                ...</td>\n",
       "    </tr>\n",
       "    <tr>\n",
       "      <th>97</th>\n",
       "      <td>KKR3</td>\n",
       "      <td>14:7:10.5</td>\n",
       "      <td>35:3:37.0</td>\n",
       "      <td>0.014</td>\n",
       "      <td>26.700001</td>\n",
       "      <td>0.12</td>\n",
       "      <td>0.12</td>\n",
       "      <td>63.299999</td>\n",
       "      <td>1.8</td>\n",
       "      <td>1.8</td>\n",
       "      <td>...</td>\n",
       "      <td>0.25</td>\n",
       "      <td>0.25</td>\n",
       "      <td>6</td>\n",
       "      <td>NaN</td>\n",
       "      <td>NaN</td>\n",
       "      <td>NaN</td>\n",
       "      <td>NaN</td>\n",
       "      <td>NaN</td>\n",
       "      <td>NaN</td>\n",
       "      <td>(59)(88)(117)(119)                            ...</td>\n",
       "    </tr>\n",
       "    <tr>\n",
       "      <th>99</th>\n",
       "      <td>LGS3</td>\n",
       "      <td>1:3:55.0</td>\n",
       "      <td>21:53:6.0</td>\n",
       "      <td>0.040</td>\n",
       "      <td>24.430000</td>\n",
       "      <td>0.07</td>\n",
       "      <td>0.07</td>\n",
       "      <td>-286.500000</td>\n",
       "      <td>0.3</td>\n",
       "      <td>0.3</td>\n",
       "      <td>...</td>\n",
       "      <td>0.22</td>\n",
       "      <td>0.22</td>\n",
       "      <td>6</td>\n",
       "      <td>NaN</td>\n",
       "      <td>NaN</td>\n",
       "      <td>NaN</td>\n",
       "      <td>NaN</td>\n",
       "      <td>NaN</td>\n",
       "      <td>NaN</td>\n",
       "      <td>(40)(60)(107)(147)                            ...</td>\n",
       "    </tr>\n",
       "    <tr>\n",
       "      <th>113</th>\n",
       "      <td>NGC3109</td>\n",
       "      <td>10:3:6.9</td>\n",
       "      <td>-26:9:35.0</td>\n",
       "      <td>0.067</td>\n",
       "      <td>25.570000</td>\n",
       "      <td>0.08</td>\n",
       "      <td>0.08</td>\n",
       "      <td>403.000000</td>\n",
       "      <td>2.0</td>\n",
       "      <td>2.0</td>\n",
       "      <td>...</td>\n",
       "      <td>0.20</td>\n",
       "      <td>0.20</td>\n",
       "      <td>6</td>\n",
       "      <td>NaN</td>\n",
       "      <td>NaN</td>\n",
       "      <td>NaN</td>\n",
       "      <td>NaN</td>\n",
       "      <td>NaN</td>\n",
       "      <td>NaN</td>\n",
       "      <td>(80)(67)(116)(156)(81)(157)                   ...</td>\n",
       "    </tr>\n",
       "    <tr>\n",
       "      <th>114</th>\n",
       "      <td>NGC4163</td>\n",
       "      <td>12:12:9.1</td>\n",
       "      <td>36:10:9.0</td>\n",
       "      <td>0.020</td>\n",
       "      <td>27.280001</td>\n",
       "      <td>0.03</td>\n",
       "      <td>0.03</td>\n",
       "      <td>165.000000</td>\n",
       "      <td>5.0</td>\n",
       "      <td>5.0</td>\n",
       "      <td>...</td>\n",
       "      <td>0.15</td>\n",
       "      <td>0.15</td>\n",
       "      <td>6</td>\n",
       "      <td>NaN</td>\n",
       "      <td>NaN</td>\n",
       "      <td>NaN</td>\n",
       "      <td>NaN</td>\n",
       "      <td>NaN</td>\n",
       "      <td>NaN</td>\n",
       "      <td>(89)(94)(124)(117)(174)                       ...</td>\n",
       "    </tr>\n",
       "    <tr>\n",
       "      <th>118</th>\n",
       "      <td>Phoenix</td>\n",
       "      <td>1:51:6.3</td>\n",
       "      <td>-44:26:41.0</td>\n",
       "      <td>0.016</td>\n",
       "      <td>23.059999</td>\n",
       "      <td>0.12</td>\n",
       "      <td>0.12</td>\n",
       "      <td>-21.200001</td>\n",
       "      <td>1.0</td>\n",
       "      <td>1.0</td>\n",
       "      <td>...</td>\n",
       "      <td>0.04</td>\n",
       "      <td>0.04</td>\n",
       "      <td>6</td>\n",
       "      <td>0.09</td>\n",
       "      <td>0.03</td>\n",
       "      <td>0.03</td>\n",
       "      <td>-0.07</td>\n",
       "      <td>0.04</td>\n",
       "      <td>0.04</td>\n",
       "      <td>(64)(65)(108)(109)(150)(263)(264)(266)(267)   ...</td>\n",
       "    </tr>\n",
       "    <tr>\n",
       "      <th>128</th>\n",
       "      <td>SextansA</td>\n",
       "      <td>10:11:0.8</td>\n",
       "      <td>-4:41:34.0</td>\n",
       "      <td>0.045</td>\n",
       "      <td>25.780001</td>\n",
       "      <td>0.08</td>\n",
       "      <td>0.08</td>\n",
       "      <td>324.000000</td>\n",
       "      <td>2.0</td>\n",
       "      <td>2.0</td>\n",
       "      <td>...</td>\n",
       "      <td>999.00</td>\n",
       "      <td>999.00</td>\n",
       "      <td>6</td>\n",
       "      <td>NaN</td>\n",
       "      <td>NaN</td>\n",
       "      <td>NaN</td>\n",
       "      <td>NaN</td>\n",
       "      <td>NaN</td>\n",
       "      <td>NaN</td>\n",
       "      <td>(59)(67)(41)(119)(159)(199)                   ...</td>\n",
       "    </tr>\n",
       "    <tr>\n",
       "      <th>134</th>\n",
       "      <td>UGC8508</td>\n",
       "      <td>13:30:44.4</td>\n",
       "      <td>54:54:36.0</td>\n",
       "      <td>0.015</td>\n",
       "      <td>27.059999</td>\n",
       "      <td>0.03</td>\n",
       "      <td>0.03</td>\n",
       "      <td>56.000000</td>\n",
       "      <td>5.0</td>\n",
       "      <td>5.0</td>\n",
       "      <td>...</td>\n",
       "      <td>0.19</td>\n",
       "      <td>0.19</td>\n",
       "      <td>6</td>\n",
       "      <td>NaN</td>\n",
       "      <td>NaN</td>\n",
       "      <td>NaN</td>\n",
       "      <td>NaN</td>\n",
       "      <td>NaN</td>\n",
       "      <td>NaN</td>\n",
       "      <td>(89)(90)(124)(117)(90)(168)                   ...</td>\n",
       "    </tr>\n",
       "    <tr>\n",
       "      <th>135</th>\n",
       "      <td>UGC9128</td>\n",
       "      <td>14:15:56.5</td>\n",
       "      <td>23:3:19.0</td>\n",
       "      <td>0.023</td>\n",
       "      <td>26.799999</td>\n",
       "      <td>0.04</td>\n",
       "      <td>0.04</td>\n",
       "      <td>152.000000</td>\n",
       "      <td>1.0</td>\n",
       "      <td>1.0</td>\n",
       "      <td>...</td>\n",
       "      <td>0.24</td>\n",
       "      <td>0.24</td>\n",
       "      <td>6</td>\n",
       "      <td>NaN</td>\n",
       "      <td>NaN</td>\n",
       "      <td>NaN</td>\n",
       "      <td>NaN</td>\n",
       "      <td>NaN</td>\n",
       "      <td>NaN</td>\n",
       "      <td>(59)(63)(124)(117)                            ...</td>\n",
       "    </tr>\n",
       "    <tr>\n",
       "      <th>137</th>\n",
       "      <td>UKS2323-326</td>\n",
       "      <td>23:26:27.5</td>\n",
       "      <td>-32:23:20.0</td>\n",
       "      <td>0.015</td>\n",
       "      <td>26.719999</td>\n",
       "      <td>0.09</td>\n",
       "      <td>0.09</td>\n",
       "      <td>62.000000</td>\n",
       "      <td>5.0</td>\n",
       "      <td>5.0</td>\n",
       "      <td>...</td>\n",
       "      <td>0.19</td>\n",
       "      <td>0.19</td>\n",
       "      <td>6</td>\n",
       "      <td>NaN</td>\n",
       "      <td>NaN</td>\n",
       "      <td>NaN</td>\n",
       "      <td>NaN</td>\n",
       "      <td>NaN</td>\n",
       "      <td>NaN</td>\n",
       "      <td>(59)(87)(122)(119)(166)(117)                  ...</td>\n",
       "    </tr>\n",
       "  </tbody>\n",
       "</table>\n",
       "<p>20 rows × 49 columns</p>\n",
       "</div>"
      ],
      "text/plain": [
       "           GalaxyName          RA          Dec   EB-V       dmod  dmod+  \\\n",
       "54   Antlia            10:4:4.1    -27:19:52.0  0.079  25.650000   0.10   \n",
       "72   DDO113            12:14:57.9  36:13:8.0    0.020  27.350000   0.06   \n",
       "73   DDO125            12:27:40.9  43:29:44.0   0.020  27.059999   0.05   \n",
       "74   DDO190            14:24:43.4  44:31:33.0   0.012  27.230000   0.03   \n",
       "75   DDO99             11:50:53.0  38:52:49.0   0.026  27.070000   0.14   \n",
       "78   ESO294-G010       0:26:33.4   -41:51:19.0  0.006  26.540001   0.04   \n",
       "79   ESO410-G005       0:15:31.6   -32:10:48.0  0.014  26.420000   0.04   \n",
       "91   IC4662            17:47:8.8   -64:38:30.0  0.070  26.940001   0.17   \n",
       "94   KKH86             13:54:33.5  4:14:35.0    0.027  27.059999   0.16   \n",
       "95   KKH98             23:45:34.0  38:43:4.0    0.123  27.010000   0.09   \n",
       "96   KKR25             16:13:48.0  54:22:16.0   0.009  26.420000   0.07   \n",
       "97   KKR3              14:7:10.5   35:3:37.0    0.014  26.700001   0.12   \n",
       "99   LGS3              1:3:55.0    21:53:6.0    0.040  24.430000   0.07   \n",
       "113  NGC3109           10:3:6.9    -26:9:35.0   0.067  25.570000   0.08   \n",
       "114  NGC4163           12:12:9.1   36:10:9.0    0.020  27.280001   0.03   \n",
       "118  Phoenix           1:51:6.3    -44:26:41.0  0.016  23.059999   0.12   \n",
       "128  SextansA          10:11:0.8   -4:41:34.0   0.045  25.780001   0.08   \n",
       "134  UGC8508           13:30:44.4  54:54:36.0   0.015  27.059999   0.03   \n",
       "135  UGC9128           14:15:56.5  23:3:19.0    0.023  26.799999   0.04   \n",
       "137  UKS2323-326       23:26:27.5  -32:23:20.0  0.015  26.719999   0.09   \n",
       "\n",
       "     dmod-          vh    vh+    vh-  ...    feh+    feh-  F  pmra  epmra+  \\\n",
       "54    0.10  362.000000    2.0    2.0  ...    0.10    0.10  6   NaN     NaN   \n",
       "72    0.06  284.000000    6.0    6.0  ...    0.21    0.21  6   NaN     NaN   \n",
       "73    0.05  194.899994    0.2    0.2  ...    0.17    0.17  6   NaN     NaN   \n",
       "74    0.03  150.000000    4.0    4.0  ...    0.08    0.08  6   NaN     NaN   \n",
       "75    0.14  251.000000    4.0    4.0  ...    0.22    0.22  6   NaN     NaN   \n",
       "78    0.04  117.000000    5.0    5.0  ...    0.17    0.17  6   NaN     NaN   \n",
       "79    0.04  999.000000  999.0  999.0  ...    0.20    0.20  6   NaN     NaN   \n",
       "91    0.17  302.000000    3.0    3.0  ...    0.13    0.13  6   NaN     NaN   \n",
       "94    0.16  287.200012    0.7    0.7  ...    0.29    0.29  6   NaN     NaN   \n",
       "95    0.09 -136.899994    1.0    1.0  ...    0.25    0.25  6   NaN     NaN   \n",
       "96    0.07  -65.000000   15.0   15.0  ...    0.30    0.30  6   NaN     NaN   \n",
       "97    0.12   63.299999    1.8    1.8  ...    0.25    0.25  6   NaN     NaN   \n",
       "99    0.07 -286.500000    0.3    0.3  ...    0.22    0.22  6   NaN     NaN   \n",
       "113   0.08  403.000000    2.0    2.0  ...    0.20    0.20  6   NaN     NaN   \n",
       "114   0.03  165.000000    5.0    5.0  ...    0.15    0.15  6   NaN     NaN   \n",
       "118   0.12  -21.200001    1.0    1.0  ...    0.04    0.04  6  0.09    0.03   \n",
       "128   0.08  324.000000    2.0    2.0  ...  999.00  999.00  6   NaN     NaN   \n",
       "134   0.03   56.000000    5.0    5.0  ...    0.19    0.19  6   NaN     NaN   \n",
       "135   0.04  152.000000    1.0    1.0  ...    0.24    0.24  6   NaN     NaN   \n",
       "137   0.09   62.000000    5.0    5.0  ...    0.19    0.19  6   NaN     NaN   \n",
       "\n",
       "     epmra-  pmdec  epmdec+  epmdec-  \\\n",
       "54      NaN    NaN      NaN      NaN   \n",
       "72      NaN    NaN      NaN      NaN   \n",
       "73      NaN    NaN      NaN      NaN   \n",
       "74      NaN    NaN      NaN      NaN   \n",
       "75      NaN    NaN      NaN      NaN   \n",
       "78      NaN    NaN      NaN      NaN   \n",
       "79      NaN    NaN      NaN      NaN   \n",
       "91      NaN    NaN      NaN      NaN   \n",
       "94      NaN    NaN      NaN      NaN   \n",
       "95      NaN    NaN      NaN      NaN   \n",
       "96      NaN    NaN      NaN      NaN   \n",
       "97      NaN    NaN      NaN      NaN   \n",
       "99      NaN    NaN      NaN      NaN   \n",
       "113     NaN    NaN      NaN      NaN   \n",
       "114     NaN    NaN      NaN      NaN   \n",
       "118    0.03  -0.07     0.04     0.04   \n",
       "128     NaN    NaN      NaN      NaN   \n",
       "134     NaN    NaN      NaN      NaN   \n",
       "135     NaN    NaN      NaN      NaN   \n",
       "137     NaN    NaN      NaN      NaN   \n",
       "\n",
       "                                            References  \n",
       "54   (59)(81)(118)(117)(81)                        ...  \n",
       "72   (89)(41)(117)(167)                            ...  \n",
       "73   (89)(84)(117)(119)(169)(170)                  ...  \n",
       "74   (89)(93)(126)(117)(169)(170)                  ...  \n",
       "75   (89)(90)(123)(119)(117)                       ...  \n",
       "78   (59)(86)(121)(117)(161)                       ...  \n",
       "79   (59)(121)(117)(161)                           ...  \n",
       "91   (92)(67)(117)(119)                            ...  \n",
       "94   (89)(84)(117)(119)(173)                       ...  \n",
       "95   (59)(84)(117)(119)(90)                        ...  \n",
       "96   (59)(120)(203)                                ...  \n",
       "97   (59)(88)(117)(119)                            ...  \n",
       "99   (40)(60)(107)(147)                            ...  \n",
       "113  (80)(67)(116)(156)(81)(157)                   ...  \n",
       "114  (89)(94)(124)(117)(174)                       ...  \n",
       "118  (64)(65)(108)(109)(150)(263)(264)(266)(267)   ...  \n",
       "128  (59)(67)(41)(119)(159)(199)                   ...  \n",
       "134  (89)(90)(124)(117)(90)(168)                   ...  \n",
       "135  (59)(63)(124)(117)                            ...  \n",
       "137  (59)(87)(122)(119)(166)(117)                  ...  \n",
       "\n",
       "[20 rows x 49 columns]"
      ]
     },
     "metadata": {},
     "output_type": "display_data"
    },
    {
     "name": "stdout",
     "output_type": "stream",
     "text": [
      "f:9\n"
     ]
    },
    {
     "data": {
      "text/html": [
       "<div>\n",
       "<style scoped>\n",
       "    .dataframe tbody tr th:only-of-type {\n",
       "        vertical-align: middle;\n",
       "    }\n",
       "\n",
       "    .dataframe tbody tr th {\n",
       "        vertical-align: top;\n",
       "    }\n",
       "\n",
       "    .dataframe thead th {\n",
       "        text-align: right;\n",
       "    }\n",
       "</style>\n",
       "<table border=\"1\" class=\"dataframe\">\n",
       "  <thead>\n",
       "    <tr style=\"text-align: right;\">\n",
       "      <th></th>\n",
       "      <th>GalaxyName</th>\n",
       "      <th>RA</th>\n",
       "      <th>Dec</th>\n",
       "      <th>EB-V</th>\n",
       "      <th>dmod</th>\n",
       "      <th>dmod+</th>\n",
       "      <th>dmod-</th>\n",
       "      <th>vh</th>\n",
       "      <th>vh+</th>\n",
       "      <th>vh-</th>\n",
       "      <th>...</th>\n",
       "      <th>feh+</th>\n",
       "      <th>feh-</th>\n",
       "      <th>F</th>\n",
       "      <th>pmra</th>\n",
       "      <th>epmra+</th>\n",
       "      <th>epmra-</th>\n",
       "      <th>pmdec</th>\n",
       "      <th>epmdec+</th>\n",
       "      <th>epmdec-</th>\n",
       "      <th>References</th>\n",
       "    </tr>\n",
       "  </thead>\n",
       "  <tbody>\n",
       "    <tr>\n",
       "      <th>3</th>\n",
       "      <td>*Columba1</td>\n",
       "      <td>5:31:26.4</td>\n",
       "      <td>-28:1:48.0</td>\n",
       "      <td>0.025</td>\n",
       "      <td>21.299999</td>\n",
       "      <td>0.22</td>\n",
       "      <td>0.22</td>\n",
       "      <td>153.699997</td>\n",
       "      <td>5.0</td>\n",
       "      <td>4.8</td>\n",
       "      <td>...</td>\n",
       "      <td>999.00</td>\n",
       "      <td>999.00</td>\n",
       "      <td>9</td>\n",
       "      <td>0.19</td>\n",
       "      <td>0.06</td>\n",
       "      <td>0.06</td>\n",
       "      <td>-0.36</td>\n",
       "      <td>0.06</td>\n",
       "      <td>0.06</td>\n",
       "      <td>(232)(248)(266)(267)                          ...</td>\n",
       "    </tr>\n",
       "    <tr>\n",
       "      <th>5</th>\n",
       "      <td>*Eridanus3</td>\n",
       "      <td>2:22:45.5</td>\n",
       "      <td>-52:17:1.0</td>\n",
       "      <td>0.025</td>\n",
       "      <td>19.700001</td>\n",
       "      <td>0.20</td>\n",
       "      <td>0.20</td>\n",
       "      <td>999.000000</td>\n",
       "      <td>999.0</td>\n",
       "      <td>999.0</td>\n",
       "      <td>...</td>\n",
       "      <td>999.00</td>\n",
       "      <td>999.00</td>\n",
       "      <td>9</td>\n",
       "      <td>1.08</td>\n",
       "      <td>0.14</td>\n",
       "      <td>0.45</td>\n",
       "      <td>-0.49</td>\n",
       "      <td>0.17</td>\n",
       "      <td>0.13</td>\n",
       "      <td>(226)(227)(255)(266)(267)                     ...</td>\n",
       "    </tr>\n",
       "    <tr>\n",
       "      <th>11</th>\n",
       "      <td>*Indus1</td>\n",
       "      <td>21:8:49.1</td>\n",
       "      <td>-51:9:56.0</td>\n",
       "      <td>0.031</td>\n",
       "      <td>20.000000</td>\n",
       "      <td>0.20</td>\n",
       "      <td>0.20</td>\n",
       "      <td>999.000000</td>\n",
       "      <td>999.0</td>\n",
       "      <td>999.0</td>\n",
       "      <td>...</td>\n",
       "      <td>999.00</td>\n",
       "      <td>999.00</td>\n",
       "      <td>9</td>\n",
       "      <td>0.36</td>\n",
       "      <td>0.07</td>\n",
       "      <td>0.07</td>\n",
       "      <td>-0.85</td>\n",
       "      <td>0.06</td>\n",
       "      <td>0.06</td>\n",
       "      <td>(226)(227)(228)(255)(266)(267)                ...</td>\n",
       "    </tr>\n",
       "    <tr>\n",
       "      <th>12</th>\n",
       "      <td>*Indus2</td>\n",
       "      <td>20:38:52.8</td>\n",
       "      <td>-46:9:36.0</td>\n",
       "      <td>0.034</td>\n",
       "      <td>21.650000</td>\n",
       "      <td>0.16</td>\n",
       "      <td>0.16</td>\n",
       "      <td>999.000000</td>\n",
       "      <td>999.0</td>\n",
       "      <td>999.0</td>\n",
       "      <td>...</td>\n",
       "      <td>999.00</td>\n",
       "      <td>999.00</td>\n",
       "      <td>9</td>\n",
       "      <td>-0.01</td>\n",
       "      <td>0.10</td>\n",
       "      <td>0.10</td>\n",
       "      <td>-0.24</td>\n",
       "      <td>0.10</td>\n",
       "      <td>0.10</td>\n",
       "      <td>(232)(266)(267)                               ...</td>\n",
       "    </tr>\n",
       "    <tr>\n",
       "      <th>14</th>\n",
       "      <td>*Phoenix2</td>\n",
       "      <td>23:39:59.4</td>\n",
       "      <td>-54:24:22.0</td>\n",
       "      <td>0.013</td>\n",
       "      <td>19.600000</td>\n",
       "      <td>0.20</td>\n",
       "      <td>0.20</td>\n",
       "      <td>32.400002</td>\n",
       "      <td>3.7</td>\n",
       "      <td>3.8</td>\n",
       "      <td>...</td>\n",
       "      <td>999.00</td>\n",
       "      <td>999.00</td>\n",
       "      <td>9</td>\n",
       "      <td>0.48</td>\n",
       "      <td>0.04</td>\n",
       "      <td>0.04</td>\n",
       "      <td>-1.17</td>\n",
       "      <td>0.05</td>\n",
       "      <td>0.05</td>\n",
       "      <td>(226)(227)(248)(255)(266)(267)                ...</td>\n",
       "    </tr>\n",
       "    <tr>\n",
       "      <th>15</th>\n",
       "      <td>*Pictor1</td>\n",
       "      <td>4:43:47.4</td>\n",
       "      <td>-50:16:59.0</td>\n",
       "      <td>0.013</td>\n",
       "      <td>20.299999</td>\n",
       "      <td>0.20</td>\n",
       "      <td>0.20</td>\n",
       "      <td>999.000000</td>\n",
       "      <td>999.0</td>\n",
       "      <td>999.0</td>\n",
       "      <td>...</td>\n",
       "      <td>999.00</td>\n",
       "      <td>999.00</td>\n",
       "      <td>9</td>\n",
       "      <td>0.16</td>\n",
       "      <td>0.08</td>\n",
       "      <td>0.08</td>\n",
       "      <td>0.00</td>\n",
       "      <td>0.10</td>\n",
       "      <td>0.10</td>\n",
       "      <td>(226)(227)(255)(266)(267)                     ...</td>\n",
       "    </tr>\n",
       "    <tr>\n",
       "      <th>17</th>\n",
       "      <td>*Reticulum3</td>\n",
       "      <td>3:45:26.4</td>\n",
       "      <td>-60:27:0.0</td>\n",
       "      <td>0.048</td>\n",
       "      <td>19.809999</td>\n",
       "      <td>0.31</td>\n",
       "      <td>0.31</td>\n",
       "      <td>274.200012</td>\n",
       "      <td>7.5</td>\n",
       "      <td>7.4</td>\n",
       "      <td>...</td>\n",
       "      <td>999.00</td>\n",
       "      <td>999.00</td>\n",
       "      <td>9</td>\n",
       "      <td>0.36</td>\n",
       "      <td>0.14</td>\n",
       "      <td>0.14</td>\n",
       "      <td>0.05</td>\n",
       "      <td>0.19</td>\n",
       "      <td>0.25</td>\n",
       "      <td>(232)(248)(266)(267)                          ...</td>\n",
       "    </tr>\n",
       "    <tr>\n",
       "      <th>51</th>\n",
       "      <td>AndromedaXXXI</td>\n",
       "      <td>22:58:16.3</td>\n",
       "      <td>41:17:28.0</td>\n",
       "      <td>0.140</td>\n",
       "      <td>24.400000</td>\n",
       "      <td>0.12</td>\n",
       "      <td>0.12</td>\n",
       "      <td>999.000000</td>\n",
       "      <td>999.0</td>\n",
       "      <td>999.0</td>\n",
       "      <td>...</td>\n",
       "      <td>999.00</td>\n",
       "      <td>999.00</td>\n",
       "      <td>9</td>\n",
       "      <td>NaN</td>\n",
       "      <td>NaN</td>\n",
       "      <td>NaN</td>\n",
       "      <td>NaN</td>\n",
       "      <td>NaN</td>\n",
       "      <td>NaN</td>\n",
       "      <td>(209)                                         ...</td>\n",
       "    </tr>\n",
       "    <tr>\n",
       "      <th>52</th>\n",
       "      <td>AndromedaXXXII</td>\n",
       "      <td>0:35:59.4</td>\n",
       "      <td>51:33:35.0</td>\n",
       "      <td>0.195</td>\n",
       "      <td>24.450001</td>\n",
       "      <td>0.14</td>\n",
       "      <td>0.14</td>\n",
       "      <td>999.000000</td>\n",
       "      <td>999.0</td>\n",
       "      <td>999.0</td>\n",
       "      <td>...</td>\n",
       "      <td>999.00</td>\n",
       "      <td>999.00</td>\n",
       "      <td>9</td>\n",
       "      <td>NaN</td>\n",
       "      <td>NaN</td>\n",
       "      <td>NaN</td>\n",
       "      <td>NaN</td>\n",
       "      <td>NaN</td>\n",
       "      <td>NaN</td>\n",
       "      <td>(209)                                         ...</td>\n",
       "    </tr>\n",
       "    <tr>\n",
       "      <th>53</th>\n",
       "      <td>AndromedaXXXIII</td>\n",
       "      <td>3:1:23.6</td>\n",
       "      <td>40:59:18.0</td>\n",
       "      <td>0.130</td>\n",
       "      <td>24.440001</td>\n",
       "      <td>0.18</td>\n",
       "      <td>0.18</td>\n",
       "      <td>999.000000</td>\n",
       "      <td>999.0</td>\n",
       "      <td>999.0</td>\n",
       "      <td>...</td>\n",
       "      <td>999.00</td>\n",
       "      <td>999.00</td>\n",
       "      <td>9</td>\n",
       "      <td>NaN</td>\n",
       "      <td>NaN</td>\n",
       "      <td>NaN</td>\n",
       "      <td>NaN</td>\n",
       "      <td>NaN</td>\n",
       "      <td>NaN</td>\n",
       "      <td>(215)                                         ...</td>\n",
       "    </tr>\n",
       "    <tr>\n",
       "      <th>61</th>\n",
       "      <td>Bootes4</td>\n",
       "      <td>15:34:45.4</td>\n",
       "      <td>43:43:34.0</td>\n",
       "      <td>0.025</td>\n",
       "      <td>21.600000</td>\n",
       "      <td>0.20</td>\n",
       "      <td>0.20</td>\n",
       "      <td>999.000000</td>\n",
       "      <td>999.0</td>\n",
       "      <td>999.0</td>\n",
       "      <td>...</td>\n",
       "      <td>999.00</td>\n",
       "      <td>999.00</td>\n",
       "      <td>9</td>\n",
       "      <td>-0.15</td>\n",
       "      <td>0.10</td>\n",
       "      <td>0.10</td>\n",
       "      <td>-0.10</td>\n",
       "      <td>0.10</td>\n",
       "      <td>0.10</td>\n",
       "      <td>(240)(266)(267)                               ...</td>\n",
       "    </tr>\n",
       "    <tr>\n",
       "      <th>69</th>\n",
       "      <td>Cetus3</td>\n",
       "      <td>2:5:19.4</td>\n",
       "      <td>-4:16:12.0</td>\n",
       "      <td>0.024</td>\n",
       "      <td>22.000000</td>\n",
       "      <td>0.20</td>\n",
       "      <td>0.10</td>\n",
       "      <td>999.000000</td>\n",
       "      <td>999.0</td>\n",
       "      <td>999.0</td>\n",
       "      <td>...</td>\n",
       "      <td>999.00</td>\n",
       "      <td>999.00</td>\n",
       "      <td>9</td>\n",
       "      <td>0.14</td>\n",
       "      <td>0.08</td>\n",
       "      <td>0.08</td>\n",
       "      <td>-0.16</td>\n",
       "      <td>0.08</td>\n",
       "      <td>0.08</td>\n",
       "      <td>(241)(266)(267)                               ...</td>\n",
       "    </tr>\n",
       "    <tr>\n",
       "      <th>82</th>\n",
       "      <td>GR8</td>\n",
       "      <td>12:58:40.4</td>\n",
       "      <td>14:13:3.0</td>\n",
       "      <td>0.026</td>\n",
       "      <td>26.690001</td>\n",
       "      <td>0.12</td>\n",
       "      <td>0.12</td>\n",
       "      <td>213.899994</td>\n",
       "      <td>2.5</td>\n",
       "      <td>2.5</td>\n",
       "      <td>...</td>\n",
       "      <td>999.00</td>\n",
       "      <td>999.00</td>\n",
       "      <td>9</td>\n",
       "      <td>NaN</td>\n",
       "      <td>NaN</td>\n",
       "      <td>NaN</td>\n",
       "      <td>NaN</td>\n",
       "      <td>NaN</td>\n",
       "      <td>NaN</td>\n",
       "      <td>(59)(69)(123)(124)                            ...</td>\n",
       "    </tr>\n",
       "    <tr>\n",
       "      <th>83</th>\n",
       "      <td>HIZSS3(A)</td>\n",
       "      <td>7:0:29.3</td>\n",
       "      <td>-4:12:30.0</td>\n",
       "      <td>1.013</td>\n",
       "      <td>26.120001</td>\n",
       "      <td>0.14</td>\n",
       "      <td>0.14</td>\n",
       "      <td>288.000000</td>\n",
       "      <td>2.5</td>\n",
       "      <td>2.5</td>\n",
       "      <td>...</td>\n",
       "      <td>999.00</td>\n",
       "      <td>999.00</td>\n",
       "      <td>9</td>\n",
       "      <td>NaN</td>\n",
       "      <td>NaN</td>\n",
       "      <td>NaN</td>\n",
       "      <td>NaN</td>\n",
       "      <td>NaN</td>\n",
       "      <td>NaN</td>\n",
       "      <td>(82)(83)                                      ...</td>\n",
       "    </tr>\n",
       "    <tr>\n",
       "      <th>84</th>\n",
       "      <td>HIZSS3B</td>\n",
       "      <td>7:0:29.3</td>\n",
       "      <td>-4:12:30.0</td>\n",
       "      <td>1.013</td>\n",
       "      <td>26.120001</td>\n",
       "      <td>0.14</td>\n",
       "      <td>0.14</td>\n",
       "      <td>322.600006</td>\n",
       "      <td>1.4</td>\n",
       "      <td>1.4</td>\n",
       "      <td>...</td>\n",
       "      <td>999.00</td>\n",
       "      <td>999.00</td>\n",
       "      <td>9</td>\n",
       "      <td>NaN</td>\n",
       "      <td>NaN</td>\n",
       "      <td>NaN</td>\n",
       "      <td>NaN</td>\n",
       "      <td>NaN</td>\n",
       "      <td>NaN</td>\n",
       "      <td>(82)(83)                                      ...</td>\n",
       "    </tr>\n",
       "    <tr>\n",
       "      <th>90</th>\n",
       "      <td>IC3104</td>\n",
       "      <td>12:18:46.0</td>\n",
       "      <td>-79:43:34.0</td>\n",
       "      <td>0.410</td>\n",
       "      <td>26.780001</td>\n",
       "      <td>0.18</td>\n",
       "      <td>0.18</td>\n",
       "      <td>429.000000</td>\n",
       "      <td>4.0</td>\n",
       "      <td>4.0</td>\n",
       "      <td>...</td>\n",
       "      <td>999.00</td>\n",
       "      <td>999.00</td>\n",
       "      <td>9</td>\n",
       "      <td>NaN</td>\n",
       "      <td>NaN</td>\n",
       "      <td>NaN</td>\n",
       "      <td>NaN</td>\n",
       "      <td>NaN</td>\n",
       "      <td>NaN</td>\n",
       "      <td>(91)(67)(41)                                  ...</td>\n",
       "    </tr>\n",
       "    <tr>\n",
       "      <th>92</th>\n",
       "      <td>IC5152</td>\n",
       "      <td>22:2:41.5</td>\n",
       "      <td>-51:17:47.0</td>\n",
       "      <td>0.025</td>\n",
       "      <td>26.450001</td>\n",
       "      <td>0.05</td>\n",
       "      <td>0.05</td>\n",
       "      <td>122.000000</td>\n",
       "      <td>2.0</td>\n",
       "      <td>2.0</td>\n",
       "      <td>...</td>\n",
       "      <td>999.00</td>\n",
       "      <td>999.00</td>\n",
       "      <td>9</td>\n",
       "      <td>NaN</td>\n",
       "      <td>NaN</td>\n",
       "      <td>NaN</td>\n",
       "      <td>NaN</td>\n",
       "      <td>NaN</td>\n",
       "      <td>NaN</td>\n",
       "      <td>(59)(67)(41)                                  ...</td>\n",
       "    </tr>\n",
       "    <tr>\n",
       "      <th>106</th>\n",
       "      <td>LeoP</td>\n",
       "      <td>10:21:45.1</td>\n",
       "      <td>18:5:17.0</td>\n",
       "      <td>0.026</td>\n",
       "      <td>26.049999</td>\n",
       "      <td>0.20</td>\n",
       "      <td>0.20</td>\n",
       "      <td>264.000000</td>\n",
       "      <td>2.0</td>\n",
       "      <td>2.0</td>\n",
       "      <td>...</td>\n",
       "      <td>999.00</td>\n",
       "      <td>999.00</td>\n",
       "      <td>9</td>\n",
       "      <td>NaN</td>\n",
       "      <td>NaN</td>\n",
       "      <td>NaN</td>\n",
       "      <td>NaN</td>\n",
       "      <td>NaN</td>\n",
       "      <td>NaN</td>\n",
       "      <td>(211)(218)                                    ...</td>\n",
       "    </tr>\n",
       "    <tr>\n",
       "      <th>112</th>\n",
       "      <td>NGC300</td>\n",
       "      <td>0:54:53.5</td>\n",
       "      <td>-37:41:4.0</td>\n",
       "      <td>0.013</td>\n",
       "      <td>26.590000</td>\n",
       "      <td>0.06</td>\n",
       "      <td>0.06</td>\n",
       "      <td>146.000000</td>\n",
       "      <td>2.0</td>\n",
       "      <td>2.0</td>\n",
       "      <td>...</td>\n",
       "      <td>999.00</td>\n",
       "      <td>999.00</td>\n",
       "      <td>9</td>\n",
       "      <td>NaN</td>\n",
       "      <td>NaN</td>\n",
       "      <td>NaN</td>\n",
       "      <td>NaN</td>\n",
       "      <td>NaN</td>\n",
       "      <td>NaN</td>\n",
       "      <td>(59)(67)(41)(164)(165)                        ...</td>\n",
       "    </tr>\n",
       "    <tr>\n",
       "      <th>115</th>\n",
       "      <td>NGC55</td>\n",
       "      <td>0:14:53.6</td>\n",
       "      <td>-39:11:48.0</td>\n",
       "      <td>0.013</td>\n",
       "      <td>26.430000</td>\n",
       "      <td>0.12</td>\n",
       "      <td>0.12</td>\n",
       "      <td>129.000000</td>\n",
       "      <td>2.0</td>\n",
       "      <td>2.0</td>\n",
       "      <td>...</td>\n",
       "      <td>999.00</td>\n",
       "      <td>999.00</td>\n",
       "      <td>9</td>\n",
       "      <td>NaN</td>\n",
       "      <td>NaN</td>\n",
       "      <td>NaN</td>\n",
       "      <td>NaN</td>\n",
       "      <td>NaN</td>\n",
       "      <td>NaN</td>\n",
       "      <td>(85)(67)(41)(162)                             ...</td>\n",
       "    </tr>\n",
       "    <tr>\n",
       "      <th>129</th>\n",
       "      <td>SextansB</td>\n",
       "      <td>10:0:0.1</td>\n",
       "      <td>5:19:56.0</td>\n",
       "      <td>0.031</td>\n",
       "      <td>25.770000</td>\n",
       "      <td>0.03</td>\n",
       "      <td>0.03</td>\n",
       "      <td>304.000000</td>\n",
       "      <td>1.0</td>\n",
       "      <td>1.0</td>\n",
       "      <td>...</td>\n",
       "      <td>999.00</td>\n",
       "      <td>999.00</td>\n",
       "      <td>9</td>\n",
       "      <td>NaN</td>\n",
       "      <td>NaN</td>\n",
       "      <td>NaN</td>\n",
       "      <td>NaN</td>\n",
       "      <td>NaN</td>\n",
       "      <td>NaN</td>\n",
       "      <td>(59)(63)(41)(117)(158)                        ...</td>\n",
       "    </tr>\n",
       "    <tr>\n",
       "      <th>130</th>\n",
       "      <td>Triangulum</td>\n",
       "      <td>1:33:50.9</td>\n",
       "      <td>30:39:37.0</td>\n",
       "      <td>0.041</td>\n",
       "      <td>24.540001</td>\n",
       "      <td>0.06</td>\n",
       "      <td>0.06</td>\n",
       "      <td>-179.199997</td>\n",
       "      <td>1.7</td>\n",
       "      <td>1.7</td>\n",
       "      <td>...</td>\n",
       "      <td>8.88</td>\n",
       "      <td>8.88</td>\n",
       "      <td>9</td>\n",
       "      <td>NaN</td>\n",
       "      <td>NaN</td>\n",
       "      <td>NaN</td>\n",
       "      <td>NaN</td>\n",
       "      <td>NaN</td>\n",
       "      <td>NaN</td>\n",
       "      <td>(40)(58)(41)                                  ...</td>\n",
       "    </tr>\n",
       "    <tr>\n",
       "      <th>136</th>\n",
       "      <td>UGCA86</td>\n",
       "      <td>3:59:48.3</td>\n",
       "      <td>67:8:19.0</td>\n",
       "      <td>0.938</td>\n",
       "      <td>27.360001</td>\n",
       "      <td>0.17</td>\n",
       "      <td>0.17</td>\n",
       "      <td>67.000000</td>\n",
       "      <td>4.0</td>\n",
       "      <td>4.0</td>\n",
       "      <td>...</td>\n",
       "      <td>999.00</td>\n",
       "      <td>999.00</td>\n",
       "      <td>9</td>\n",
       "      <td>NaN</td>\n",
       "      <td>NaN</td>\n",
       "      <td>NaN</td>\n",
       "      <td>NaN</td>\n",
       "      <td>NaN</td>\n",
       "      <td>NaN</td>\n",
       "      <td>(92)(41)(125)(119)(172)                       ...</td>\n",
       "    </tr>\n",
       "    <tr>\n",
       "      <th>141</th>\n",
       "      <td>Virgo1</td>\n",
       "      <td>12:0:9.1</td>\n",
       "      <td>0:40:51.6</td>\n",
       "      <td>0.024</td>\n",
       "      <td>19.799999</td>\n",
       "      <td>0.20</td>\n",
       "      <td>0.10</td>\n",
       "      <td>999.000000</td>\n",
       "      <td>999.0</td>\n",
       "      <td>999.0</td>\n",
       "      <td>...</td>\n",
       "      <td>999.00</td>\n",
       "      <td>999.00</td>\n",
       "      <td>9</td>\n",
       "      <td>-0.32</td>\n",
       "      <td>0.14</td>\n",
       "      <td>0.14</td>\n",
       "      <td>-0.62</td>\n",
       "      <td>0.10</td>\n",
       "      <td>0.08</td>\n",
       "      <td>(242)(241)(266)(267)                          ...</td>\n",
       "    </tr>\n",
       "  </tbody>\n",
       "</table>\n",
       "<p>24 rows × 49 columns</p>\n",
       "</div>"
      ],
      "text/plain": [
       "           GalaxyName          RA          Dec   EB-V       dmod  dmod+  \\\n",
       "3    *Columba1         5:31:26.4   -28:1:48.0   0.025  21.299999   0.22   \n",
       "5    *Eridanus3        2:22:45.5   -52:17:1.0   0.025  19.700001   0.20   \n",
       "11   *Indus1           21:8:49.1   -51:9:56.0   0.031  20.000000   0.20   \n",
       "12   *Indus2           20:38:52.8  -46:9:36.0   0.034  21.650000   0.16   \n",
       "14   *Phoenix2         23:39:59.4  -54:24:22.0  0.013  19.600000   0.20   \n",
       "15   *Pictor1          4:43:47.4   -50:16:59.0  0.013  20.299999   0.20   \n",
       "17   *Reticulum3       3:45:26.4   -60:27:0.0   0.048  19.809999   0.31   \n",
       "51   AndromedaXXXI     22:58:16.3  41:17:28.0   0.140  24.400000   0.12   \n",
       "52   AndromedaXXXII    0:35:59.4   51:33:35.0   0.195  24.450001   0.14   \n",
       "53   AndromedaXXXIII   3:1:23.6    40:59:18.0   0.130  24.440001   0.18   \n",
       "61   Bootes4           15:34:45.4  43:43:34.0   0.025  21.600000   0.20   \n",
       "69   Cetus3            2:5:19.4    -4:16:12.0   0.024  22.000000   0.20   \n",
       "82   GR8               12:58:40.4  14:13:3.0    0.026  26.690001   0.12   \n",
       "83   HIZSS3(A)         7:0:29.3    -4:12:30.0   1.013  26.120001   0.14   \n",
       "84   HIZSS3B           7:0:29.3    -4:12:30.0   1.013  26.120001   0.14   \n",
       "90   IC3104            12:18:46.0  -79:43:34.0  0.410  26.780001   0.18   \n",
       "92   IC5152            22:2:41.5   -51:17:47.0  0.025  26.450001   0.05   \n",
       "106  LeoP              10:21:45.1  18:5:17.0    0.026  26.049999   0.20   \n",
       "112  NGC300            0:54:53.5   -37:41:4.0   0.013  26.590000   0.06   \n",
       "115  NGC55             0:14:53.6   -39:11:48.0  0.013  26.430000   0.12   \n",
       "129  SextansB          10:0:0.1    5:19:56.0    0.031  25.770000   0.03   \n",
       "130  Triangulum        1:33:50.9   30:39:37.0   0.041  24.540001   0.06   \n",
       "136  UGCA86            3:59:48.3   67:8:19.0    0.938  27.360001   0.17   \n",
       "141  Virgo1            12:0:9.1    0:40:51.6    0.024  19.799999   0.20   \n",
       "\n",
       "     dmod-          vh    vh+    vh-  ...    feh+    feh-  F  pmra  epmra+  \\\n",
       "3     0.22  153.699997    5.0    4.8  ...  999.00  999.00  9  0.19    0.06   \n",
       "5     0.20  999.000000  999.0  999.0  ...  999.00  999.00  9  1.08    0.14   \n",
       "11    0.20  999.000000  999.0  999.0  ...  999.00  999.00  9  0.36    0.07   \n",
       "12    0.16  999.000000  999.0  999.0  ...  999.00  999.00  9 -0.01    0.10   \n",
       "14    0.20   32.400002    3.7    3.8  ...  999.00  999.00  9  0.48    0.04   \n",
       "15    0.20  999.000000  999.0  999.0  ...  999.00  999.00  9  0.16    0.08   \n",
       "17    0.31  274.200012    7.5    7.4  ...  999.00  999.00  9  0.36    0.14   \n",
       "51    0.12  999.000000  999.0  999.0  ...  999.00  999.00  9   NaN     NaN   \n",
       "52    0.14  999.000000  999.0  999.0  ...  999.00  999.00  9   NaN     NaN   \n",
       "53    0.18  999.000000  999.0  999.0  ...  999.00  999.00  9   NaN     NaN   \n",
       "61    0.20  999.000000  999.0  999.0  ...  999.00  999.00  9 -0.15    0.10   \n",
       "69    0.10  999.000000  999.0  999.0  ...  999.00  999.00  9  0.14    0.08   \n",
       "82    0.12  213.899994    2.5    2.5  ...  999.00  999.00  9   NaN     NaN   \n",
       "83    0.14  288.000000    2.5    2.5  ...  999.00  999.00  9   NaN     NaN   \n",
       "84    0.14  322.600006    1.4    1.4  ...  999.00  999.00  9   NaN     NaN   \n",
       "90    0.18  429.000000    4.0    4.0  ...  999.00  999.00  9   NaN     NaN   \n",
       "92    0.05  122.000000    2.0    2.0  ...  999.00  999.00  9   NaN     NaN   \n",
       "106   0.20  264.000000    2.0    2.0  ...  999.00  999.00  9   NaN     NaN   \n",
       "112   0.06  146.000000    2.0    2.0  ...  999.00  999.00  9   NaN     NaN   \n",
       "115   0.12  129.000000    2.0    2.0  ...  999.00  999.00  9   NaN     NaN   \n",
       "129   0.03  304.000000    1.0    1.0  ...  999.00  999.00  9   NaN     NaN   \n",
       "130   0.06 -179.199997    1.7    1.7  ...    8.88    8.88  9   NaN     NaN   \n",
       "136   0.17   67.000000    4.0    4.0  ...  999.00  999.00  9   NaN     NaN   \n",
       "141   0.10  999.000000  999.0  999.0  ...  999.00  999.00  9 -0.32    0.14   \n",
       "\n",
       "     epmra-  pmdec  epmdec+  epmdec-  \\\n",
       "3      0.06  -0.36     0.06     0.06   \n",
       "5      0.45  -0.49     0.17     0.13   \n",
       "11     0.07  -0.85     0.06     0.06   \n",
       "12     0.10  -0.24     0.10     0.10   \n",
       "14     0.04  -1.17     0.05     0.05   \n",
       "15     0.08   0.00     0.10     0.10   \n",
       "17     0.14   0.05     0.19     0.25   \n",
       "51      NaN    NaN      NaN      NaN   \n",
       "52      NaN    NaN      NaN      NaN   \n",
       "53      NaN    NaN      NaN      NaN   \n",
       "61     0.10  -0.10     0.10     0.10   \n",
       "69     0.08  -0.16     0.08     0.08   \n",
       "82      NaN    NaN      NaN      NaN   \n",
       "83      NaN    NaN      NaN      NaN   \n",
       "84      NaN    NaN      NaN      NaN   \n",
       "90      NaN    NaN      NaN      NaN   \n",
       "92      NaN    NaN      NaN      NaN   \n",
       "106     NaN    NaN      NaN      NaN   \n",
       "112     NaN    NaN      NaN      NaN   \n",
       "115     NaN    NaN      NaN      NaN   \n",
       "129     NaN    NaN      NaN      NaN   \n",
       "130     NaN    NaN      NaN      NaN   \n",
       "136     NaN    NaN      NaN      NaN   \n",
       "141    0.14  -0.62     0.10     0.08   \n",
       "\n",
       "                                            References  \n",
       "3    (232)(248)(266)(267)                          ...  \n",
       "5    (226)(227)(255)(266)(267)                     ...  \n",
       "11   (226)(227)(228)(255)(266)(267)                ...  \n",
       "12   (232)(266)(267)                               ...  \n",
       "14   (226)(227)(248)(255)(266)(267)                ...  \n",
       "15   (226)(227)(255)(266)(267)                     ...  \n",
       "17   (232)(248)(266)(267)                          ...  \n",
       "51   (209)                                         ...  \n",
       "52   (209)                                         ...  \n",
       "53   (215)                                         ...  \n",
       "61   (240)(266)(267)                               ...  \n",
       "69   (241)(266)(267)                               ...  \n",
       "82   (59)(69)(123)(124)                            ...  \n",
       "83   (82)(83)                                      ...  \n",
       "84   (82)(83)                                      ...  \n",
       "90   (91)(67)(41)                                  ...  \n",
       "92   (59)(67)(41)                                  ...  \n",
       "106  (211)(218)                                    ...  \n",
       "112  (59)(67)(41)(164)(165)                        ...  \n",
       "115  (85)(67)(41)(162)                             ...  \n",
       "129  (59)(63)(41)(117)(158)                        ...  \n",
       "130  (40)(58)(41)                                  ...  \n",
       "136  (92)(41)(125)(119)(172)                       ...  \n",
       "141  (242)(241)(266)(267)                          ...  \n",
       "\n",
       "[24 rows x 49 columns]"
      ]
     },
     "metadata": {},
     "output_type": "display_data"
    }
   ],
   "source": [
    "# What is the column \"F\"?\n",
    "with fits.open(\"NearbyGalaxies_Jan2021_PUBLIC.fits\") as hdul:\n",
    "    tab = Table(hdul[1].data).to_pandas()\n",
    "    for f,_tab in tab.groupby(\"F\"):\n",
    "        print(\"f:\"+str(f))\n",
    "        display(_tab)"
   ]
  },
  {
   "cell_type": "code",
   "execution_count": 2,
   "metadata": {},
   "outputs": [
    {
     "name": "stderr",
     "output_type": "stream",
     "text": [
      "WARNING: VerifyWarning: It is strongly recommended that column names contain only upper and lower-case ASCII letters, digits, or underscores for maximum compatibility with other software (got '[Fe/H]'). [astropy.io.fits.column]\n"
     ]
    }
   ],
   "source": [
    "with fits.open(\"NearbyGalaxies_Jan2021_PUBLIC.fits\") as hdul:\n",
    "    Table(hdul[1].data).show_in_browser(jsviewer=True)\n",
    "    # jqueryのdataTablesとvueとを組み合わせて表示できそう。\n",
    "    # 指定の列だけ表示とかもできるので、いい感じ"
   ]
  },
  {
   "cell_type": "code",
   "execution_count": 6,
   "metadata": {},
   "outputs": [
    {
     "data": {
      "text/plain": [
       "XTENSION= 'BINTABLE'           / binary table extension                         \n",
       "BITPIX  =                    8 / 8-bit bytes                                    \n",
       "NAXIS   =                    2 / 2-dimensional table                            \n",
       "NAXIS1  =                  268 / width of table in bytes                        \n",
       "NAXIS2  =                  144 / number of rows in table                        \n",
       "PCOUNT  =                    0 / size of special data area                      \n",
       "GCOUNT  =                    1 / one data group                                 \n",
       "TFIELDS =                   49 / number of columns                              \n",
       "EXTNAME = 'Joined  '           / table name                                     \n",
       "TTYPE1  = 'GalaxyName'         / label for column 1                             \n",
       "TFORM1  = '16A     '           / format for column 1                            \n",
       "TCOMM1  = 'Galaxy name'                                                         \n",
       "TTYPE2  = 'RA      '           / label for column 2                             \n",
       "TFORM2  = '10A     '           / format for column 2                            \n",
       "TCOMM2  = 'Right Ascension (hours minutes seconds)'                             \n",
       "TTYPE3  = 'Dec     '           / label for column 3                             \n",
       "TFORM3  = '11A     '           / format for column 3                            \n",
       "TCOMM3  = 'Declination (degrees arcminutes arcseconds)'                         \n",
       "TTYPE4  = 'EB-V    '           / label for column 4                             \n",
       "TFORM4  = 'E       '           / format for column 4                            \n",
       "TTYPE5  = 'dmod    '           / label for column 5                             \n",
       "TFORM5  = 'E       '           / format for column 5                            \n",
       "TCOMM5  = 'Distance Modulus, (m-M)o err+ err-'                                  \n",
       "TTYPE6  = 'dmod+   '           / label for column 6                             \n",
       "TFORM6  = 'E       '           / format for column 6                            \n",
       "TTYPE7  = 'dmod-   '           / label for column 7                             \n",
       "TFORM7  = 'E       '           / format for column 7                            \n",
       "TTYPE8  = 'vh      '           / label for column 8                             \n",
       "TFORM8  = 'E       '           / format for column 8                            \n",
       "TCOMM8  = 'Heliocentric radial velocity, vh(km/s) err+ err-'                    \n",
       "TTYPE9  = 'vh+     '           / label for column 9                             \n",
       "TFORM9  = 'E       '           / format for column 9                            \n",
       "TTYPE10 = 'vh-     '           / label for column 10                            \n",
       "TFORM10 = 'E       '           / format for column 10                           \n",
       "TTYPE11 = 'Vmag    '           / label for column 11                            \n",
       "TFORM11 = 'E       '           / format for column 11                           \n",
       "TCOMM11 = 'Apparent V magnitude in Vega mags, Vmag err+ err-'                   \n",
       "TTYPE12 = 'Vmag+   '           / label for column 12                            \n",
       "TFORM12 = 'E       '           / format for column 12                           \n",
       "TTYPE13 = 'Vmag-   '           / label for column 13                            \n",
       "TFORM13 = 'E       '           / format for column 13                           \n",
       "TTYPE14 = 'PA      '           / label for column 14                            \n",
       "TFORM14 = 'E       '           / format for column 14                           \n",
       "TTYPE15 = 'PA+     '           / label for column 15                            \n",
       "TFORM15 = 'E       '           / format for column 15                           \n",
       "TTYPE16 = 'PA-     '           / label for column 16                            \n",
       "TFORM16 = 'E       '           / format for column 16                           \n",
       "TTYPE17 = 'e=1-b/a '           / label for column 17                            \n",
       "TFORM17 = 'E       '           / format for column 17                           \n",
       "TCOMM17 = 'Projected ellipticity, e=1-b/a err+ err-'                            \n",
       "TTYPE18 = 'e+      '           / label for column 18                            \n",
       "TFORM18 = 'E       '           / format for column 18                           \n",
       "TTYPE19 = 'e-      '           / label for column 19                            \n",
       "TFORM19 = 'E       '           / format for column 19                           \n",
       "TTYPE20 = 'muVo    '           / label for column 20                            \n",
       "TFORM20 = 'E       '           / format for column 20                           \n",
       "TCOMM20 = 'Central V surface brightness, muVo(mag/sq.arcsec) err+ err-'         \n",
       "TTYPE21 = 'muVo+   '           / label for column 21                            \n",
       "TFORM21 = 'E       '           / format for column 21                           \n",
       "TTYPE22 = 'muVo-   '           / label for column 22                            \n",
       "TFORM22 = 'E       '           / format for column 22                           \n",
       "TTYPE23 = 'rh      '           / label for column 23                            \n",
       "TFORM23 = 'E       '           / format for column 23                           \n",
       "TCOMM23 = 'Half-light radius measured on major axis, rh(arcmins) err+ err-'     \n",
       "TTYPE24 = 'rh+     '           / label for column 24                            \n",
       "TFORM24 = 'E       '           / format for column 24                           \n",
       "TTYPE25 = 'rh-     '           / label for column 25                            \n",
       "TFORM25 = 'E       '           / format for column 25                           \n",
       "TTYPE26 = 'sigma_s '           / label for column 26                            \n",
       "TFORM26 = 'E       '           / format for column 26                           \n",
       "TCOMM26 = 'Stellar radial velocity dispersion, sigma_s(km/s) err+ err-'         \n",
       "TTYPE27 = 'sigma_s+'           / label for column 27                            \n",
       "TFORM27 = 'E       '           / format for column 27                           \n",
       "TTYPE28 = 'sigma_s-'           / label for column 28                            \n",
       "TFORM28 = 'E       '           / format for column 28                           \n",
       "TCOMM28 = 'Stellar peak/max rotation velocity, vrot_s(km/s) err+ err-'          \n",
       "TTYPE29 = 'vrot_s  '           / label for column 29                            \n",
       "TFORM29 = 'E       '           / format for column 29                           \n",
       "TTYPE30 = 'vrot_s+ '           / label for column 30                            \n",
       "TFORM30 = 'E       '           / format for column 30                           \n",
       "TTYPE31 = 'vrot_s- '           / label for column 31                            \n",
       "TFORM31 = 'E       '           / format for column 31                           \n",
       "TTYPE32 = 'MHI     '           / label for column 32                            \n",
       "TFORM32 = 'E       '           / format for column 32                           \n",
       "TTYPE33 = 'sigma_g '           / label for column 33                            \n",
       "TFORM33 = 'E       '           / format for column 33                           \n",
       "TCOMM33 = 'HI radial velocity dispersion, sigma_g(km/s) err+ err-'              \n",
       "TTYPE34 = 'sigma_g+'           / label for column 34                            \n",
       "TFORM34 = 'E       '           / format for column 34                           \n",
       "TTYPE35 = 'sigma_g-'           / label for column 35                            \n",
       "TFORM35 = 'E       '           / format for column 35                           \n",
       "TTYPE36 = 'vrot_g  '           / label for column 36                            \n",
       "TFORM36 = 'E       '           / format for column 36                           \n",
       "TCOMM36 = 'HI peak/max rotation velocity, vrot_g(km/s) err+ err-'               \n",
       "TTYPE37 = 'vrot_g+ '           / label for column 37                            \n",
       "TFORM37 = 'E       '           / format for column 37                           \n",
       "TTYPE38 = 'vrot_g- '           / label for column 38                            \n",
       "TFORM38 = 'E       '           / format for column 38                           \n",
       "TTYPE39 = '[Fe/H]  '           / label for column 39                            \n",
       "TFORM39 = 'E       '           / format for column 39                           \n",
       "TCOMM39 = 'Stellar mean metallicity in dex, [Fe/H] err+ err-'                   \n",
       "TTYPE40 = 'feh+    '           / label for column 40                            \n",
       "TFORM40 = 'E       '           / format for column 40                           \n",
       "TTYPE41 = 'feh-    '           / label for column 41                            \n",
       "TFORM41 = 'E       '           / format for column 41                           \n",
       "TTYPE42 = 'F       '           / label for column 42                            \n",
       "TFORM42 = 'I       '           / format for column 42                           \n",
       "TNULL42 =               -32768 / blank value for column 42                      \n",
       "TTYPE43 = 'pmra    '           / label for column 43                            \n",
       "TFORM43 = 'E       '           / format for column 43                           \n",
       "TTYPE44 = 'epmra+  '           / label for column 44                            \n",
       "TFORM44 = 'E       '           / format for column 44                           \n",
       "TTYPE45 = 'epmra-  '           / label for column 45                            \n",
       "TFORM45 = 'E       '           / format for column 45                           \n",
       "TTYPE46 = 'pmdec   '           / label for column 46                            \n",
       "TFORM46 = 'E       '           / format for column 46                           \n",
       "TTYPE47 = 'epmdec+ '           / label for column 47                            \n",
       "TFORM47 = 'E       '           / format for column 47                           \n",
       "TTYPE48 = 'epmdec- '           / label for column 48                            \n",
       "TFORM48 = 'E       '           / format for column 48                           \n",
       "TTYPE49 = 'References'         / label for column 49                            \n",
       "TFORM49 = '53A     '           / format for column 49                           \n",
       "DATE-HDU= '2021-01-19T19:56:51' / Date of HDU creation (UTC)                    \n",
       "STILVERS= '3.3-3   '           / Version of STIL software                       \n",
       "STILCLAS= 'uk.ac.starlink.votable.FitsPlusTableWriter' / STIL Author class      "
      ]
     },
     "metadata": {},
     "output_type": "display_data"
    },
    {
     "data": {
      "text/plain": [
       "('XTENSION', 'BINTABLE')"
      ]
     },
     "metadata": {},
     "output_type": "display_data"
    },
    {
     "data": {
      "text/plain": [
       "('BITPIX', 8)"
      ]
     },
     "metadata": {},
     "output_type": "display_data"
    },
    {
     "data": {
      "text/plain": [
       "('NAXIS', 2)"
      ]
     },
     "metadata": {},
     "output_type": "display_data"
    },
    {
     "data": {
      "text/plain": [
       "('NAXIS1', 268)"
      ]
     },
     "metadata": {},
     "output_type": "display_data"
    },
    {
     "data": {
      "text/plain": [
       "('NAXIS2', 144)"
      ]
     },
     "metadata": {},
     "output_type": "display_data"
    },
    {
     "data": {
      "text/plain": [
       "('PCOUNT', 0)"
      ]
     },
     "metadata": {},
     "output_type": "display_data"
    },
    {
     "data": {
      "text/plain": [
       "('GCOUNT', 1)"
      ]
     },
     "metadata": {},
     "output_type": "display_data"
    },
    {
     "data": {
      "text/plain": [
       "('TFIELDS', 49)"
      ]
     },
     "metadata": {},
     "output_type": "display_data"
    },
    {
     "data": {
      "text/plain": [
       "('EXTNAME', 'Joined')"
      ]
     },
     "metadata": {},
     "output_type": "display_data"
    },
    {
     "data": {
      "text/plain": [
       "('TTYPE1', 'GalaxyName')"
      ]
     },
     "metadata": {},
     "output_type": "display_data"
    },
    {
     "data": {
      "text/plain": [
       "('TFORM1', '16A')"
      ]
     },
     "metadata": {},
     "output_type": "display_data"
    },
    {
     "data": {
      "text/plain": [
       "('TCOMM1', 'Galaxy name')"
      ]
     },
     "metadata": {},
     "output_type": "display_data"
    },
    {
     "data": {
      "text/plain": [
       "('TTYPE2', 'RA')"
      ]
     },
     "metadata": {},
     "output_type": "display_data"
    },
    {
     "data": {
      "text/plain": [
       "('TFORM2', '10A')"
      ]
     },
     "metadata": {},
     "output_type": "display_data"
    },
    {
     "data": {
      "text/plain": [
       "('TCOMM2', 'Right Ascension (hours minutes seconds)')"
      ]
     },
     "metadata": {},
     "output_type": "display_data"
    },
    {
     "data": {
      "text/plain": [
       "('TTYPE3', 'Dec')"
      ]
     },
     "metadata": {},
     "output_type": "display_data"
    },
    {
     "data": {
      "text/plain": [
       "('TFORM3', '11A')"
      ]
     },
     "metadata": {},
     "output_type": "display_data"
    },
    {
     "data": {
      "text/plain": [
       "('TCOMM3', 'Declination (degrees arcminutes arcseconds)')"
      ]
     },
     "metadata": {},
     "output_type": "display_data"
    },
    {
     "data": {
      "text/plain": [
       "('TTYPE4', 'EB-V')"
      ]
     },
     "metadata": {},
     "output_type": "display_data"
    },
    {
     "data": {
      "text/plain": [
       "('TFORM4', 'E')"
      ]
     },
     "metadata": {},
     "output_type": "display_data"
    },
    {
     "data": {
      "text/plain": [
       "('TTYPE5', 'dmod')"
      ]
     },
     "metadata": {},
     "output_type": "display_data"
    },
    {
     "data": {
      "text/plain": [
       "('TFORM5', 'E')"
      ]
     },
     "metadata": {},
     "output_type": "display_data"
    },
    {
     "data": {
      "text/plain": [
       "('TCOMM5', 'Distance Modulus, (m-M)o err+ err-')"
      ]
     },
     "metadata": {},
     "output_type": "display_data"
    },
    {
     "data": {
      "text/plain": [
       "('TTYPE6', 'dmod+')"
      ]
     },
     "metadata": {},
     "output_type": "display_data"
    },
    {
     "data": {
      "text/plain": [
       "('TFORM6', 'E')"
      ]
     },
     "metadata": {},
     "output_type": "display_data"
    },
    {
     "data": {
      "text/plain": [
       "('TTYPE7', 'dmod-')"
      ]
     },
     "metadata": {},
     "output_type": "display_data"
    },
    {
     "data": {
      "text/plain": [
       "('TFORM7', 'E')"
      ]
     },
     "metadata": {},
     "output_type": "display_data"
    },
    {
     "data": {
      "text/plain": [
       "('TTYPE8', 'vh')"
      ]
     },
     "metadata": {},
     "output_type": "display_data"
    },
    {
     "data": {
      "text/plain": [
       "('TFORM8', 'E')"
      ]
     },
     "metadata": {},
     "output_type": "display_data"
    },
    {
     "data": {
      "text/plain": [
       "('TCOMM8', 'Heliocentric radial velocity, vh(km/s) err+ err-')"
      ]
     },
     "metadata": {},
     "output_type": "display_data"
    },
    {
     "data": {
      "text/plain": [
       "('TTYPE9', 'vh+')"
      ]
     },
     "metadata": {},
     "output_type": "display_data"
    },
    {
     "data": {
      "text/plain": [
       "('TFORM9', 'E')"
      ]
     },
     "metadata": {},
     "output_type": "display_data"
    },
    {
     "data": {
      "text/plain": [
       "('TTYPE10', 'vh-')"
      ]
     },
     "metadata": {},
     "output_type": "display_data"
    },
    {
     "data": {
      "text/plain": [
       "('TFORM10', 'E')"
      ]
     },
     "metadata": {},
     "output_type": "display_data"
    },
    {
     "data": {
      "text/plain": [
       "('TTYPE11', 'Vmag')"
      ]
     },
     "metadata": {},
     "output_type": "display_data"
    },
    {
     "data": {
      "text/plain": [
       "('TFORM11', 'E')"
      ]
     },
     "metadata": {},
     "output_type": "display_data"
    },
    {
     "data": {
      "text/plain": [
       "('TCOMM11', 'Apparent V magnitude in Vega mags, Vmag err+ err-')"
      ]
     },
     "metadata": {},
     "output_type": "display_data"
    },
    {
     "data": {
      "text/plain": [
       "('TTYPE12', 'Vmag+')"
      ]
     },
     "metadata": {},
     "output_type": "display_data"
    },
    {
     "data": {
      "text/plain": [
       "('TFORM12', 'E')"
      ]
     },
     "metadata": {},
     "output_type": "display_data"
    },
    {
     "data": {
      "text/plain": [
       "('TTYPE13', 'Vmag-')"
      ]
     },
     "metadata": {},
     "output_type": "display_data"
    },
    {
     "data": {
      "text/plain": [
       "('TFORM13', 'E')"
      ]
     },
     "metadata": {},
     "output_type": "display_data"
    },
    {
     "data": {
      "text/plain": [
       "('TTYPE14', 'PA')"
      ]
     },
     "metadata": {},
     "output_type": "display_data"
    },
    {
     "data": {
      "text/plain": [
       "('TFORM14', 'E')"
      ]
     },
     "metadata": {},
     "output_type": "display_data"
    },
    {
     "data": {
      "text/plain": [
       "('TTYPE15', 'PA+')"
      ]
     },
     "metadata": {},
     "output_type": "display_data"
    },
    {
     "data": {
      "text/plain": [
       "('TFORM15', 'E')"
      ]
     },
     "metadata": {},
     "output_type": "display_data"
    },
    {
     "data": {
      "text/plain": [
       "('TTYPE16', 'PA-')"
      ]
     },
     "metadata": {},
     "output_type": "display_data"
    },
    {
     "data": {
      "text/plain": [
       "('TFORM16', 'E')"
      ]
     },
     "metadata": {},
     "output_type": "display_data"
    },
    {
     "data": {
      "text/plain": [
       "('TTYPE17', 'e=1-b/a')"
      ]
     },
     "metadata": {},
     "output_type": "display_data"
    },
    {
     "data": {
      "text/plain": [
       "('TFORM17', 'E')"
      ]
     },
     "metadata": {},
     "output_type": "display_data"
    },
    {
     "data": {
      "text/plain": [
       "('TCOMM17', 'Projected ellipticity, e=1-b/a err+ err-')"
      ]
     },
     "metadata": {},
     "output_type": "display_data"
    },
    {
     "data": {
      "text/plain": [
       "('TTYPE18', 'e+')"
      ]
     },
     "metadata": {},
     "output_type": "display_data"
    },
    {
     "data": {
      "text/plain": [
       "('TFORM18', 'E')"
      ]
     },
     "metadata": {},
     "output_type": "display_data"
    },
    {
     "data": {
      "text/plain": [
       "('TTYPE19', 'e-')"
      ]
     },
     "metadata": {},
     "output_type": "display_data"
    },
    {
     "data": {
      "text/plain": [
       "('TFORM19', 'E')"
      ]
     },
     "metadata": {},
     "output_type": "display_data"
    },
    {
     "data": {
      "text/plain": [
       "('TTYPE20', 'muVo')"
      ]
     },
     "metadata": {},
     "output_type": "display_data"
    },
    {
     "data": {
      "text/plain": [
       "('TFORM20', 'E')"
      ]
     },
     "metadata": {},
     "output_type": "display_data"
    },
    {
     "data": {
      "text/plain": [
       "('TCOMM20', 'Central V surface brightness, muVo(mag/sq.arcsec) err+ err-')"
      ]
     },
     "metadata": {},
     "output_type": "display_data"
    },
    {
     "data": {
      "text/plain": [
       "('TTYPE21', 'muVo+')"
      ]
     },
     "metadata": {},
     "output_type": "display_data"
    },
    {
     "data": {
      "text/plain": [
       "('TFORM21', 'E')"
      ]
     },
     "metadata": {},
     "output_type": "display_data"
    },
    {
     "data": {
      "text/plain": [
       "('TTYPE22', 'muVo-')"
      ]
     },
     "metadata": {},
     "output_type": "display_data"
    },
    {
     "data": {
      "text/plain": [
       "('TFORM22', 'E')"
      ]
     },
     "metadata": {},
     "output_type": "display_data"
    },
    {
     "data": {
      "text/plain": [
       "('TTYPE23', 'rh')"
      ]
     },
     "metadata": {},
     "output_type": "display_data"
    },
    {
     "data": {
      "text/plain": [
       "('TFORM23', 'E')"
      ]
     },
     "metadata": {},
     "output_type": "display_data"
    },
    {
     "data": {
      "text/plain": [
       "('TCOMM23', 'Half-light radius measured on major axis, rh(arcmins) err+ err-')"
      ]
     },
     "metadata": {},
     "output_type": "display_data"
    },
    {
     "data": {
      "text/plain": [
       "('TTYPE24', 'rh+')"
      ]
     },
     "metadata": {},
     "output_type": "display_data"
    },
    {
     "data": {
      "text/plain": [
       "('TFORM24', 'E')"
      ]
     },
     "metadata": {},
     "output_type": "display_data"
    },
    {
     "data": {
      "text/plain": [
       "('TTYPE25', 'rh-')"
      ]
     },
     "metadata": {},
     "output_type": "display_data"
    },
    {
     "data": {
      "text/plain": [
       "('TFORM25', 'E')"
      ]
     },
     "metadata": {},
     "output_type": "display_data"
    },
    {
     "data": {
      "text/plain": [
       "('TTYPE26', 'sigma_s')"
      ]
     },
     "metadata": {},
     "output_type": "display_data"
    },
    {
     "data": {
      "text/plain": [
       "('TFORM26', 'E')"
      ]
     },
     "metadata": {},
     "output_type": "display_data"
    },
    {
     "data": {
      "text/plain": [
       "('TCOMM26', 'Stellar radial velocity dispersion, sigma_s(km/s) err+ err-')"
      ]
     },
     "metadata": {},
     "output_type": "display_data"
    },
    {
     "data": {
      "text/plain": [
       "('TTYPE27', 'sigma_s+')"
      ]
     },
     "metadata": {},
     "output_type": "display_data"
    },
    {
     "data": {
      "text/plain": [
       "('TFORM27', 'E')"
      ]
     },
     "metadata": {},
     "output_type": "display_data"
    },
    {
     "data": {
      "text/plain": [
       "('TTYPE28', 'sigma_s-')"
      ]
     },
     "metadata": {},
     "output_type": "display_data"
    },
    {
     "data": {
      "text/plain": [
       "('TFORM28', 'E')"
      ]
     },
     "metadata": {},
     "output_type": "display_data"
    },
    {
     "data": {
      "text/plain": [
       "('TCOMM28', 'Stellar peak/max rotation velocity, vrot_s(km/s) err+ err-')"
      ]
     },
     "metadata": {},
     "output_type": "display_data"
    },
    {
     "data": {
      "text/plain": [
       "('TTYPE29', 'vrot_s')"
      ]
     },
     "metadata": {},
     "output_type": "display_data"
    },
    {
     "data": {
      "text/plain": [
       "('TFORM29', 'E')"
      ]
     },
     "metadata": {},
     "output_type": "display_data"
    },
    {
     "data": {
      "text/plain": [
       "('TTYPE30', 'vrot_s+')"
      ]
     },
     "metadata": {},
     "output_type": "display_data"
    },
    {
     "data": {
      "text/plain": [
       "('TFORM30', 'E')"
      ]
     },
     "metadata": {},
     "output_type": "display_data"
    },
    {
     "data": {
      "text/plain": [
       "('TTYPE31', 'vrot_s-')"
      ]
     },
     "metadata": {},
     "output_type": "display_data"
    },
    {
     "data": {
      "text/plain": [
       "('TFORM31', 'E')"
      ]
     },
     "metadata": {},
     "output_type": "display_data"
    },
    {
     "data": {
      "text/plain": [
       "('TTYPE32', 'MHI')"
      ]
     },
     "metadata": {},
     "output_type": "display_data"
    },
    {
     "data": {
      "text/plain": [
       "('TFORM32', 'E')"
      ]
     },
     "metadata": {},
     "output_type": "display_data"
    },
    {
     "data": {
      "text/plain": [
       "('TTYPE33', 'sigma_g')"
      ]
     },
     "metadata": {},
     "output_type": "display_data"
    },
    {
     "data": {
      "text/plain": [
       "('TFORM33', 'E')"
      ]
     },
     "metadata": {},
     "output_type": "display_data"
    },
    {
     "data": {
      "text/plain": [
       "('TCOMM33', 'HI radial velocity dispersion, sigma_g(km/s) err+ err-')"
      ]
     },
     "metadata": {},
     "output_type": "display_data"
    },
    {
     "data": {
      "text/plain": [
       "('TTYPE34', 'sigma_g+')"
      ]
     },
     "metadata": {},
     "output_type": "display_data"
    },
    {
     "data": {
      "text/plain": [
       "('TFORM34', 'E')"
      ]
     },
     "metadata": {},
     "output_type": "display_data"
    },
    {
     "data": {
      "text/plain": [
       "('TTYPE35', 'sigma_g-')"
      ]
     },
     "metadata": {},
     "output_type": "display_data"
    },
    {
     "data": {
      "text/plain": [
       "('TFORM35', 'E')"
      ]
     },
     "metadata": {},
     "output_type": "display_data"
    },
    {
     "data": {
      "text/plain": [
       "('TTYPE36', 'vrot_g')"
      ]
     },
     "metadata": {},
     "output_type": "display_data"
    },
    {
     "data": {
      "text/plain": [
       "('TFORM36', 'E')"
      ]
     },
     "metadata": {},
     "output_type": "display_data"
    },
    {
     "data": {
      "text/plain": [
       "('TCOMM36', 'HI peak/max rotation velocity, vrot_g(km/s) err+ err-')"
      ]
     },
     "metadata": {},
     "output_type": "display_data"
    },
    {
     "data": {
      "text/plain": [
       "('TTYPE37', 'vrot_g+')"
      ]
     },
     "metadata": {},
     "output_type": "display_data"
    },
    {
     "data": {
      "text/plain": [
       "('TFORM37', 'E')"
      ]
     },
     "metadata": {},
     "output_type": "display_data"
    },
    {
     "data": {
      "text/plain": [
       "('TTYPE38', 'vrot_g-')"
      ]
     },
     "metadata": {},
     "output_type": "display_data"
    },
    {
     "data": {
      "text/plain": [
       "('TFORM38', 'E')"
      ]
     },
     "metadata": {},
     "output_type": "display_data"
    },
    {
     "data": {
      "text/plain": [
       "('TTYPE39', '[Fe/H]')"
      ]
     },
     "metadata": {},
     "output_type": "display_data"
    },
    {
     "data": {
      "text/plain": [
       "('TFORM39', 'E')"
      ]
     },
     "metadata": {},
     "output_type": "display_data"
    },
    {
     "data": {
      "text/plain": [
       "('TCOMM39', 'Stellar mean metallicity in dex, [Fe/H] err+ err-')"
      ]
     },
     "metadata": {},
     "output_type": "display_data"
    },
    {
     "data": {
      "text/plain": [
       "('TTYPE40', 'feh+')"
      ]
     },
     "metadata": {},
     "output_type": "display_data"
    },
    {
     "data": {
      "text/plain": [
       "('TFORM40', 'E')"
      ]
     },
     "metadata": {},
     "output_type": "display_data"
    },
    {
     "data": {
      "text/plain": [
       "('TTYPE41', 'feh-')"
      ]
     },
     "metadata": {},
     "output_type": "display_data"
    },
    {
     "data": {
      "text/plain": [
       "('TFORM41', 'E')"
      ]
     },
     "metadata": {},
     "output_type": "display_data"
    },
    {
     "data": {
      "text/plain": [
       "('TTYPE42', 'F')"
      ]
     },
     "metadata": {},
     "output_type": "display_data"
    },
    {
     "data": {
      "text/plain": [
       "('TFORM42', 'I')"
      ]
     },
     "metadata": {},
     "output_type": "display_data"
    },
    {
     "data": {
      "text/plain": [
       "('TNULL42', -32768)"
      ]
     },
     "metadata": {},
     "output_type": "display_data"
    },
    {
     "data": {
      "text/plain": [
       "('TTYPE43', 'pmra')"
      ]
     },
     "metadata": {},
     "output_type": "display_data"
    },
    {
     "data": {
      "text/plain": [
       "('TFORM43', 'E')"
      ]
     },
     "metadata": {},
     "output_type": "display_data"
    },
    {
     "data": {
      "text/plain": [
       "('TTYPE44', 'epmra+')"
      ]
     },
     "metadata": {},
     "output_type": "display_data"
    },
    {
     "data": {
      "text/plain": [
       "('TFORM44', 'E')"
      ]
     },
     "metadata": {},
     "output_type": "display_data"
    },
    {
     "data": {
      "text/plain": [
       "('TTYPE45', 'epmra-')"
      ]
     },
     "metadata": {},
     "output_type": "display_data"
    },
    {
     "data": {
      "text/plain": [
       "('TFORM45', 'E')"
      ]
     },
     "metadata": {},
     "output_type": "display_data"
    },
    {
     "data": {
      "text/plain": [
       "('TTYPE46', 'pmdec')"
      ]
     },
     "metadata": {},
     "output_type": "display_data"
    },
    {
     "data": {
      "text/plain": [
       "('TFORM46', 'E')"
      ]
     },
     "metadata": {},
     "output_type": "display_data"
    },
    {
     "data": {
      "text/plain": [
       "('TTYPE47', 'epmdec+')"
      ]
     },
     "metadata": {},
     "output_type": "display_data"
    },
    {
     "data": {
      "text/plain": [
       "('TFORM47', 'E')"
      ]
     },
     "metadata": {},
     "output_type": "display_data"
    },
    {
     "data": {
      "text/plain": [
       "('TTYPE48', 'epmdec-')"
      ]
     },
     "metadata": {},
     "output_type": "display_data"
    },
    {
     "data": {
      "text/plain": [
       "('TFORM48', 'E')"
      ]
     },
     "metadata": {},
     "output_type": "display_data"
    },
    {
     "data": {
      "text/plain": [
       "('TTYPE49', 'References')"
      ]
     },
     "metadata": {},
     "output_type": "display_data"
    },
    {
     "data": {
      "text/plain": [
       "('TFORM49', '53A')"
      ]
     },
     "metadata": {},
     "output_type": "display_data"
    },
    {
     "data": {
      "text/plain": [
       "('DATE-HDU', '2021-01-19T19:56:51')"
      ]
     },
     "metadata": {},
     "output_type": "display_data"
    },
    {
     "data": {
      "text/plain": [
       "('STILVERS', '3.3-3')"
      ]
     },
     "metadata": {},
     "output_type": "display_data"
    },
    {
     "data": {
      "text/plain": [
       "('STILCLAS', 'uk.ac.starlink.votable.FitsPlusTableWriter')"
      ]
     },
     "metadata": {},
     "output_type": "display_data"
    },
    {
     "data": {
      "text/plain": [
       "'binary table extension'"
      ]
     },
     "metadata": {},
     "output_type": "display_data"
    },
    {
     "data": {
      "text/plain": [
       "'8-bit bytes'"
      ]
     },
     "metadata": {},
     "output_type": "display_data"
    },
    {
     "data": {
      "text/plain": [
       "'2-dimensional table'"
      ]
     },
     "metadata": {},
     "output_type": "display_data"
    },
    {
     "data": {
      "text/plain": [
       "'width of table in bytes'"
      ]
     },
     "metadata": {},
     "output_type": "display_data"
    },
    {
     "data": {
      "text/plain": [
       "'number of rows in table'"
      ]
     },
     "metadata": {},
     "output_type": "display_data"
    },
    {
     "data": {
      "text/plain": [
       "'size of special data area'"
      ]
     },
     "metadata": {},
     "output_type": "display_data"
    },
    {
     "data": {
      "text/plain": [
       "'one data group'"
      ]
     },
     "metadata": {},
     "output_type": "display_data"
    },
    {
     "data": {
      "text/plain": [
       "'number of columns'"
      ]
     },
     "metadata": {},
     "output_type": "display_data"
    },
    {
     "data": {
      "text/plain": [
       "'table name'"
      ]
     },
     "metadata": {},
     "output_type": "display_data"
    },
    {
     "data": {
      "text/plain": [
       "'label for column 1'"
      ]
     },
     "metadata": {},
     "output_type": "display_data"
    },
    {
     "data": {
      "text/plain": [
       "'format for column 1'"
      ]
     },
     "metadata": {},
     "output_type": "display_data"
    },
    {
     "data": {
      "text/plain": [
       "''"
      ]
     },
     "metadata": {},
     "output_type": "display_data"
    },
    {
     "data": {
      "text/plain": [
       "'label for column 2'"
      ]
     },
     "metadata": {},
     "output_type": "display_data"
    },
    {
     "data": {
      "text/plain": [
       "'format for column 2'"
      ]
     },
     "metadata": {},
     "output_type": "display_data"
    },
    {
     "data": {
      "text/plain": [
       "''"
      ]
     },
     "metadata": {},
     "output_type": "display_data"
    },
    {
     "data": {
      "text/plain": [
       "'label for column 3'"
      ]
     },
     "metadata": {},
     "output_type": "display_data"
    },
    {
     "data": {
      "text/plain": [
       "'format for column 3'"
      ]
     },
     "metadata": {},
     "output_type": "display_data"
    },
    {
     "data": {
      "text/plain": [
       "''"
      ]
     },
     "metadata": {},
     "output_type": "display_data"
    },
    {
     "data": {
      "text/plain": [
       "'label for column 4'"
      ]
     },
     "metadata": {},
     "output_type": "display_data"
    },
    {
     "data": {
      "text/plain": [
       "'format for column 4'"
      ]
     },
     "metadata": {},
     "output_type": "display_data"
    },
    {
     "data": {
      "text/plain": [
       "'label for column 5'"
      ]
     },
     "metadata": {},
     "output_type": "display_data"
    },
    {
     "data": {
      "text/plain": [
       "'format for column 5'"
      ]
     },
     "metadata": {},
     "output_type": "display_data"
    },
    {
     "data": {
      "text/plain": [
       "''"
      ]
     },
     "metadata": {},
     "output_type": "display_data"
    },
    {
     "data": {
      "text/plain": [
       "'label for column 6'"
      ]
     },
     "metadata": {},
     "output_type": "display_data"
    },
    {
     "data": {
      "text/plain": [
       "'format for column 6'"
      ]
     },
     "metadata": {},
     "output_type": "display_data"
    },
    {
     "data": {
      "text/plain": [
       "'label for column 7'"
      ]
     },
     "metadata": {},
     "output_type": "display_data"
    },
    {
     "data": {
      "text/plain": [
       "'format for column 7'"
      ]
     },
     "metadata": {},
     "output_type": "display_data"
    },
    {
     "data": {
      "text/plain": [
       "'label for column 8'"
      ]
     },
     "metadata": {},
     "output_type": "display_data"
    },
    {
     "data": {
      "text/plain": [
       "'format for column 8'"
      ]
     },
     "metadata": {},
     "output_type": "display_data"
    },
    {
     "data": {
      "text/plain": [
       "''"
      ]
     },
     "metadata": {},
     "output_type": "display_data"
    },
    {
     "data": {
      "text/plain": [
       "'label for column 9'"
      ]
     },
     "metadata": {},
     "output_type": "display_data"
    },
    {
     "data": {
      "text/plain": [
       "'format for column 9'"
      ]
     },
     "metadata": {},
     "output_type": "display_data"
    },
    {
     "data": {
      "text/plain": [
       "'label for column 10'"
      ]
     },
     "metadata": {},
     "output_type": "display_data"
    },
    {
     "data": {
      "text/plain": [
       "'format for column 10'"
      ]
     },
     "metadata": {},
     "output_type": "display_data"
    },
    {
     "data": {
      "text/plain": [
       "'label for column 11'"
      ]
     },
     "metadata": {},
     "output_type": "display_data"
    },
    {
     "data": {
      "text/plain": [
       "'format for column 11'"
      ]
     },
     "metadata": {},
     "output_type": "display_data"
    },
    {
     "data": {
      "text/plain": [
       "''"
      ]
     },
     "metadata": {},
     "output_type": "display_data"
    },
    {
     "data": {
      "text/plain": [
       "'label for column 12'"
      ]
     },
     "metadata": {},
     "output_type": "display_data"
    },
    {
     "data": {
      "text/plain": [
       "'format for column 12'"
      ]
     },
     "metadata": {},
     "output_type": "display_data"
    },
    {
     "data": {
      "text/plain": [
       "'label for column 13'"
      ]
     },
     "metadata": {},
     "output_type": "display_data"
    },
    {
     "data": {
      "text/plain": [
       "'format for column 13'"
      ]
     },
     "metadata": {},
     "output_type": "display_data"
    },
    {
     "data": {
      "text/plain": [
       "'label for column 14'"
      ]
     },
     "metadata": {},
     "output_type": "display_data"
    },
    {
     "data": {
      "text/plain": [
       "'format for column 14'"
      ]
     },
     "metadata": {},
     "output_type": "display_data"
    },
    {
     "data": {
      "text/plain": [
       "'label for column 15'"
      ]
     },
     "metadata": {},
     "output_type": "display_data"
    },
    {
     "data": {
      "text/plain": [
       "'format for column 15'"
      ]
     },
     "metadata": {},
     "output_type": "display_data"
    },
    {
     "data": {
      "text/plain": [
       "'label for column 16'"
      ]
     },
     "metadata": {},
     "output_type": "display_data"
    },
    {
     "data": {
      "text/plain": [
       "'format for column 16'"
      ]
     },
     "metadata": {},
     "output_type": "display_data"
    },
    {
     "data": {
      "text/plain": [
       "'label for column 17'"
      ]
     },
     "metadata": {},
     "output_type": "display_data"
    },
    {
     "data": {
      "text/plain": [
       "'format for column 17'"
      ]
     },
     "metadata": {},
     "output_type": "display_data"
    },
    {
     "data": {
      "text/plain": [
       "''"
      ]
     },
     "metadata": {},
     "output_type": "display_data"
    },
    {
     "data": {
      "text/plain": [
       "'label for column 18'"
      ]
     },
     "metadata": {},
     "output_type": "display_data"
    },
    {
     "data": {
      "text/plain": [
       "'format for column 18'"
      ]
     },
     "metadata": {},
     "output_type": "display_data"
    },
    {
     "data": {
      "text/plain": [
       "'label for column 19'"
      ]
     },
     "metadata": {},
     "output_type": "display_data"
    },
    {
     "data": {
      "text/plain": [
       "'format for column 19'"
      ]
     },
     "metadata": {},
     "output_type": "display_data"
    },
    {
     "data": {
      "text/plain": [
       "'label for column 20'"
      ]
     },
     "metadata": {},
     "output_type": "display_data"
    },
    {
     "data": {
      "text/plain": [
       "'format for column 20'"
      ]
     },
     "metadata": {},
     "output_type": "display_data"
    },
    {
     "data": {
      "text/plain": [
       "''"
      ]
     },
     "metadata": {},
     "output_type": "display_data"
    },
    {
     "data": {
      "text/plain": [
       "'label for column 21'"
      ]
     },
     "metadata": {},
     "output_type": "display_data"
    },
    {
     "data": {
      "text/plain": [
       "'format for column 21'"
      ]
     },
     "metadata": {},
     "output_type": "display_data"
    },
    {
     "data": {
      "text/plain": [
       "'label for column 22'"
      ]
     },
     "metadata": {},
     "output_type": "display_data"
    },
    {
     "data": {
      "text/plain": [
       "'format for column 22'"
      ]
     },
     "metadata": {},
     "output_type": "display_data"
    },
    {
     "data": {
      "text/plain": [
       "'label for column 23'"
      ]
     },
     "metadata": {},
     "output_type": "display_data"
    },
    {
     "data": {
      "text/plain": [
       "'format for column 23'"
      ]
     },
     "metadata": {},
     "output_type": "display_data"
    },
    {
     "data": {
      "text/plain": [
       "''"
      ]
     },
     "metadata": {},
     "output_type": "display_data"
    },
    {
     "data": {
      "text/plain": [
       "'label for column 24'"
      ]
     },
     "metadata": {},
     "output_type": "display_data"
    },
    {
     "data": {
      "text/plain": [
       "'format for column 24'"
      ]
     },
     "metadata": {},
     "output_type": "display_data"
    },
    {
     "data": {
      "text/plain": [
       "'label for column 25'"
      ]
     },
     "metadata": {},
     "output_type": "display_data"
    },
    {
     "data": {
      "text/plain": [
       "'format for column 25'"
      ]
     },
     "metadata": {},
     "output_type": "display_data"
    },
    {
     "data": {
      "text/plain": [
       "'label for column 26'"
      ]
     },
     "metadata": {},
     "output_type": "display_data"
    },
    {
     "data": {
      "text/plain": [
       "'format for column 26'"
      ]
     },
     "metadata": {},
     "output_type": "display_data"
    },
    {
     "data": {
      "text/plain": [
       "''"
      ]
     },
     "metadata": {},
     "output_type": "display_data"
    },
    {
     "data": {
      "text/plain": [
       "'label for column 27'"
      ]
     },
     "metadata": {},
     "output_type": "display_data"
    },
    {
     "data": {
      "text/plain": [
       "'format for column 27'"
      ]
     },
     "metadata": {},
     "output_type": "display_data"
    },
    {
     "data": {
      "text/plain": [
       "'label for column 28'"
      ]
     },
     "metadata": {},
     "output_type": "display_data"
    },
    {
     "data": {
      "text/plain": [
       "'format for column 28'"
      ]
     },
     "metadata": {},
     "output_type": "display_data"
    },
    {
     "data": {
      "text/plain": [
       "''"
      ]
     },
     "metadata": {},
     "output_type": "display_data"
    },
    {
     "data": {
      "text/plain": [
       "'label for column 29'"
      ]
     },
     "metadata": {},
     "output_type": "display_data"
    },
    {
     "data": {
      "text/plain": [
       "'format for column 29'"
      ]
     },
     "metadata": {},
     "output_type": "display_data"
    },
    {
     "data": {
      "text/plain": [
       "'label for column 30'"
      ]
     },
     "metadata": {},
     "output_type": "display_data"
    },
    {
     "data": {
      "text/plain": [
       "'format for column 30'"
      ]
     },
     "metadata": {},
     "output_type": "display_data"
    },
    {
     "data": {
      "text/plain": [
       "'label for column 31'"
      ]
     },
     "metadata": {},
     "output_type": "display_data"
    },
    {
     "data": {
      "text/plain": [
       "'format for column 31'"
      ]
     },
     "metadata": {},
     "output_type": "display_data"
    },
    {
     "data": {
      "text/plain": [
       "'label for column 32'"
      ]
     },
     "metadata": {},
     "output_type": "display_data"
    },
    {
     "data": {
      "text/plain": [
       "'format for column 32'"
      ]
     },
     "metadata": {},
     "output_type": "display_data"
    },
    {
     "data": {
      "text/plain": [
       "'label for column 33'"
      ]
     },
     "metadata": {},
     "output_type": "display_data"
    },
    {
     "data": {
      "text/plain": [
       "'format for column 33'"
      ]
     },
     "metadata": {},
     "output_type": "display_data"
    },
    {
     "data": {
      "text/plain": [
       "''"
      ]
     },
     "metadata": {},
     "output_type": "display_data"
    },
    {
     "data": {
      "text/plain": [
       "'label for column 34'"
      ]
     },
     "metadata": {},
     "output_type": "display_data"
    },
    {
     "data": {
      "text/plain": [
       "'format for column 34'"
      ]
     },
     "metadata": {},
     "output_type": "display_data"
    },
    {
     "data": {
      "text/plain": [
       "'label for column 35'"
      ]
     },
     "metadata": {},
     "output_type": "display_data"
    },
    {
     "data": {
      "text/plain": [
       "'format for column 35'"
      ]
     },
     "metadata": {},
     "output_type": "display_data"
    },
    {
     "data": {
      "text/plain": [
       "'label for column 36'"
      ]
     },
     "metadata": {},
     "output_type": "display_data"
    },
    {
     "data": {
      "text/plain": [
       "'format for column 36'"
      ]
     },
     "metadata": {},
     "output_type": "display_data"
    },
    {
     "data": {
      "text/plain": [
       "''"
      ]
     },
     "metadata": {},
     "output_type": "display_data"
    },
    {
     "data": {
      "text/plain": [
       "'label for column 37'"
      ]
     },
     "metadata": {},
     "output_type": "display_data"
    },
    {
     "data": {
      "text/plain": [
       "'format for column 37'"
      ]
     },
     "metadata": {},
     "output_type": "display_data"
    },
    {
     "data": {
      "text/plain": [
       "'label for column 38'"
      ]
     },
     "metadata": {},
     "output_type": "display_data"
    },
    {
     "data": {
      "text/plain": [
       "'format for column 38'"
      ]
     },
     "metadata": {},
     "output_type": "display_data"
    },
    {
     "data": {
      "text/plain": [
       "'label for column 39'"
      ]
     },
     "metadata": {},
     "output_type": "display_data"
    },
    {
     "data": {
      "text/plain": [
       "'format for column 39'"
      ]
     },
     "metadata": {},
     "output_type": "display_data"
    },
    {
     "data": {
      "text/plain": [
       "''"
      ]
     },
     "metadata": {},
     "output_type": "display_data"
    },
    {
     "data": {
      "text/plain": [
       "'label for column 40'"
      ]
     },
     "metadata": {},
     "output_type": "display_data"
    },
    {
     "data": {
      "text/plain": [
       "'format for column 40'"
      ]
     },
     "metadata": {},
     "output_type": "display_data"
    },
    {
     "data": {
      "text/plain": [
       "'label for column 41'"
      ]
     },
     "metadata": {},
     "output_type": "display_data"
    },
    {
     "data": {
      "text/plain": [
       "'format for column 41'"
      ]
     },
     "metadata": {},
     "output_type": "display_data"
    },
    {
     "data": {
      "text/plain": [
       "'label for column 42'"
      ]
     },
     "metadata": {},
     "output_type": "display_data"
    },
    {
     "data": {
      "text/plain": [
       "'format for column 42'"
      ]
     },
     "metadata": {},
     "output_type": "display_data"
    },
    {
     "data": {
      "text/plain": [
       "'blank value for column 42'"
      ]
     },
     "metadata": {},
     "output_type": "display_data"
    },
    {
     "data": {
      "text/plain": [
       "'label for column 43'"
      ]
     },
     "metadata": {},
     "output_type": "display_data"
    },
    {
     "data": {
      "text/plain": [
       "'format for column 43'"
      ]
     },
     "metadata": {},
     "output_type": "display_data"
    },
    {
     "data": {
      "text/plain": [
       "'label for column 44'"
      ]
     },
     "metadata": {},
     "output_type": "display_data"
    },
    {
     "data": {
      "text/plain": [
       "'format for column 44'"
      ]
     },
     "metadata": {},
     "output_type": "display_data"
    },
    {
     "data": {
      "text/plain": [
       "'label for column 45'"
      ]
     },
     "metadata": {},
     "output_type": "display_data"
    },
    {
     "data": {
      "text/plain": [
       "'format for column 45'"
      ]
     },
     "metadata": {},
     "output_type": "display_data"
    },
    {
     "data": {
      "text/plain": [
       "'label for column 46'"
      ]
     },
     "metadata": {},
     "output_type": "display_data"
    },
    {
     "data": {
      "text/plain": [
       "'format for column 46'"
      ]
     },
     "metadata": {},
     "output_type": "display_data"
    },
    {
     "data": {
      "text/plain": [
       "'label for column 47'"
      ]
     },
     "metadata": {},
     "output_type": "display_data"
    },
    {
     "data": {
      "text/plain": [
       "'format for column 47'"
      ]
     },
     "metadata": {},
     "output_type": "display_data"
    },
    {
     "data": {
      "text/plain": [
       "'label for column 48'"
      ]
     },
     "metadata": {},
     "output_type": "display_data"
    },
    {
     "data": {
      "text/plain": [
       "'format for column 48'"
      ]
     },
     "metadata": {},
     "output_type": "display_data"
    },
    {
     "data": {
      "text/plain": [
       "'label for column 49'"
      ]
     },
     "metadata": {},
     "output_type": "display_data"
    },
    {
     "data": {
      "text/plain": [
       "'format for column 49'"
      ]
     },
     "metadata": {},
     "output_type": "display_data"
    },
    {
     "data": {
      "text/plain": [
       "'Date of HDU creation (UTC)'"
      ]
     },
     "metadata": {},
     "output_type": "display_data"
    },
    {
     "data": {
      "text/plain": [
       "'Version of STIL software'"
      ]
     },
     "metadata": {},
     "output_type": "display_data"
    },
    {
     "data": {
      "text/plain": [
       "'STIL Author class'"
      ]
     },
     "metadata": {},
     "output_type": "display_data"
    }
   ],
   "source": [
    "with fits.open(\"NearbyGalaxies_Jan2021_PUBLIC.fits\") as hdul:\n",
    "    display((hdul[1].header))\n",
    "    #display(dict(hdul[1].header))\n",
    "    #display(hdul[1].header)\n",
    "    for item in hdul[1].header.items():\n",
    "        display(item)\n",
    "    for item in hdul[1].header.comments:\n",
    "        display(item)"
   ]
  },
  {
   "cell_type": "code",
   "execution_count": 74,
   "metadata": {},
   "outputs": [
    {
     "name": "stdout",
     "output_type": "stream",
     "text": [
      "[{'Name': 'Carina', 'no_cosmo_prior': {'median': '17.86', '-err': '0.07', '+err': '0.09'}, 'sat.': {'median': '17.86', '-err': '0.06', '+err': '0.07'}, 'sat.+PB13': {'median': '17.85', '-err': '0.06', '+err': '0.06'}, 'sat.+BM13': {'median': '17.85', '-err': '0.06', '+err': '0.06'}, 'sat.+PB19': {'median': '17.86', '-err': '0.06', '+err': '0.07'}, 'sat.+BM18': {'median': '17.87', '-err': '0.06', '+err': '0.06'}}, {'Name': 'Draco', 'no_cosmo_prior': {'median': '18.92', '-err': '0.06', '+err': '0.06'}, 'sat.': {'median': '18.89', '-err': '0.06', '+err': '0.06'}, 'sat.+PB13': {'median': '18.85', '-err': '0.06', '+err': '0.06'}, 'sat.+BM13': {'median': '18.85', '-err': '0.06', '+err': '0.06'}, 'sat.+PB19': {'median': '18.85', '-err': '0.06', '+err': '0.06'}, 'sat.+BM18': {'median': '18.88', '-err': '0.06', '+err': '0.06'}}, {'Name': 'Fornax', 'no_cosmo_prior': {'median': '17.93', '-err': '0.08', '+err': '0.20'}, 'sat.': {'median': '18.03', '-err': '0.10', '+err': '0.11'}, 'sat.+PB13': {'median': '18.02', '-err': '0.08', '+err': '0.10'}, 'sat.+BM13': {'median': '18.00', '-err': '0.07', '+err': '0.09'}, 'sat.+PB19': {'median': '18.02', '-err': '0.08', '+err': '0.09'}, 'sat.+BM18': {'median': '17.96', '-err': '0.06', '+err': '0.07'}}, {'Name': 'Leo1', 'no_cosmo_prior': {'median': '17.80', '-err': '0.14', '+err': '0.22'}, 'sat.': {'median': '17.71', '-err': '0.09', '+err': '0.10'}, 'sat.+PB13': {'median': '17.73', '-err': '0.08', '+err': '0.08'}, 'sat.+BM13': {'median': '17.73', '-err': '0.09', '+err': '0.11'}, 'sat.+PB19': {'median': '17.74', '-err': '0.09', '+err': '0.12'}, 'sat.+BM18': {'median': '17.78', '-err': '0.11', '+err': '0.14'}}, {'Name': 'Leo2', 'no_cosmo_prior': {'median': '17.82', '-err': '0.20', '+err': '0.25'}, 'sat.': {'median': '17.70', '-err': '0.14', '+err': '0.16'}, 'sat.+PB13': {'median': '17.64', '-err': '0.11', '+err': '0.13'}, 'sat.+BM13': {'median': '17.69', '-err': '0.13', '+err': '0.15'}, 'sat.+PB19': {'median': '17.71', '-err': '0.14', '+err': '0.15'}, 'sat.+BM18': {'median': '17.73', '-err': '0.14', '+err': '0.17'}}, {'Name': 'Sculptor', 'no_cosmo_prior': {'median': '18.56', '-err': '0.05', '+err': '0.07'}, 'sat.': {'median': '18.55', '-err': '0.04', '+err': '0.04'}, 'sat.+PB13': {'median': '18.55', '-err': '0.04', '+err': '0.04'}, 'sat.+BM13': {'median': '18.55', '-err': '0.04', '+err': '0.04'}, 'sat.+PB19': {'median': '18.55', '-err': '0.04', '+err': '0.05'}, 'sat.+BM18': {'median': '18.56', '-err': '0.04', '+err': '0.04'}}, {'Name': 'Sextans1', 'no_cosmo_prior': {'median': '18.09', '-err': '0.16', '+err': '0.40'}, 'sat.': {'median': '18.12', '-err': '0.13', '+err': '0.15'}, 'sat.+PB13': {'median': '18.09', '-err': '0.11', '+err': '0.14'}, 'sat.+BM13': {'median': '18.09', '-err': '0.12', '+err': '0.14'}, 'sat.+PB19': {'median': '18.12', '-err': '0.12', '+err': '0.15'}, 'sat.+BM18': {'median': '18.19', '-err': '0.13', '+err': '0.15'}}, {'Name': 'UrsaMinor', 'no_cosmo_prior': {'median': '18.47', '-err': '0.09', '+err': '0.13'}, 'sat.': {'median': '18.46', '-err': '0.08', '+err': '0.09'}, 'sat.+PB13': {'median': '18.50', '-err': '0.08', '+err': '0.09'}, 'sat.+BM13': {'median': '18.46', '-err': '0.08', '+err': '0.09'}, 'sat.+PB19': {'median': '18.46', '-err': '0.07', '+err': '0.08'}, 'sat.+BM18': {'median': '18.47', '-err': '0.08', '+err': '0.09'}}]\n"
     ]
    }
   ],
   "source": [
    "import pandas as pd\n",
    "import re\n",
    "import json\n",
    "\n",
    "df = pd.read_csv(\"j_satellite.csv\")\n",
    "\n",
    "def parse_values(s):\n",
    "    # return re.findall(r'((?:\\-|\\+|\\d|\\.)+)',s)\n",
    "    return re.findall(r'((?:\\d|\\.)+)',s)\n",
    "\n",
    "def to_dict(sr):\n",
    "    ret = {}\n",
    "    for key,val in sr.items():\n",
    "        if key == \"Name\":\n",
    "            ret[\"Name\"] = val\n",
    "        else:\n",
    "            value_keys = [\"median\", \"-err\", \"+err\"]\n",
    "            ret[key] = {_key:_val for _key,_val in zip(value_keys,parse_values(val)) }\n",
    "    return ret\n",
    "\n",
    "src_json = list(df.apply(to_dict,axis=1))\n",
    "print(src_json)\n",
    "\n",
    "with open(\"Horigome2022.json\",\"w\") as f:\n",
    "    json.dump(src_json,f,indent=2)\n",
    "\n",
    "# def myparse()"
   ]
  },
  {
   "cell_type": "code",
   "execution_count": 75,
   "metadata": {},
   "outputs": [
    {
     "name": "stdout",
     "output_type": "stream",
     "text": [
      "[{'Name': 'Aquarius2', 'no_cosmo_prior': {'median': '18.25', '-err': '0.55', '+err': '0.61'}, 'sat._10.5': {'median': '17.62', '-err': '0.36', '+err': '0.37'}, 'sat._18': {'median': '17.84', '-err': '0.36', '+err': '0.35'}, 'sat_10.5+PB13': {'median': '17.21', '-err': '0.24', '+err': '0.26'}, 'sat._18+PB13': {'median': '17.31', '-err': '0.24', '+err': '0.26'}, 'sat_10.5+BM13': {'median': '17.57', '-err': '0.32', '+err': '0.31'}, 'sat._18+BM13': {'median': '17.73', '-err': '0.37', '+err': '0.34'}, 'sat_10.5+PB19': {'median': '17.71', '-err': '0.35', '+err': '0.31'}, 'sat._18+PB19': {'median': '17.80', '-err': '0.35', '+err': '0.31'}, 'sat_10.5+BM18': {'median': '17.92', '-err': '0.33', '+err': '0.34'}, 'sat._18+BM18': {'median': '17.91', '-err': '0.34', '+err': '0.33'}}, {'Name': 'Bootes1', 'no_cosmo_prior': {'median': '18.24', '-err': '0.26', '+err': '0.28'}, 'sat._10.5': {'median': '18.03', '-err': '0.21', '+err': '0.22'}, 'sat._18': {'median': '18.11', '-err': '0.21', '+err': '0.21'}, 'sat_10.5+PB13': {'median': '17.95', '-err': '0.18', '+err': '0.19'}, 'sat._18+PB13': {'median': '17.99', '-err': '0.17', '+err': '0.18'}, 'sat_10.5+BM13': {'median': '18.09', '-err': '0.21', '+err': '0.21'}, 'sat._18+BM13': {'median': '18.09', '-err': '0.21', '+err': '0.21'}, 'sat_10.5+PB19': {'median': '18.12', '-err': '0.20', '+err': '0.22'}, 'sat._18+PB19': {'median': '18.12', '-err': '0.20', '+err': '0.21'}, 'sat_10.5+BM18': {'median': '18.31', '-err': '0.18', '+err': '0.19'}, 'sat._18+BM18': {'median': '18.30', '-err': '0.17', '+err': '0.18'}}, {'Name': 'Bootes2', 'no_cosmo_prior': {'median': '16.64', '-err': '4.90', '+err': '2.80'}, 'sat._10.5': {'median': '17.69', '-err': '0.81', '+err': '0.65'}, 'sat._18': {'median': '18.41', '-err': '0.53', '+err': '0.46'}, 'sat_10.5+PB13': {'median': '17.48', '-err': '0.29', '+err': '0.28'}, 'sat._18+PB13': {'median': '17.53', '-err': '0.29', '+err': '0.32'}, 'sat_10.5+BM13': {'median': '17.64', '-err': '0.49', '+err': '0.53'}, 'sat._18+BM13': {'median': '17.84', '-err': '0.67', '+err': '0.69'}, 'sat_10.5+PB19': {'median': '17.74', '-err': '0.73', '+err': '0.58'}, 'sat._18+PB19': {'median': '18.33', '-err': '0.42', '+err': '0.39'}, 'sat_10.5+BM18': {'median': '18.33', '-err': '0.38', '+err': '0.41'}, 'sat._18+BM18': {'median': '18.35', '-err': '0.41', '+err': '0.44'}}, {'Name': 'CanesVenatici1', 'no_cosmo_prior': {'median': '17.59', '-err': '0.19', '+err': '0.32'}, 'sat._10.5': {'median': '17.42', '-err': '0.12', '+err': '0.13'}, 'sat._18': {'median': '17.45', '-err': '0.12', '+err': '0.12'}, 'sat_10.5+PB13': {'median': '17.41', '-err': '0.12', '+err': '0.13'}, 'sat._18+PB13': {'median': '17.45', '-err': '0.12', '+err': '0.14'}, 'sat_10.5+BM13': {'median': '17.45', '-err': '0.11', '+err': '0.11'}, 'sat._18+BM13': {'median': '17.44', '-err': '0.12', '+err': '0.12'}, 'sat_10.5+PB19': {'median': '17.47', '-err': '0.12', '+err': '0.12'}, 'sat._18+PB19': {'median': '17.46', '-err': '0.12', '+err': '0.13'}, 'sat_10.5+BM18': {'median': '17.46', '-err': '0.07', '+err': '0.10'}, 'sat._18+BM18': {'median': '17.46', '-err': '0.07', '+err': '0.10'}}, {'Name': 'CanesVenatici2', 'no_cosmo_prior': {'median': '17.94', '-err': '0.45', '+err': '0.50'}, 'sat._10.5': {'median': '17.40', '-err': '0.36', '+err': '0.37'}, 'sat._18': {'median': '17.58', '-err': '0.31', '+err': '0.30'}, 'sat_10.5+PB13': {'median': '16.98', '-err': '0.25', '+err': '0.23'}, 'sat._18+PB13': {'median': '17.08', '-err': '0.25', '+err': '0.23'}, 'sat_10.5+BM13': {'median': '17.38', '-err': '0.31', '+err': '0.27'}, 'sat._18+BM13': {'median': '17.48', '-err': '0.32', '+err': '0.27'}, 'sat_10.5+PB19': {'median': '17.47', '-err': '0.28', '+err': '0.27'}, 'sat._18+PB19': {'median': '17.51', '-err': '0.28', '+err': '0.27'}, 'sat_10.5+BM18': {'median': '17.68', '-err': '0.31', '+err': '0.30'}, 'sat._18+BM18': {'median': '17.68', '-err': '0.30', '+err': '0.30'}}, {'Name': 'Carina2', 'no_cosmo_prior': {'median': '18.38', '-err': '0.55', '+err': '0.56'}, 'sat._10.5': {'median': '18.06', '-err': '0.37', '+err': '0.41'}, 'sat._18': {'median': '18.35', '-err': '0.36', '+err': '0.37'}, 'sat_10.5+PB13': {'median': '18.00', '-err': '0.26', '+err': '0.25'}, 'sat._18+PB13': {'median': '18.06', '-err': '0.25', '+err': '0.26'}, 'sat_10.5+BM13': {'median': '18.15', '-err': '0.32', '+err': '0.33'}, 'sat._18+BM13': {'median': '18.18', '-err': '0.36', '+err': '0.39'}, 'sat_10.5+PB19': {'median': '18.17', '-err': '0.42', '+err': '0.39'}, 'sat._18+PB19': {'median': '18.39', '-err': '0.35', '+err': '0.33'}, 'sat_10.5+BM18': {'median': '18.53', '-err': '0.27', '+err': '0.30'}, 'sat._18+BM18': {'median': '18.56', '-err': '0.27', '+err': '0.30'}}, {'Name': 'ComaBerenices', 'no_cosmo_prior': {'median': '18.95', '-err': '0.36', '+err': '0.34'}, 'sat._10.5': {'median': '18.58', '-err': '0.29', '+err': '0.28'}, 'sat._18': {'median': '18.70', '-err': '0.26', '+err': '0.26'}, 'sat_10.5+PB13': {'median': '18.13', '-err': '0.23', '+err': '0.23'}, 'sat._18+PB13': {'median': '18.19', '-err': '0.23', '+err': '0.24'}, 'sat_10.5+BM13': {'median': '18.49', '-err': '0.27', '+err': '0.25'}, 'sat._18+BM13': {'median': '18.60', '-err': '0.26', '+err': '0.24'}, 'sat_10.5+PB19': {'median': '18.55', '-err': '0.27', '+err': '0.25'}, 'sat._18+PB19': {'median': '18.63', '-err': '0.24', '+err': '0.23'}, 'sat_10.5+BM18': {'median': '18.71', '-err': '0.26', '+err': '0.25'}, 'sat._18+BM18': {'median': '18.71', '-err': '0.27', '+err': '0.26'}}, {'Name': 'Draco2', 'no_cosmo_prior': {'median': '16.80', '-err': '4.77', '+err': '2.54'}, 'sat._10.5': {'median': '18.30', '-err': '0.78', '+err': '0.62'}, 'sat._18': {'median': '18.93', '-err': '0.49', '+err': '0.43'}, 'sat_10.5+PB13': {'median': '18.12', '-err': '0.29', '+err': '0.29'}, 'sat._18+PB13': {'median': '18.15', '-err': '0.27', '+err': '0.29'}, 'sat_10.5+BM13': {'median': '18.28', '-err': '0.48', '+err': '0.49'}, 'sat._18+BM13': {'median': '18.40', '-err': '0.61', '+err': '0.69'}, 'sat_10.5+PB19': {'median': '18.35', '-err': '0.70', '+err': '0.54'}, 'sat._18+PB19': {'median': '18.89', '-err': '0.43', '+err': '0.37'}, 'sat_10.5+BM18': {'median': '18.90', '-err': '0.35', '+err': '0.37'}, 'sat._18+BM18': {'median': '18.93', '-err': '0.35', '+err': '0.38'}}, {'Name': 'Eridanus2', 'no_cosmo_prior': {'median': '17.29', '-err': '0.36', '+err': '0.38'}, 'sat._10.5': {'median': '16.91', '-err': '0.24', '+err': '0.25'}, 'sat._18': {'median': '16.98', '-err': '0.23', '+err': '0.24'}, 'sat_10.5+PB13': {'median': '16.76', '-err': '0.19', '+err': '0.20'}, 'sat._18+PB13': {'median': '16.81', '-err': '0.19', '+err': '0.19'}, 'sat_10.5+BM13': {'median': '16.97', '-err': '0.23', '+err': '0.22'}, 'sat._18+BM13': {'median': '16.96', '-err': '0.22', '+err': '0.22'}, 'sat_10.5+PB19': {'median': '17.03', '-err': '0.21', '+err': '0.21'}, 'sat._18+PB19': {'median': '17.03', '-err': '0.23', '+err': '0.23'}, 'sat_10.5+BM18': {'median': '17.15', '-err': '0.16', '+err': '0.14'}, 'sat._18+BM18': {'median': '17.14', '-err': '0.15', '+err': '0.14'}}, {'Name': 'Grus1', 'no_cosmo_prior': {'median': '17.42', '-err': '0.89', '+err': '0.88'}, 'sat._10.5': {'median': '17.09', '-err': '0.48', '+err': '0.46'}, 'sat._18': {'median': '17.44', '-err': '0.44', '+err': '0.44'}, 'sat_10.5+PB13': {'median': '16.77', '-err': '0.25', '+err': '0.26'}, 'sat._18+PB13': {'median': '16.85', '-err': '0.26', '+err': '0.28'}, 'sat_10.5+BM13': {'median': '17.05', '-err': '0.41', '+err': '0.42'}, 'sat._18+BM13': {'median': '17.26', '-err': '0.50', '+err': '0.46'}, 'sat_10.5+PB19': {'median': '17.15', '-err': '0.48', '+err': '0.41'}, 'sat._18+PB19': {'median': '17.43', '-err': '0.39', '+err': '0.36'}, 'sat_10.5+BM18': {'median': '17.53', '-err': '0.36', '+err': '0.37'}, 'sat._18+BM18': {'median': '17.51', '-err': '0.35', '+err': '0.39'}}, {'Name': 'Hercules', 'no_cosmo_prior': {'median': '17.89', '-err': '0.37', '+err': '0.37'}, 'sat._10.5': {'median': '17.51', '-err': '0.27', '+err': '0.30'}, 'sat._18': {'median': '17.69', '-err': '0.27', '+err': '0.28'}, 'sat_10.5+PB13': {'median': '17.43', '-err': '0.21', '+err': '0.21'}, 'sat._18+PB13': {'median': '17.48', '-err': '0.23', '+err': '0.22'}, 'sat_10.5+BM13': {'median': '17.62', '-err': '0.27', '+err': '0.26'}, 'sat._18+BM13': {'median': '17.61', '-err': '0.25', '+err': '0.26'}, 'sat_10.5+PB19': {'median': '17.69', '-err': '0.29', '+err': '0.26'}, 'sat._18+PB19': {'median': '17.69', '-err': '0.28', '+err': '0.27'}, 'sat_10.5+BM18': {'median': '17.93', '-err': '0.20', '+err': '0.18'}, 'sat._18+BM18': {'median': '17.95', '-err': '0.21', '+err': '0.18'}}, {'Name': 'Horologium1', 'no_cosmo_prior': {'median': '19.08', '-err': '0.63', '+err': '0.68'}, 'sat._10.5': {'median': '18.11', '-err': '0.40', '+err': '0.41'}, 'sat._18': {'median': '18.26', '-err': '0.37', '+err': '0.33'}, 'sat_10.5+PB13': {'median': '17.53', '-err': '0.23', '+err': '0.24'}, 'sat._18+PB13': {'median': '17.59', '-err': '0.24', '+err': '0.25'}, 'sat_10.5+BM13': {'median': '17.95', '-err': '0.34', '+err': '0.31'}, 'sat._18+BM13': {'median': '18.18', '-err': '0.36', '+err': '0.30'}, 'sat_10.5+PB19': {'median': '18.05', '-err': '0.34', '+err': '0.31'}, 'sat._18+PB19': {'median': '18.18', '-err': '0.30', '+err': '0.28'}, 'sat_10.5+BM18': {'median': '18.25', '-err': '0.36', '+err': '0.35'}, 'sat._18+BM18': {'median': '18.29', '-err': '0.36', '+err': '0.34'}}, {'Name': 'Hydrus1', 'no_cosmo_prior': {'median': '18.52', '-err': '0.32', '+err': '0.36'}, 'sat._10.5': {'median': '18.33', '-err': '0.27', '+err': '0.29'}, 'sat._18': {'median': '18.50', '-err': '0.28', '+err': '0.31'}, 'sat_10.5+PB13': {'median': '18.25', '-err': '0.19', '+err': '0.21'}, 'sat._18+PB13': {'median': '18.30', '-err': '0.21', '+err': '0.21'}, 'sat_10.5+BM13': {'median': '18.37', '-err': '0.26', '+err': '0.26'}, 'sat._18+BM13': {'median': '18.38', '-err': '0.26', '+err': '0.31'}, 'sat_10.5+PB19': {'median': '18.42', '-err': '0.31', '+err': '0.29'}, 'sat._18+PB19': {'median': '18.51', '-err': '0.27', '+err': '0.26'}, 'sat_10.5+BM18': {'median': '18.69', '-err': '0.22', '+err': '0.25'}, 'sat._18+BM18': {'median': '18.68', '-err': '0.22', '+err': '0.25'}}, {'Name': 'Leo4', 'no_cosmo_prior': {'median': '15.63', '-err': '5.06', '+err': '1.85'}, 'sat._10.5': {'median': '16.72', '-err': '0.61', '+err': '0.53'}, 'sat._18': {'median': '17.17', '-err': '0.46', '+err': '0.47'}, 'sat_10.5+PB13': {'median': '16.96', '-err': '0.27', '+err': '0.27'}, 'sat._18+PB13': {'median': '17.01', '-err': '0.29', '+err': '0.27'}, 'sat_10.5+BM13': {'median': '17.09', '-err': '0.37', '+err': '0.39'}, 'sat._18+BM13': {'median': '17.15', '-err': '0.41', '+err': '0.37'}, 'sat_10.5+PB19': {'median': '16.95', '-err': '0.50', '+err': '0.53'}, 'sat._18+PB19': {'median': '17.18', '-err': '0.47', '+err': '0.43'}, 'sat_10.5+BM18': {'median': '17.70', '-err': '0.27', '+err': '0.28'}, 'sat._18+BM18': {'median': '17.69', '-err': '0.28', '+err': '0.27'}}, {'Name': 'Leo5', 'no_cosmo_prior': {'median': '17.18', '-err': '0.82', '+err': '0.78'}, 'sat._10.5': {'median': '16.92', '-err': '0.48', '+err': '0.45'}, 'sat._18': {'median': '17.28', '-err': '0.43', '+err': '0.36'}, 'sat_10.5+PB13': {'median': '16.73', '-err': '0.26', '+err': '0.27'}, 'sat._18+PB13': {'median': '16.87', '-err': '0.26', '+err': '0.26'}, 'sat_10.5+BM13': {'median': '17.07', '-err': '0.34', '+err': '0.34'}, 'sat._18+BM13': {'median': '17.16', '-err': '0.39', '+err': '0.37'}, 'sat_10.5+PB19': {'median': '17.17', '-err': '0.43', '+err': '0.36'}, 'sat._18+PB19': {'median': '17.29', '-err': '0.37', '+err': '0.32'}, 'sat_10.5+BM18': {'median': '17.56', '-err': '0.30', '+err': '0.30'}, 'sat._18+BM18': {'median': '17.51', '-err': '0.31', '+err': '0.33'}}, {'Name': 'LeoT', 'no_cosmo_prior': {'median': '17.61', '-err': '0.44', '+err': '0.43'}, 'sat._10.5': {'median': '16.95', '-err': '0.31', '+err': '0.31'}, 'sat._18': {'median': '17.01', '-err': '0.29', '+err': '0.27'}, 'sat_10.5+PB13': {'median': '16.82', '-err': '0.22', '+err': '0.22'}, 'sat._18+PB13': {'median': '16.87', '-err': '0.23', '+err': '0.23'}, 'sat_10.5+BM13': {'median': '17.07', '-err': '0.29', '+err': '0.26'}, 'sat._18+BM13': {'median': '17.09', '-err': '0.28', '+err': '0.24'}, 'sat_10.5+PB19': {'median': '17.12', '-err': '0.30', '+err': '0.26'}, 'sat._18+PB19': {'median': '17.12', '-err': '0.32', '+err': '0.27'}, 'sat_10.5+BM18': {'median': '17.06', '-err': '0.12', '+err': '0.10'}, 'sat._18+BM18': {'median': '17.05', '-err': '0.14', '+err': '0.10'}}, {'Name': 'Pegasus3', 'no_cosmo_prior': {'median': '17.82', '-err': '2.10', '+err': '1.01'}, 'sat._10.5': {'median': '16.72', '-err': '0.72', '+err': '0.60'}, 'sat._18': {'median': '17.23', '-err': '0.51', '+err': '0.44'}, 'sat_10.5+PB13': {'median': '16.41', '-err': '0.28', '+err': '0.29'}, 'sat._18+PB13': {'median': '16.45', '-err': '0.31', '+err': '0.31'}, 'sat_10.5+BM13': {'median': '16.78', '-err': '0.51', '+err': '0.46'}, 'sat._18+BM13': {'median': '17.00', '-err': '0.66', '+err': '0.50'}, 'sat_10.5+PB19': {'median': '16.88', '-err': '0.74', '+err': '0.47'}, 'sat._18+PB19': {'median': '17.17', '-err': '0.39', '+err': '0.35'}, 'sat_10.5+BM18': {'median': '17.35', '-err': '0.42', '+err': '0.39'}, 'sat._18+BM18': {'median': '17.35', '-err': '0.39', '+err': '0.39'}}, {'Name': 'Pisces2', 'no_cosmo_prior': {'median': '17.24', '-err': '1.17', '+err': '0.91'}, 'sat._10.5': {'median': '16.74', '-err': '0.56', '+err': '0.55'}, 'sat._18': {'median': '17.15', '-err': '0.48', '+err': '0.46'}, 'sat_10.5+PB13': {'median': '16.70', '-err': '0.27', '+err': '0.27'}, 'sat._18+PB13': {'median': '16.72', '-err': '0.30', '+err': '0.30'}, 'sat_10.5+BM13': {'median': '16.87', '-err': '0.38', '+err': '0.42'}, 'sat._18+BM13': {'median': '16.94', '-err': '0.45', '+err': '0.47'}, 'sat_10.5+PB19': {'median': '16.93', '-err': '0.60', '+err': '0.48'}, 'sat._18+PB19': {'median': '17.15', '-err': '0.46', '+err': '0.42'}, 'sat_10.5+BM18': {'median': '17.47', '-err': '0.33', '+err': '0.33'}, 'sat._18+BM18': {'median': '17.50', '-err': '0.34', '+err': '0.34'}}, {'Name': 'Reticulum2', 'no_cosmo_prior': {'median': '18.98', '-err': '0.36', '+err': '0.37'}, 'sat._10.5': {'median': '18.65', '-err': '0.30', '+err': '0.30'}, 'sat._18': {'median': '18.80', '-err': '0.28', '+err': '0.27'}, 'sat_10.5+PB13': {'median': '18.31', '-err': '0.20', '+err': '0.21'}, 'sat._18+PB13': {'median': '18.35', '-err': '0.20', '+err': '0.21'}, 'sat_10.5+BM13': {'median': '18.57', '-err': '0.28', '+err': '0.27'}, 'sat._18+BM13': {'median': '18.70', '-err': '0.32', '+err': '0.29'}, 'sat_10.5+PB19': {'median': '18.68', '-err': '0.28', '+err': '0.25'}, 'sat._18+PB19': {'median': '18.75', '-err': '0.26', '+err': '0.25'}, 'sat_10.5+BM18': {'median': '18.81', '-err': '0.27', '+err': '0.27'}, 'sat._18+BM18': {'median': '18.82', '-err': '0.27', '+err': '0.26'}}, {'Name': 'Segue1', 'no_cosmo_prior': {'median': '19.74', '-err': '0.41', '+err': '0.39'}, 'sat._10.5': {'median': '19.20', '-err': '0.39', '+err': '0.33'}, 'sat._18': {'median': '19.32', '-err': '0.33', '+err': '0.28'}, 'sat_10.5+PB13': {'median': '18.22', '-err': '0.31', '+err': '0.29'}, 'sat._18+PB13': {'median': '18.36', '-err': '0.33', '+err': '0.31'}, 'sat_10.5+BM13': {'median': '18.95', '-err': '0.37', '+err': '0.30'}, 'sat._18+BM13': {'median': '19.23', '-err': '0.30', '+err': '0.27'}, 'sat_10.5+PB19': {'median': '18.98', '-err': '0.34', '+err': '0.30'}, 'sat._18+PB19': {'median': '19.21', '-err': '0.29', '+err': '0.25'}, 'sat_10.5+BM18': {'median': '19.20', '-err': '0.35', '+err': '0.31'}, 'sat._18+BM18': {'median': '19.23', '-err': '0.36', '+err': '0.30'}}, {'Name': 'Segue2', 'no_cosmo_prior': {'median': '18.02', '-err': '2.06', '+err': '0.70'}, 'sat._10.5': {'median': '18.01', '-err': '0.50', '+err': '0.46'}, 'sat._18': {'median': '18.42', '-err': '0.41', '+err': '0.37'}, 'sat_10.5+PB13': {'median': '17.66', '-err': '0.26', '+err': '0.26'}, 'sat._18+PB13': {'median': '17.72', '-err': '0.28', '+err': '0.27'}, 'sat_10.5+BM13': {'median': '17.93', '-err': '0.44', '+err': '0.40'}, 'sat._18+BM13': {'median': '18.11', '-err': '0.60', '+err': '0.44'}, 'sat_10.5+PB19': {'median': '18.11', '-err': '0.51', '+err': '0.37'}, 'sat._18+PB19': {'median': '18.37', '-err': '0.37', '+err': '0.30'}, 'sat_10.5+BM18': {'median': '18.38', '-err': '0.30', '+err': '0.32'}, 'sat._18+BM18': {'median': '18.39', '-err': '0.34', '+err': '0.35'}}, {'Name': 'Triangulum2', 'no_cosmo_prior': {'median': '14.36', '-err': '3.86', '+err': '2.91'}, 'sat._10.5': {'median': '17.75', '-err': '0.86', '+err': '0.67'}, 'sat._18': {'median': '18.54', '-err': '0.49', '+err': '0.43'}, 'sat_10.5+PB13': {'median': '17.56', '-err': '0.29', '+err': '0.29'}, 'sat._18+PB13': {'median': '17.63', '-err': '0.28', '+err': '0.27'}, 'sat_10.5+BM13': {'median': '17.68', '-err': '0.49', '+err': '0.55'}, 'sat._18+BM13': {'median': '17.96', '-err': '0.68', '+err': '0.65'}, 'sat_10.5+PB19': {'median': '17.77', '-err': '0.70', '+err': '0.57'}, 'sat._18+PB19': {'median': '18.44', '-err': '0.42', '+err': '0.36'}, 'sat_10.5+BM18': {'median': '18.43', '-err': '0.38', '+err': '0.37'}, 'sat._18+BM18': {'median': '18.39', '-err': '0.36', '+err': '0.43'}}, {'Name': 'Tucana2', 'no_cosmo_prior': {'median': '18.14', '-err': '0.52', '+err': '0.58'}, 'sat._10.5': {'median': '17.87', '-err': '0.36', '+err': '0.38'}, 'sat._18': {'median': '18.16', '-err': '0.35', '+err': '0.36'}, 'sat_10.5+PB13': {'median': '17.57', '-err': '0.25', '+err': '0.26'}, 'sat._18+PB13': {'median': '17.68', '-err': '0.23', '+err': '0.25'}, 'sat_10.5+BM13': {'median': '17.84', '-err': '0.30', '+err': '0.33'}, 'sat._18+BM13': {'median': '18.02', '-err': '0.35', '+err': '0.36'}, 'sat_10.5+PB19': {'median': '17.96', '-err': '0.35', '+err': '0.33'}, 'sat._18+PB19': {'median': '18.10', '-err': '0.32', '+err': '0.32'}, 'sat_10.5+BM18': {'median': '18.20', '-err': '0.30', '+err': '0.32'}, 'sat._18+BM18': {'median': '18.19', '-err': '0.29', '+err': '0.32'}}, {'Name': 'Tucana3', 'no_cosmo_prior': {'median': '15.71', '-err': '4.35', '+err': '1.79'}, 'sat._10.5': {'median': '17.52', '-err': '0.56', '+err': '0.45'}, 'sat._18': {'median': '18.06', '-err': '0.33', '+err': '0.34'}, 'sat_10.5+PB13': {'median': '17.73', '-err': '0.27', '+err': '0.25'}, 'sat._18+PB13': {'median': '17.80', '-err': '0.25', '+err': '0.26'}, 'sat_10.5+BM13': {'median': '17.63', '-err': '0.29', '+err': '0.35'}, 'sat._18+BM13': {'median': '17.65', '-err': '0.30', '+err': '0.35'}, 'sat_10.5+PB19': {'median': '17.53', '-err': '0.38', '+err': '0.46'}, 'sat._18+PB19': {'median': '18.05', '-err': '0.50', '+err': '0.43'}, 'sat_10.5+BM18': {'median': '18.29', '-err': '0.24', '+err': '0.27'}, 'sat._18+BM18': {'median': '18.25', '-err': '0.23', '+err': '0.27'}}, {'Name': 'UrsaMajor1', 'no_cosmo_prior': {'median': '18.66', '-err': '0.29', '+err': '0.30'}, 'sat._10.5': {'median': '18.30', '-err': '0.22', '+err': '0.22'}, 'sat._18': {'median': '18.34', '-err': '0.20', '+err': '0.20'}, 'sat_10.5+PB13': {'median': '18.03', '-err': '0.19', '+err': '0.21'}, 'sat._18+PB13': {'median': '18.09', '-err': '0.20', '+err': '0.19'}, 'sat_10.5+BM13': {'median': '18.26', '-err': '0.20', '+err': '0.20'}, 'sat._18+BM13': {'median': '18.27', '-err': '0.19', '+err': '0.20'}, 'sat_10.5+PB19': {'median': '18.30', '-err': '0.20', '+err': '0.20'}, 'sat._18+PB19': {'median': '18.30', '-err': '0.19', '+err': '0.20'}, 'sat_10.5+BM18': {'median': '18.39', '-err': '0.19', '+err': '0.19'}, 'sat._18+BM18': {'median': '18.38', '-err': '0.19', '+err': '0.20'}}, {'Name': 'UrsaMajor2', 'no_cosmo_prior': {'median': '19.54', '-err': '0.38', '+err': '0.38'}, 'sat._10.5': {'median': '19.01', '-err': '0.28', '+err': '0.29'}, 'sat._18': {'median': '19.10', '-err': '0.24', '+err': '0.25'}, 'sat_10.5+PB13': {'median': '18.56', '-err': '0.24', '+err': '0.23'}, 'sat._18+PB13': {'median': '18.63', '-err': '0.24', '+err': '0.24'}, 'sat_10.5+BM13': {'median': '18.91', '-err': '0.25', '+err': '0.26'}, 'sat._18+BM13': {'median': '19.05', '-err': '0.26', '+err': '0.25'}, 'sat_10.5+PB19': {'median': '18.98', '-err': '0.25', '+err': '0.25'}, 'sat._18+PB19': {'median': '19.04', '-err': '0.24', '+err': '0.25'}, 'sat_10.5+BM18': {'median': '19.12', '-err': '0.27', '+err': '0.26'}, 'sat._18+BM18': {'median': '19.13', '-err': '0.27', '+err': '0.27'}}, {'Name': 'Willman1', 'no_cosmo_prior': {'median': '19.50', '-err': '0.44', '+err': '0.44'}, 'sat._10.5': {'median': '18.85', '-err': '0.38', '+err': '0.34'}, 'sat._18': {'median': '18.95', '-err': '0.34', '+err': '0.29'}, 'sat_10.5+PB13': {'median': '18.04', '-err': '0.28', '+err': '0.27'}, 'sat._18+PB13': {'median': '18.14', '-err': '0.30', '+err': '0.27'}, 'sat_10.5+BM13': {'median': '18.59', '-err': '0.32', '+err': '0.30'}, 'sat._18+BM13': {'median': '18.86', '-err': '0.32', '+err': '0.29'}, 'sat_10.5+PB19': {'median': '18.70', '-err': '0.33', '+err': '0.29'}, 'sat._18+PB19': {'median': '18.84', '-err': '0.28', '+err': '0.26'}, 'sat_10.5+BM18': {'median': '18.86', '-err': '0.33', '+err': '0.32'}, 'sat._18+BM18': {'median': '18.92', '-err': '0.35', '+err': '0.31'}}]\n"
     ]
    }
   ],
   "source": [
    "import pandas as pd\n",
    "import re\n",
    "import json\n",
    "\n",
    "df = pd.read_csv(\"j_satellite_ufd.csv\")\n",
    "\n",
    "def parse_values(s):\n",
    "    # return re.findall(r'((?:\\-|\\+|\\d|\\.)+)',s)\n",
    "    return re.findall(r'((?:\\d|\\.)+)',s)\n",
    "\n",
    "def to_dict(sr):\n",
    "    ret = {}\n",
    "    for key,val in sr.items():\n",
    "        if key == \"Name\":\n",
    "            ret[\"Name\"] = val\n",
    "        else:\n",
    "            value_keys = [\"median\", \"-err\", \"+err\"]\n",
    "            ret[key] = {_key:_val for _key,_val in zip(value_keys,parse_values(val)) }\n",
    "    return ret\n",
    "\n",
    "src_json = list(df.apply(to_dict,axis=1))\n",
    "print(src_json)\n",
    "\n",
    "with open(\"Horigome2022_ufd.json\",\"w\") as f:\n",
    "    json.dump(src_json,f,indent=2)\n",
    "\n",
    "# def myparse()"
   ]
  },
  {
   "cell_type": "code",
   "execution_count": null,
   "metadata": {},
   "outputs": [],
   "source": []
  }
 ],
 "metadata": {
  "kernelspec": {
   "display_name": "Python 3.8.8 ('base')",
   "language": "python",
   "name": "python3"
  },
  "language_info": {
   "codemirror_mode": {
    "name": "ipython",
    "version": 3
   },
   "file_extension": ".py",
   "mimetype": "text/x-python",
   "name": "python",
   "nbconvert_exporter": "python",
   "pygments_lexer": "ipython3",
   "version": "3.8.8"
  },
  "orig_nbformat": 4,
  "vscode": {
   "interpreter": {
    "hash": "40d3a090f54c6569ab1632332b64b2c03c39dcf918b08424e98f38b5ae0af88f"
   }
  }
 },
 "nbformat": 4,
 "nbformat_minor": 2
}
